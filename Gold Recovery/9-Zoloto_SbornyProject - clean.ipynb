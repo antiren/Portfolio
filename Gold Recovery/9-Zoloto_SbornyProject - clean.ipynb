{
 "cells": [
  {
   "cell_type": "markdown",
   "metadata": {
    "toc": true
   },
   "source": [
    "<h1>Содержание<span class=\"tocSkip\"></span></h1>\n",
    "<div class=\"toc\"><ul class=\"toc-item\"><li><span><a href=\"#Подготовка-данных\" data-toc-modified-id=\"Подготовка-данных-1\"><span class=\"toc-item-num\">1&nbsp;&nbsp;</span>Подготовка данных</a></span><ul class=\"toc-item\"><li><span><a href=\"#Загрузка-и-первичный-обзор-данных\" data-toc-modified-id=\"Загрузка-и-первичный-обзор-данных-1.1\"><span class=\"toc-item-num\">1.1&nbsp;&nbsp;</span>Загрузка и первичный обзор данных</a></span></li><li><span><a href=\"#Предобработка-данных\" data-toc-modified-id=\"Предобработка-данных-1.2\"><span class=\"toc-item-num\">1.2&nbsp;&nbsp;</span>Предобработка данных</a></span></li><li><span><a href=\"#Промежуточный-вывод\" data-toc-modified-id=\"Промежуточный-вывод-1.3\"><span class=\"toc-item-num\">1.3&nbsp;&nbsp;</span>Промежуточный вывод</a></span></li></ul></li><li><span><a href=\"#Анализ-данных\" data-toc-modified-id=\"Анализ-данных-2\"><span class=\"toc-item-num\">2&nbsp;&nbsp;</span>Анализ данных</a></span><ul class=\"toc-item\"><li><span><a href=\"#Концентрация-металлов-на-различных-этапах-обработки\" data-toc-modified-id=\"Концентрация-металлов-на-различных-этапах-обработки-2.1\"><span class=\"toc-item-num\">2.1&nbsp;&nbsp;</span>Концентрация металлов на различных этапах обработки</a></span></li><li><span><a href=\"#Распределение-размеров-гранул\" data-toc-modified-id=\"Распределение-размеров-гранул-2.2\"><span class=\"toc-item-num\">2.2&nbsp;&nbsp;</span>Распределение размеров гранул</a></span></li><li><span><a href=\"#Cуммарная-концентрация-металлов-на-разных-стадиях\" data-toc-modified-id=\"Cуммарная-концентрация-металлов-на-разных-стадиях-2.3\"><span class=\"toc-item-num\">2.3&nbsp;&nbsp;</span>Cуммарная концентрация металлов на разных стадиях</a></span></li><li><span><a href=\"#Исследование-выбросов\" data-toc-modified-id=\"Исследование-выбросов-2.4\"><span class=\"toc-item-num\">2.4&nbsp;&nbsp;</span>Исследование выбросов</a></span></li><li><span><a href=\"#Промежуточный-вывод\" data-toc-modified-id=\"Промежуточный-вывод-2.5\"><span class=\"toc-item-num\">2.5&nbsp;&nbsp;</span>Промежуточный вывод</a></span></li></ul></li><li><span><a href=\"#Модель\" data-toc-modified-id=\"Модель-3\"><span class=\"toc-item-num\">3&nbsp;&nbsp;</span>Модель</a></span><ul class=\"toc-item\"><li><span><a href=\"#Подготовка-обучающих-данных\" data-toc-modified-id=\"Подготовка-обучающих-данных-3.1\"><span class=\"toc-item-num\">3.1&nbsp;&nbsp;</span>Подготовка обучающих данных</a></span></li><li><span><a href=\"#Функция-для-оценки-моделей\" data-toc-modified-id=\"Функция-для-оценки-моделей-3.2\"><span class=\"toc-item-num\">3.2&nbsp;&nbsp;</span>Функция для оценки моделей</a></span></li><li><span><a href=\"#Разделение-выборок-на-признаки\" data-toc-modified-id=\"Разделение-выборок-на-признаки-3.3\"><span class=\"toc-item-num\">3.3&nbsp;&nbsp;</span>Разделение выборок на признаки</a></span></li><li><span><a href=\"#Линейная-регрессия\" data-toc-modified-id=\"Линейная-регрессия-3.4\"><span class=\"toc-item-num\">3.4&nbsp;&nbsp;</span>Линейная регрессия</a></span></li><li><span><a href=\"#Дерево-решений-в-регрессии\" data-toc-modified-id=\"Дерево-решений-в-регрессии-3.5\"><span class=\"toc-item-num\">3.5&nbsp;&nbsp;</span>Дерево решений в регрессии</a></span></li><li><span><a href=\"#Случайный-лес-в-регрессии\" data-toc-modified-id=\"Случайный-лес-в-регрессии-3.6\"><span class=\"toc-item-num\">3.6&nbsp;&nbsp;</span>Случайный лес в регрессии</a></span></li><li><span><a href=\"#Проверка-модели-на-адекватность\" data-toc-modified-id=\"Проверка-модели-на-адекватность-3.7\"><span class=\"toc-item-num\">3.7&nbsp;&nbsp;</span>Проверка модели на адекватность</a></span></li><li><span><a href=\"#Промежуточный-вывод\" data-toc-modified-id=\"Промежуточный-вывод-3.8\"><span class=\"toc-item-num\">3.8&nbsp;&nbsp;</span>Промежуточный вывод</a></span></li></ul></li><li><span><a href=\"#Общий-вывод\" data-toc-modified-id=\"Общий-вывод-4\"><span class=\"toc-item-num\">4&nbsp;&nbsp;</span>Общий вывод</a></span><ul class=\"toc-item\"><li><span><a href=\"#Подготовка-данных\" data-toc-modified-id=\"Подготовка-данных-4.1\"><span class=\"toc-item-num\">4.1&nbsp;&nbsp;</span>Подготовка данных</a></span></li><li><span><a href=\"#Анализ-данных\" data-toc-modified-id=\"Анализ-данных-4.2\"><span class=\"toc-item-num\">4.2&nbsp;&nbsp;</span>Анализ данных</a></span></li><li><span><a href=\"#Обучение-модели-и-тестирование\" data-toc-modified-id=\"Обучение-модели-и-тестирование-4.3\"><span class=\"toc-item-num\">4.3&nbsp;&nbsp;</span>Обучение модели и тестирование</a></span></li></ul></li></ul></div>"
   ]
  },
  {
   "cell_type": "markdown",
   "metadata": {},
   "source": [
    "# Восстановление золота из руды"
   ]
  },
  {
   "cell_type": "markdown",
   "metadata": {},
   "source": [
    "Компания «Цифры» разрабатывает решения для эффективной работы промышленных предприятий. Компании были предоставлены данные с параметрами добычи и очистки. \n",
    "\n",
    "**Задача:** подготовить прототип модели машинного обучения для предприятия; модель должна предсказать коэффициент восстановления золота из золотосодержащей руды с целью оптимизировать производство, чтобы не запускать предприятие с убыточными характеристиками.\n",
    "\n",
    "**План работы:**\n",
    "1. Подготовка данных;\n",
    "2. Исследовательский анализ данных;\n",
    "3. Построение и обучение модели.\n"
   ]
  },
  {
   "cell_type": "markdown",
   "metadata": {},
   "source": [
    "## Подготовка данных"
   ]
  },
  {
   "cell_type": "markdown",
   "metadata": {},
   "source": [
    "### Загрузка и первичный обзор данных"
   ]
  },
  {
   "cell_type": "code",
   "execution_count": 1,
   "metadata": {},
   "outputs": [],
   "source": [
    "import pandas as pd\n",
    "import matplotlib.pyplot as plt\n",
    "import seaborn as sns\n",
    "import numpy as np\n",
    "from sklearn.linear_model import LinearRegression\n",
    "from sklearn.model_selection import cross_val_score\n",
    "from sklearn.metrics import make_scorer\n",
    "from sklearn.tree import DecisionTreeRegressor\n",
    "from sklearn.ensemble import RandomForestRegressor\n",
    "from sklearn.metrics import mean_absolute_error \n",
    "from sklearn.dummy import DummyRegressor \n",
    "import os"
   ]
  },
  {
   "cell_type": "code",
   "execution_count": 2,
   "metadata": {},
   "outputs": [],
   "source": [
    "data_train = pd.read_csv('/datasets/gold_industry_train.csv')\n",
    "data_test = pd.read_csv('/datasets/gold_industry_test.csv')\n",
    "data_full = pd.read_csv('/datasets/gold_industry_full.csv')"
   ]
  },
  {
   "cell_type": "code",
   "execution_count": 3,
   "metadata": {},
   "outputs": [
    {
     "data": {
      "text/html": [
       "<div>\n",
       "<style scoped>\n",
       "    .dataframe tbody tr th:only-of-type {\n",
       "        vertical-align: middle;\n",
       "    }\n",
       "\n",
       "    .dataframe tbody tr th {\n",
       "        vertical-align: top;\n",
       "    }\n",
       "\n",
       "    .dataframe thead th {\n",
       "        text-align: right;\n",
       "    }\n",
       "</style>\n",
       "<table border=\"1\" class=\"dataframe\">\n",
       "  <thead>\n",
       "    <tr style=\"text-align: right;\">\n",
       "      <th></th>\n",
       "      <th>date</th>\n",
       "      <th>rougher.input.feed_au</th>\n",
       "      <th>rougher.input.feed_ag</th>\n",
       "      <th>rougher.input.feed_pb</th>\n",
       "      <th>rougher.input.feed_sol</th>\n",
       "      <th>rougher.input.feed_rate</th>\n",
       "      <th>rougher.input.feed_size</th>\n",
       "      <th>rougher.input.floatbank10_sulfate</th>\n",
       "      <th>rougher.input.floatbank10_xanthate</th>\n",
       "      <th>rougher.state.floatbank10_a_air</th>\n",
       "      <th>...</th>\n",
       "      <th>secondary_cleaner.output.tail_sol</th>\n",
       "      <th>final.output.concentrate_au</th>\n",
       "      <th>final.output.concentrate_ag</th>\n",
       "      <th>final.output.concentrate_pb</th>\n",
       "      <th>final.output.concentrate_sol</th>\n",
       "      <th>final.output.recovery</th>\n",
       "      <th>final.output.tail_au</th>\n",
       "      <th>final.output.tail_ag</th>\n",
       "      <th>final.output.tail_pb</th>\n",
       "      <th>final.output.tail_sol</th>\n",
       "    </tr>\n",
       "  </thead>\n",
       "  <tbody>\n",
       "    <tr>\n",
       "      <th>0</th>\n",
       "      <td>2016-01-15 00:00:00</td>\n",
       "      <td>6.486150</td>\n",
       "      <td>6.100378</td>\n",
       "      <td>2.284912</td>\n",
       "      <td>36.808594</td>\n",
       "      <td>523.546326</td>\n",
       "      <td>55.486599</td>\n",
       "      <td>11.986616</td>\n",
       "      <td>6.007990</td>\n",
       "      <td>999.706909</td>\n",
       "      <td>...</td>\n",
       "      <td>8.764648</td>\n",
       "      <td>42.192020</td>\n",
       "      <td>6.055403</td>\n",
       "      <td>9.889648</td>\n",
       "      <td>5.507324</td>\n",
       "      <td>70.541216</td>\n",
       "      <td>2.143149</td>\n",
       "      <td>10.411962</td>\n",
       "      <td>0.895447</td>\n",
       "      <td>16.904297</td>\n",
       "    </tr>\n",
       "    <tr>\n",
       "      <th>1</th>\n",
       "      <td>2016-01-15 01:00:00</td>\n",
       "      <td>6.478583</td>\n",
       "      <td>6.161113</td>\n",
       "      <td>2.266033</td>\n",
       "      <td>35.753385</td>\n",
       "      <td>525.290581</td>\n",
       "      <td>57.278666</td>\n",
       "      <td>11.971193</td>\n",
       "      <td>6.005766</td>\n",
       "      <td>1000.286398</td>\n",
       "      <td>...</td>\n",
       "      <td>9.001494</td>\n",
       "      <td>42.701629</td>\n",
       "      <td>6.029369</td>\n",
       "      <td>9.968944</td>\n",
       "      <td>5.257781</td>\n",
       "      <td>69.266198</td>\n",
       "      <td>2.224930</td>\n",
       "      <td>10.462676</td>\n",
       "      <td>0.927452</td>\n",
       "      <td>16.634514</td>\n",
       "    </tr>\n",
       "    <tr>\n",
       "      <th>2</th>\n",
       "      <td>2016-01-15 02:00:00</td>\n",
       "      <td>6.362222</td>\n",
       "      <td>6.116455</td>\n",
       "      <td>2.159622</td>\n",
       "      <td>35.971630</td>\n",
       "      <td>530.026610</td>\n",
       "      <td>57.510649</td>\n",
       "      <td>11.920603</td>\n",
       "      <td>6.197377</td>\n",
       "      <td>999.719565</td>\n",
       "      <td>...</td>\n",
       "      <td>8.842896</td>\n",
       "      <td>42.657501</td>\n",
       "      <td>6.055926</td>\n",
       "      <td>10.213995</td>\n",
       "      <td>5.383759</td>\n",
       "      <td>68.116445</td>\n",
       "      <td>2.257889</td>\n",
       "      <td>10.507046</td>\n",
       "      <td>0.953716</td>\n",
       "      <td>16.208849</td>\n",
       "    </tr>\n",
       "    <tr>\n",
       "      <th>3</th>\n",
       "      <td>2016-01-15 03:00:00</td>\n",
       "      <td>6.118189</td>\n",
       "      <td>6.043309</td>\n",
       "      <td>2.037807</td>\n",
       "      <td>36.862241</td>\n",
       "      <td>542.590390</td>\n",
       "      <td>57.792734</td>\n",
       "      <td>11.630094</td>\n",
       "      <td>6.203177</td>\n",
       "      <td>999.814770</td>\n",
       "      <td>...</td>\n",
       "      <td>9.122857</td>\n",
       "      <td>42.689819</td>\n",
       "      <td>6.047977</td>\n",
       "      <td>9.977019</td>\n",
       "      <td>4.858634</td>\n",
       "      <td>68.347543</td>\n",
       "      <td>2.146849</td>\n",
       "      <td>10.422762</td>\n",
       "      <td>0.883763</td>\n",
       "      <td>16.532835</td>\n",
       "    </tr>\n",
       "    <tr>\n",
       "      <th>4</th>\n",
       "      <td>2016-01-15 04:00:00</td>\n",
       "      <td>5.663707</td>\n",
       "      <td>6.060915</td>\n",
       "      <td>1.786875</td>\n",
       "      <td>34.347666</td>\n",
       "      <td>540.531893</td>\n",
       "      <td>56.047189</td>\n",
       "      <td>10.957755</td>\n",
       "      <td>6.198826</td>\n",
       "      <td>999.678690</td>\n",
       "      <td>...</td>\n",
       "      <td>8.871028</td>\n",
       "      <td>42.774141</td>\n",
       "      <td>6.148599</td>\n",
       "      <td>10.142511</td>\n",
       "      <td>4.939416</td>\n",
       "      <td>66.927016</td>\n",
       "      <td>2.055292</td>\n",
       "      <td>10.360302</td>\n",
       "      <td>0.792826</td>\n",
       "      <td>16.525686</td>\n",
       "    </tr>\n",
       "  </tbody>\n",
       "</table>\n",
       "<p>5 rows × 87 columns</p>\n",
       "</div>"
      ],
      "text/plain": [
       "                  date  rougher.input.feed_au  rougher.input.feed_ag  \\\n",
       "0  2016-01-15 00:00:00               6.486150               6.100378   \n",
       "1  2016-01-15 01:00:00               6.478583               6.161113   \n",
       "2  2016-01-15 02:00:00               6.362222               6.116455   \n",
       "3  2016-01-15 03:00:00               6.118189               6.043309   \n",
       "4  2016-01-15 04:00:00               5.663707               6.060915   \n",
       "\n",
       "   rougher.input.feed_pb  rougher.input.feed_sol  rougher.input.feed_rate  \\\n",
       "0               2.284912               36.808594               523.546326   \n",
       "1               2.266033               35.753385               525.290581   \n",
       "2               2.159622               35.971630               530.026610   \n",
       "3               2.037807               36.862241               542.590390   \n",
       "4               1.786875               34.347666               540.531893   \n",
       "\n",
       "   rougher.input.feed_size  rougher.input.floatbank10_sulfate  \\\n",
       "0                55.486599                          11.986616   \n",
       "1                57.278666                          11.971193   \n",
       "2                57.510649                          11.920603   \n",
       "3                57.792734                          11.630094   \n",
       "4                56.047189                          10.957755   \n",
       "\n",
       "   rougher.input.floatbank10_xanthate  rougher.state.floatbank10_a_air  ...  \\\n",
       "0                            6.007990                       999.706909  ...   \n",
       "1                            6.005766                      1000.286398  ...   \n",
       "2                            6.197377                       999.719565  ...   \n",
       "3                            6.203177                       999.814770  ...   \n",
       "4                            6.198826                       999.678690  ...   \n",
       "\n",
       "   secondary_cleaner.output.tail_sol  final.output.concentrate_au  \\\n",
       "0                           8.764648                    42.192020   \n",
       "1                           9.001494                    42.701629   \n",
       "2                           8.842896                    42.657501   \n",
       "3                           9.122857                    42.689819   \n",
       "4                           8.871028                    42.774141   \n",
       "\n",
       "   final.output.concentrate_ag  final.output.concentrate_pb  \\\n",
       "0                     6.055403                     9.889648   \n",
       "1                     6.029369                     9.968944   \n",
       "2                     6.055926                    10.213995   \n",
       "3                     6.047977                     9.977019   \n",
       "4                     6.148599                    10.142511   \n",
       "\n",
       "   final.output.concentrate_sol  final.output.recovery  final.output.tail_au  \\\n",
       "0                      5.507324              70.541216              2.143149   \n",
       "1                      5.257781              69.266198              2.224930   \n",
       "2                      5.383759              68.116445              2.257889   \n",
       "3                      4.858634              68.347543              2.146849   \n",
       "4                      4.939416              66.927016              2.055292   \n",
       "\n",
       "   final.output.tail_ag  final.output.tail_pb  final.output.tail_sol  \n",
       "0             10.411962              0.895447              16.904297  \n",
       "1             10.462676              0.927452              16.634514  \n",
       "2             10.507046              0.953716              16.208849  \n",
       "3             10.422762              0.883763              16.532835  \n",
       "4             10.360302              0.792826              16.525686  \n",
       "\n",
       "[5 rows x 87 columns]"
      ]
     },
     "metadata": {},
     "output_type": "display_data"
    },
    {
     "data": {
      "text/plain": [
       "'Количество дубликатов:'"
      ]
     },
     "metadata": {},
     "output_type": "display_data"
    },
    {
     "data": {
      "text/plain": [
       "0"
      ]
     },
     "metadata": {},
     "output_type": "display_data"
    },
    {
     "data": {
      "text/plain": [
       "'Количество пропусков:'"
      ]
     },
     "metadata": {},
     "output_type": "display_data"
    },
    {
     "data": {
      "text/plain": [
       "date                       0\n",
       "rougher.input.feed_au      0\n",
       "rougher.input.feed_ag      0\n",
       "rougher.input.feed_pb     72\n",
       "rougher.input.feed_sol    77\n",
       "                          ..\n",
       "final.output.recovery      0\n",
       "final.output.tail_au       0\n",
       "final.output.tail_ag       1\n",
       "final.output.tail_pb      75\n",
       "final.output.tail_sol      5\n",
       "Length: 87, dtype: int64"
      ]
     },
     "metadata": {},
     "output_type": "display_data"
    },
    {
     "name": "stdout",
     "output_type": "stream",
     "text": [
      "<class 'pandas.core.frame.DataFrame'>\n",
      "RangeIndex: 14579 entries, 0 to 14578\n",
      "Data columns (total 87 columns):\n",
      " #   Column                                              Non-Null Count  Dtype  \n",
      "---  ------                                              --------------  -----  \n",
      " 0   date                                                14579 non-null  object \n",
      " 1   rougher.input.feed_au                               14579 non-null  float64\n",
      " 2   rougher.input.feed_ag                               14579 non-null  float64\n",
      " 3   rougher.input.feed_pb                               14507 non-null  float64\n",
      " 4   rougher.input.feed_sol                              14502 non-null  float64\n",
      " 5   rougher.input.feed_rate                             14572 non-null  float64\n",
      " 6   rougher.input.feed_size                             14478 non-null  float64\n",
      " 7   rougher.input.floatbank10_sulfate                   14548 non-null  float64\n",
      " 8   rougher.input.floatbank10_xanthate                  14572 non-null  float64\n",
      " 9   rougher.state.floatbank10_a_air                     14579 non-null  float64\n",
      " 10  rougher.state.floatbank10_a_level                   14579 non-null  float64\n",
      " 11  rougher.state.floatbank10_b_air                     14579 non-null  float64\n",
      " 12  rougher.state.floatbank10_b_level                   14579 non-null  float64\n",
      " 13  rougher.state.floatbank10_c_air                     14579 non-null  float64\n",
      " 14  rougher.state.floatbank10_c_level                   14579 non-null  float64\n",
      " 15  rougher.state.floatbank10_d_air                     14579 non-null  float64\n",
      " 16  rougher.state.floatbank10_d_level                   14579 non-null  float64\n",
      " 17  rougher.state.floatbank10_e_air                     14150 non-null  float64\n",
      " 18  rougher.state.floatbank10_e_level                   14579 non-null  float64\n",
      " 19  rougher.state.floatbank10_f_air                     14579 non-null  float64\n",
      " 20  rougher.state.floatbank10_f_level                   14579 non-null  float64\n",
      " 21  rougher.input.floatbank11_sulfate                   14543 non-null  float64\n",
      " 22  rougher.input.floatbank11_xanthate                  14172 non-null  float64\n",
      " 23  rougher.calculation.sulfate_to_au_concentrate       14578 non-null  float64\n",
      " 24  rougher.calculation.floatbank10_sulfate_to_au_feed  14578 non-null  float64\n",
      " 25  rougher.calculation.floatbank11_sulfate_to_au_feed  14578 non-null  float64\n",
      " 26  rougher.calculation.au_pb_ratio                     14579 non-null  float64\n",
      " 27  rougher.output.concentrate_au                       14579 non-null  float64\n",
      " 28  rougher.output.concentrate_ag                       14579 non-null  float64\n",
      " 29  rougher.output.concentrate_pb                       14579 non-null  float64\n",
      " 30  rougher.output.concentrate_sol                      14561 non-null  float64\n",
      " 31  rougher.output.recovery                             14579 non-null  float64\n",
      " 32  rougher.output.tail_au                              14579 non-null  float64\n",
      " 33  rougher.output.tail_ag                              14578 non-null  float64\n",
      " 34  rougher.output.tail_pb                              14579 non-null  float64\n",
      " 35  rougher.output.tail_sol                             14579 non-null  float64\n",
      " 36  primary_cleaner.input.sulfate                       14556 non-null  float64\n",
      " 37  primary_cleaner.input.depressant                    14551 non-null  float64\n",
      " 38  primary_cleaner.input.feed_size                     14579 non-null  float64\n",
      " 39  primary_cleaner.input.xanthate                      14518 non-null  float64\n",
      " 40  primary_cleaner.state.floatbank8_a_air              14576 non-null  float64\n",
      " 41  primary_cleaner.state.floatbank8_a_level            14579 non-null  float64\n",
      " 42  primary_cleaner.state.floatbank8_b_air              14576 non-null  float64\n",
      " 43  primary_cleaner.state.floatbank8_b_level            14579 non-null  float64\n",
      " 44  primary_cleaner.state.floatbank8_c_air              14579 non-null  float64\n",
      " 45  primary_cleaner.state.floatbank8_c_level            14579 non-null  float64\n",
      " 46  primary_cleaner.state.floatbank8_d_air              14578 non-null  float64\n",
      " 47  primary_cleaner.state.floatbank8_d_level            14579 non-null  float64\n",
      " 48  primary_cleaner.output.concentrate_au               14579 non-null  float64\n",
      " 49  primary_cleaner.output.concentrate_ag               14579 non-null  float64\n",
      " 50  primary_cleaner.output.concentrate_pb               14491 non-null  float64\n",
      " 51  primary_cleaner.output.concentrate_sol              14314 non-null  float64\n",
      " 52  primary_cleaner.output.tail_au                      14579 non-null  float64\n",
      " 53  primary_cleaner.output.tail_ag                      14575 non-null  float64\n",
      " 54  primary_cleaner.output.tail_pb                      14573 non-null  float64\n",
      " 55  primary_cleaner.output.tail_sol                     14534 non-null  float64\n",
      " 56  secondary_cleaner.state.floatbank2_a_air            14485 non-null  float64\n",
      " 57  secondary_cleaner.state.floatbank2_a_level          14579 non-null  float64\n",
      " 58  secondary_cleaner.state.floatbank2_b_air            14557 non-null  float64\n",
      " 59  secondary_cleaner.state.floatbank2_b_level          14579 non-null  float64\n",
      " 60  secondary_cleaner.state.floatbank3_a_air            14567 non-null  float64\n",
      " 61  secondary_cleaner.state.floatbank3_a_level          14579 non-null  float64\n",
      " 62  secondary_cleaner.state.floatbank3_b_air            14579 non-null  float64\n",
      " 63  secondary_cleaner.state.floatbank3_b_level          14579 non-null  float64\n",
      " 64  secondary_cleaner.state.floatbank4_a_air            14574 non-null  float64\n",
      " 65  secondary_cleaner.state.floatbank4_a_level          14579 non-null  float64\n",
      " 66  secondary_cleaner.state.floatbank4_b_air            14579 non-null  float64\n",
      " 67  secondary_cleaner.state.floatbank4_b_level          14579 non-null  float64\n",
      " 68  secondary_cleaner.state.floatbank5_a_air            14579 non-null  float64\n",
      " 69  secondary_cleaner.state.floatbank5_a_level          14579 non-null  float64\n",
      " 70  secondary_cleaner.state.floatbank5_b_air            14579 non-null  float64\n",
      " 71  secondary_cleaner.state.floatbank5_b_level          14579 non-null  float64\n",
      " 72  secondary_cleaner.state.floatbank6_a_air            14578 non-null  float64\n",
      " 73  secondary_cleaner.state.floatbank6_a_level          14579 non-null  float64\n",
      " 74  secondary_cleaner.output.tail_au                    14579 non-null  float64\n",
      " 75  secondary_cleaner.output.tail_ag                    14578 non-null  float64\n",
      " 76  secondary_cleaner.output.tail_pb                    14575 non-null  float64\n",
      " 77  secondary_cleaner.output.tail_sol                   13659 non-null  float64\n",
      " 78  final.output.concentrate_au                         14579 non-null  float64\n",
      " 79  final.output.concentrate_ag                         14578 non-null  float64\n",
      " 80  final.output.concentrate_pb                         14578 non-null  float64\n",
      " 81  final.output.concentrate_sol                        14387 non-null  float64\n",
      " 82  final.output.recovery                               14579 non-null  float64\n",
      " 83  final.output.tail_au                                14579 non-null  float64\n",
      " 84  final.output.tail_ag                                14578 non-null  float64\n",
      " 85  final.output.tail_pb                                14504 non-null  float64\n",
      " 86  final.output.tail_sol                               14574 non-null  float64\n",
      "dtypes: float64(86), object(1)\n",
      "memory usage: 9.7+ MB\n"
     ]
    },
    {
     "data": {
      "text/html": [
       "<div>\n",
       "<style scoped>\n",
       "    .dataframe tbody tr th:only-of-type {\n",
       "        vertical-align: middle;\n",
       "    }\n",
       "\n",
       "    .dataframe tbody tr th {\n",
       "        vertical-align: top;\n",
       "    }\n",
       "\n",
       "    .dataframe thead th {\n",
       "        text-align: right;\n",
       "    }\n",
       "</style>\n",
       "<table border=\"1\" class=\"dataframe\">\n",
       "  <thead>\n",
       "    <tr style=\"text-align: right;\">\n",
       "      <th></th>\n",
       "      <th>rougher.input.feed_au</th>\n",
       "      <th>rougher.input.feed_ag</th>\n",
       "      <th>rougher.input.feed_pb</th>\n",
       "      <th>rougher.input.feed_sol</th>\n",
       "      <th>rougher.input.feed_rate</th>\n",
       "      <th>rougher.input.feed_size</th>\n",
       "      <th>rougher.input.floatbank10_sulfate</th>\n",
       "      <th>rougher.input.floatbank10_xanthate</th>\n",
       "      <th>rougher.state.floatbank10_a_air</th>\n",
       "      <th>rougher.state.floatbank10_a_level</th>\n",
       "      <th>...</th>\n",
       "      <th>secondary_cleaner.output.tail_sol</th>\n",
       "      <th>final.output.concentrate_au</th>\n",
       "      <th>final.output.concentrate_ag</th>\n",
       "      <th>final.output.concentrate_pb</th>\n",
       "      <th>final.output.concentrate_sol</th>\n",
       "      <th>final.output.recovery</th>\n",
       "      <th>final.output.tail_au</th>\n",
       "      <th>final.output.tail_ag</th>\n",
       "      <th>final.output.tail_pb</th>\n",
       "      <th>final.output.tail_sol</th>\n",
       "    </tr>\n",
       "  </thead>\n",
       "  <tbody>\n",
       "    <tr>\n",
       "      <th>count</th>\n",
       "      <td>14579.000000</td>\n",
       "      <td>14579.000000</td>\n",
       "      <td>14507.000000</td>\n",
       "      <td>14502.000000</td>\n",
       "      <td>14572.000000</td>\n",
       "      <td>14478.000000</td>\n",
       "      <td>14548.000000</td>\n",
       "      <td>14572.000000</td>\n",
       "      <td>14579.000000</td>\n",
       "      <td>14579.000000</td>\n",
       "      <td>...</td>\n",
       "      <td>13659.000000</td>\n",
       "      <td>14579.000000</td>\n",
       "      <td>14578.000000</td>\n",
       "      <td>14578.000000</td>\n",
       "      <td>14387.000000</td>\n",
       "      <td>14579.000000</td>\n",
       "      <td>14579.000000</td>\n",
       "      <td>14578.000000</td>\n",
       "      <td>14504.000000</td>\n",
       "      <td>14574.000000</td>\n",
       "    </tr>\n",
       "    <tr>\n",
       "      <th>mean</th>\n",
       "      <td>8.352941</td>\n",
       "      <td>8.877460</td>\n",
       "      <td>3.604221</td>\n",
       "      <td>36.561420</td>\n",
       "      <td>474.332784</td>\n",
       "      <td>58.922712</td>\n",
       "      <td>12.427399</td>\n",
       "      <td>5.994854</td>\n",
       "      <td>1104.208278</td>\n",
       "      <td>-379.367166</td>\n",
       "      <td>...</td>\n",
       "      <td>7.111347</td>\n",
       "      <td>43.979499</td>\n",
       "      <td>5.192145</td>\n",
       "      <td>9.923809</td>\n",
       "      <td>9.566676</td>\n",
       "      <td>66.759066</td>\n",
       "      <td>3.087939</td>\n",
       "      <td>9.731972</td>\n",
       "      <td>2.719985</td>\n",
       "      <td>10.612745</td>\n",
       "    </tr>\n",
       "    <tr>\n",
       "      <th>std</th>\n",
       "      <td>1.934376</td>\n",
       "      <td>1.922536</td>\n",
       "      <td>1.056063</td>\n",
       "      <td>5.209823</td>\n",
       "      <td>108.503552</td>\n",
       "      <td>22.407410</td>\n",
       "      <td>3.428939</td>\n",
       "      <td>1.152873</td>\n",
       "      <td>162.235606</td>\n",
       "      <td>94.652311</td>\n",
       "      <td>...</td>\n",
       "      <td>3.909951</td>\n",
       "      <td>5.471437</td>\n",
       "      <td>1.388014</td>\n",
       "      <td>1.706976</td>\n",
       "      <td>2.805654</td>\n",
       "      <td>10.619709</td>\n",
       "      <td>0.915187</td>\n",
       "      <td>2.358143</td>\n",
       "      <td>0.958929</td>\n",
       "      <td>2.871075</td>\n",
       "    </tr>\n",
       "    <tr>\n",
       "      <th>min</th>\n",
       "      <td>0.010000</td>\n",
       "      <td>0.010000</td>\n",
       "      <td>0.010000</td>\n",
       "      <td>0.010000</td>\n",
       "      <td>0.002986</td>\n",
       "      <td>0.049194</td>\n",
       "      <td>0.001083</td>\n",
       "      <td>0.000568</td>\n",
       "      <td>-0.042069</td>\n",
       "      <td>-657.949759</td>\n",
       "      <td>...</td>\n",
       "      <td>0.000000</td>\n",
       "      <td>0.000000</td>\n",
       "      <td>0.000000</td>\n",
       "      <td>0.000000</td>\n",
       "      <td>0.000000</td>\n",
       "      <td>0.000000</td>\n",
       "      <td>0.000000</td>\n",
       "      <td>0.000000</td>\n",
       "      <td>0.000000</td>\n",
       "      <td>0.000000</td>\n",
       "    </tr>\n",
       "    <tr>\n",
       "      <th>25%</th>\n",
       "      <td>6.932996</td>\n",
       "      <td>7.341922</td>\n",
       "      <td>2.880490</td>\n",
       "      <td>34.093951</td>\n",
       "      <td>411.048483</td>\n",
       "      <td>47.278490</td>\n",
       "      <td>10.002832</td>\n",
       "      <td>5.304167</td>\n",
       "      <td>999.644856</td>\n",
       "      <td>-499.861797</td>\n",
       "      <td>...</td>\n",
       "      <td>3.784897</td>\n",
       "      <td>43.345906</td>\n",
       "      <td>4.283347</td>\n",
       "      <td>9.103183</td>\n",
       "      <td>7.860030</td>\n",
       "      <td>63.114596</td>\n",
       "      <td>2.505287</td>\n",
       "      <td>8.088928</td>\n",
       "      <td>2.036512</td>\n",
       "      <td>9.013412</td>\n",
       "    </tr>\n",
       "    <tr>\n",
       "      <th>50%</th>\n",
       "      <td>8.225284</td>\n",
       "      <td>8.715859</td>\n",
       "      <td>3.532399</td>\n",
       "      <td>37.097511</td>\n",
       "      <td>498.187968</td>\n",
       "      <td>54.361187</td>\n",
       "      <td>12.003320</td>\n",
       "      <td>6.003053</td>\n",
       "      <td>1000.982624</td>\n",
       "      <td>-300.314199</td>\n",
       "      <td>...</td>\n",
       "      <td>7.629968</td>\n",
       "      <td>44.975014</td>\n",
       "      <td>5.118647</td>\n",
       "      <td>10.046455</td>\n",
       "      <td>9.301970</td>\n",
       "      <td>67.962788</td>\n",
       "      <td>3.029238</td>\n",
       "      <td>9.818512</td>\n",
       "      <td>2.774847</td>\n",
       "      <td>10.670515</td>\n",
       "    </tr>\n",
       "    <tr>\n",
       "      <th>75%</th>\n",
       "      <td>9.832210</td>\n",
       "      <td>10.255843</td>\n",
       "      <td>4.257282</td>\n",
       "      <td>39.899799</td>\n",
       "      <td>549.586552</td>\n",
       "      <td>64.464926</td>\n",
       "      <td>14.929903</td>\n",
       "      <td>6.796632</td>\n",
       "      <td>1292.663971</td>\n",
       "      <td>-299.989315</td>\n",
       "      <td>...</td>\n",
       "      <td>10.367050</td>\n",
       "      <td>46.275153</td>\n",
       "      <td>5.925380</td>\n",
       "      <td>10.981203</td>\n",
       "      <td>11.001573</td>\n",
       "      <td>72.598187</td>\n",
       "      <td>3.614098</td>\n",
       "      <td>11.169187</td>\n",
       "      <td>3.353845</td>\n",
       "      <td>12.130827</td>\n",
       "    </tr>\n",
       "    <tr>\n",
       "      <th>max</th>\n",
       "      <td>13.731330</td>\n",
       "      <td>14.596026</td>\n",
       "      <td>7.052325</td>\n",
       "      <td>53.475325</td>\n",
       "      <td>717.508837</td>\n",
       "      <td>484.967466</td>\n",
       "      <td>36.118275</td>\n",
       "      <td>9.703448</td>\n",
       "      <td>1512.299531</td>\n",
       "      <td>-273.776101</td>\n",
       "      <td>...</td>\n",
       "      <td>26.000772</td>\n",
       "      <td>52.756638</td>\n",
       "      <td>16.001945</td>\n",
       "      <td>16.705297</td>\n",
       "      <td>19.423912</td>\n",
       "      <td>100.000000</td>\n",
       "      <td>8.245022</td>\n",
       "      <td>19.552149</td>\n",
       "      <td>5.804178</td>\n",
       "      <td>22.317730</td>\n",
       "    </tr>\n",
       "  </tbody>\n",
       "</table>\n",
       "<p>8 rows × 86 columns</p>\n",
       "</div>"
      ],
      "text/plain": [
       "       rougher.input.feed_au  rougher.input.feed_ag  rougher.input.feed_pb  \\\n",
       "count           14579.000000           14579.000000           14507.000000   \n",
       "mean                8.352941               8.877460               3.604221   \n",
       "std                 1.934376               1.922536               1.056063   \n",
       "min                 0.010000               0.010000               0.010000   \n",
       "25%                 6.932996               7.341922               2.880490   \n",
       "50%                 8.225284               8.715859               3.532399   \n",
       "75%                 9.832210              10.255843               4.257282   \n",
       "max                13.731330              14.596026               7.052325   \n",
       "\n",
       "       rougher.input.feed_sol  rougher.input.feed_rate  \\\n",
       "count            14502.000000             14572.000000   \n",
       "mean                36.561420               474.332784   \n",
       "std                  5.209823               108.503552   \n",
       "min                  0.010000                 0.002986   \n",
       "25%                 34.093951               411.048483   \n",
       "50%                 37.097511               498.187968   \n",
       "75%                 39.899799               549.586552   \n",
       "max                 53.475325               717.508837   \n",
       "\n",
       "       rougher.input.feed_size  rougher.input.floatbank10_sulfate  \\\n",
       "count             14478.000000                       14548.000000   \n",
       "mean                 58.922712                          12.427399   \n",
       "std                  22.407410                           3.428939   \n",
       "min                   0.049194                           0.001083   \n",
       "25%                  47.278490                          10.002832   \n",
       "50%                  54.361187                          12.003320   \n",
       "75%                  64.464926                          14.929903   \n",
       "max                 484.967466                          36.118275   \n",
       "\n",
       "       rougher.input.floatbank10_xanthate  rougher.state.floatbank10_a_air  \\\n",
       "count                        14572.000000                     14579.000000   \n",
       "mean                             5.994854                      1104.208278   \n",
       "std                              1.152873                       162.235606   \n",
       "min                              0.000568                        -0.042069   \n",
       "25%                              5.304167                       999.644856   \n",
       "50%                              6.003053                      1000.982624   \n",
       "75%                              6.796632                      1292.663971   \n",
       "max                              9.703448                      1512.299531   \n",
       "\n",
       "       rougher.state.floatbank10_a_level  ...  \\\n",
       "count                       14579.000000  ...   \n",
       "mean                         -379.367166  ...   \n",
       "std                            94.652311  ...   \n",
       "min                          -657.949759  ...   \n",
       "25%                          -499.861797  ...   \n",
       "50%                          -300.314199  ...   \n",
       "75%                          -299.989315  ...   \n",
       "max                          -273.776101  ...   \n",
       "\n",
       "       secondary_cleaner.output.tail_sol  final.output.concentrate_au  \\\n",
       "count                       13659.000000                 14579.000000   \n",
       "mean                            7.111347                    43.979499   \n",
       "std                             3.909951                     5.471437   \n",
       "min                             0.000000                     0.000000   \n",
       "25%                             3.784897                    43.345906   \n",
       "50%                             7.629968                    44.975014   \n",
       "75%                            10.367050                    46.275153   \n",
       "max                            26.000772                    52.756638   \n",
       "\n",
       "       final.output.concentrate_ag  final.output.concentrate_pb  \\\n",
       "count                 14578.000000                 14578.000000   \n",
       "mean                      5.192145                     9.923809   \n",
       "std                       1.388014                     1.706976   \n",
       "min                       0.000000                     0.000000   \n",
       "25%                       4.283347                     9.103183   \n",
       "50%                       5.118647                    10.046455   \n",
       "75%                       5.925380                    10.981203   \n",
       "max                      16.001945                    16.705297   \n",
       "\n",
       "       final.output.concentrate_sol  final.output.recovery  \\\n",
       "count                  14387.000000           14579.000000   \n",
       "mean                       9.566676              66.759066   \n",
       "std                        2.805654              10.619709   \n",
       "min                        0.000000               0.000000   \n",
       "25%                        7.860030              63.114596   \n",
       "50%                        9.301970              67.962788   \n",
       "75%                       11.001573              72.598187   \n",
       "max                       19.423912             100.000000   \n",
       "\n",
       "       final.output.tail_au  final.output.tail_ag  final.output.tail_pb  \\\n",
       "count          14579.000000          14578.000000          14504.000000   \n",
       "mean               3.087939              9.731972              2.719985   \n",
       "std                0.915187              2.358143              0.958929   \n",
       "min                0.000000              0.000000              0.000000   \n",
       "25%                2.505287              8.088928              2.036512   \n",
       "50%                3.029238              9.818512              2.774847   \n",
       "75%                3.614098             11.169187              3.353845   \n",
       "max                8.245022             19.552149              5.804178   \n",
       "\n",
       "       final.output.tail_sol  \n",
       "count           14574.000000  \n",
       "mean               10.612745  \n",
       "std                 2.871075  \n",
       "min                 0.000000  \n",
       "25%                 9.013412  \n",
       "50%                10.670515  \n",
       "75%                12.130827  \n",
       "max                22.317730  \n",
       "\n",
       "[8 rows x 86 columns]"
      ]
     },
     "execution_count": 3,
     "metadata": {},
     "output_type": "execute_result"
    }
   ],
   "source": [
    "# проверка обучающего датасета\n",
    "\n",
    "display(data_train.head())\n",
    "display('Количество дубликатов:', data_train.duplicated().sum())\n",
    "display('Количество пропусков:', data_train.isna().sum())\n",
    "data_train.info()\n",
    "data_train.describe()"
   ]
  },
  {
   "cell_type": "markdown",
   "metadata": {},
   "source": [
    "Датасет с обущающими данными содержит определенный объем данных, дубликаты не обнаружены, при этом датасет содержит пропуски несущественного объема данных (менее 5% и во второстепенных данных)."
   ]
  },
  {
   "cell_type": "code",
   "execution_count": 4,
   "metadata": {},
   "outputs": [
    {
     "data": {
      "text/html": [
       "<div>\n",
       "<style scoped>\n",
       "    .dataframe tbody tr th:only-of-type {\n",
       "        vertical-align: middle;\n",
       "    }\n",
       "\n",
       "    .dataframe tbody tr th {\n",
       "        vertical-align: top;\n",
       "    }\n",
       "\n",
       "    .dataframe thead th {\n",
       "        text-align: right;\n",
       "    }\n",
       "</style>\n",
       "<table border=\"1\" class=\"dataframe\">\n",
       "  <thead>\n",
       "    <tr style=\"text-align: right;\">\n",
       "      <th></th>\n",
       "      <th>date</th>\n",
       "      <th>rougher.input.feed_au</th>\n",
       "      <th>rougher.input.feed_ag</th>\n",
       "      <th>rougher.input.feed_pb</th>\n",
       "      <th>rougher.input.feed_sol</th>\n",
       "      <th>rougher.input.feed_rate</th>\n",
       "      <th>rougher.input.feed_size</th>\n",
       "      <th>rougher.input.floatbank10_sulfate</th>\n",
       "      <th>rougher.input.floatbank10_xanthate</th>\n",
       "      <th>rougher.state.floatbank10_a_air</th>\n",
       "      <th>...</th>\n",
       "      <th>secondary_cleaner.state.floatbank4_a_air</th>\n",
       "      <th>secondary_cleaner.state.floatbank4_a_level</th>\n",
       "      <th>secondary_cleaner.state.floatbank4_b_air</th>\n",
       "      <th>secondary_cleaner.state.floatbank4_b_level</th>\n",
       "      <th>secondary_cleaner.state.floatbank5_a_air</th>\n",
       "      <th>secondary_cleaner.state.floatbank5_a_level</th>\n",
       "      <th>secondary_cleaner.state.floatbank5_b_air</th>\n",
       "      <th>secondary_cleaner.state.floatbank5_b_level</th>\n",
       "      <th>secondary_cleaner.state.floatbank6_a_air</th>\n",
       "      <th>secondary_cleaner.state.floatbank6_a_level</th>\n",
       "    </tr>\n",
       "  </thead>\n",
       "  <tbody>\n",
       "    <tr>\n",
       "      <th>0</th>\n",
       "      <td>2017-12-09 14:59:59</td>\n",
       "      <td>4.365491</td>\n",
       "      <td>6.158718</td>\n",
       "      <td>3.875727</td>\n",
       "      <td>39.135119</td>\n",
       "      <td>555.820208</td>\n",
       "      <td>94.544358</td>\n",
       "      <td>6.146982</td>\n",
       "      <td>9.308612</td>\n",
       "      <td>1196.238112</td>\n",
       "      <td>...</td>\n",
       "      <td>23.018622</td>\n",
       "      <td>-500.492702</td>\n",
       "      <td>20.020205</td>\n",
       "      <td>-500.220296</td>\n",
       "      <td>17.963512</td>\n",
       "      <td>-499.939490</td>\n",
       "      <td>12.990306</td>\n",
       "      <td>-500.080993</td>\n",
       "      <td>19.990336</td>\n",
       "      <td>-499.191575</td>\n",
       "    </tr>\n",
       "    <tr>\n",
       "      <th>1</th>\n",
       "      <td>2017-12-09 15:59:59</td>\n",
       "      <td>4.362781</td>\n",
       "      <td>6.048130</td>\n",
       "      <td>3.902537</td>\n",
       "      <td>39.713906</td>\n",
       "      <td>544.731687</td>\n",
       "      <td>123.742430</td>\n",
       "      <td>6.210119</td>\n",
       "      <td>9.297709</td>\n",
       "      <td>1201.904177</td>\n",
       "      <td>...</td>\n",
       "      <td>23.024963</td>\n",
       "      <td>-501.153409</td>\n",
       "      <td>20.054122</td>\n",
       "      <td>-500.314711</td>\n",
       "      <td>17.979515</td>\n",
       "      <td>-499.272871</td>\n",
       "      <td>12.992404</td>\n",
       "      <td>-499.976268</td>\n",
       "      <td>20.013986</td>\n",
       "      <td>-500.625471</td>\n",
       "    </tr>\n",
       "    <tr>\n",
       "      <th>2</th>\n",
       "      <td>2017-12-09 16:59:59</td>\n",
       "      <td>5.081681</td>\n",
       "      <td>6.082745</td>\n",
       "      <td>4.564078</td>\n",
       "      <td>37.208683</td>\n",
       "      <td>558.155110</td>\n",
       "      <td>82.610855</td>\n",
       "      <td>7.363824</td>\n",
       "      <td>9.003562</td>\n",
       "      <td>1200.826926</td>\n",
       "      <td>...</td>\n",
       "      <td>22.993827</td>\n",
       "      <td>-501.559663</td>\n",
       "      <td>20.029144</td>\n",
       "      <td>-500.000662</td>\n",
       "      <td>18.012723</td>\n",
       "      <td>-500.024764</td>\n",
       "      <td>13.016445</td>\n",
       "      <td>-500.058432</td>\n",
       "      <td>19.973767</td>\n",
       "      <td>-501.394155</td>\n",
       "    </tr>\n",
       "    <tr>\n",
       "      <th>3</th>\n",
       "      <td>2017-12-09 17:59:59</td>\n",
       "      <td>5.145949</td>\n",
       "      <td>6.084374</td>\n",
       "      <td>4.768124</td>\n",
       "      <td>36.808874</td>\n",
       "      <td>539.713765</td>\n",
       "      <td>77.984784</td>\n",
       "      <td>6.927072</td>\n",
       "      <td>8.955597</td>\n",
       "      <td>1199.292489</td>\n",
       "      <td>...</td>\n",
       "      <td>23.032807</td>\n",
       "      <td>-501.287889</td>\n",
       "      <td>19.977466</td>\n",
       "      <td>-500.159903</td>\n",
       "      <td>17.980463</td>\n",
       "      <td>-500.504602</td>\n",
       "      <td>12.949071</td>\n",
       "      <td>-500.009937</td>\n",
       "      <td>20.010332</td>\n",
       "      <td>-508.337973</td>\n",
       "    </tr>\n",
       "    <tr>\n",
       "      <th>4</th>\n",
       "      <td>2017-12-09 18:59:59</td>\n",
       "      <td>5.735249</td>\n",
       "      <td>6.165220</td>\n",
       "      <td>4.512346</td>\n",
       "      <td>37.810642</td>\n",
       "      <td>558.713584</td>\n",
       "      <td>86.434874</td>\n",
       "      <td>7.823471</td>\n",
       "      <td>7.490356</td>\n",
       "      <td>1198.005449</td>\n",
       "      <td>...</td>\n",
       "      <td>23.001911</td>\n",
       "      <td>-499.947838</td>\n",
       "      <td>20.023735</td>\n",
       "      <td>-499.713680</td>\n",
       "      <td>17.990955</td>\n",
       "      <td>-500.334769</td>\n",
       "      <td>13.007523</td>\n",
       "      <td>-499.968459</td>\n",
       "      <td>19.995999</td>\n",
       "      <td>-499.788805</td>\n",
       "    </tr>\n",
       "  </tbody>\n",
       "</table>\n",
       "<p>5 rows × 53 columns</p>\n",
       "</div>"
      ],
      "text/plain": [
       "                  date  rougher.input.feed_au  rougher.input.feed_ag  \\\n",
       "0  2017-12-09 14:59:59               4.365491               6.158718   \n",
       "1  2017-12-09 15:59:59               4.362781               6.048130   \n",
       "2  2017-12-09 16:59:59               5.081681               6.082745   \n",
       "3  2017-12-09 17:59:59               5.145949               6.084374   \n",
       "4  2017-12-09 18:59:59               5.735249               6.165220   \n",
       "\n",
       "   rougher.input.feed_pb  rougher.input.feed_sol  rougher.input.feed_rate  \\\n",
       "0               3.875727               39.135119               555.820208   \n",
       "1               3.902537               39.713906               544.731687   \n",
       "2               4.564078               37.208683               558.155110   \n",
       "3               4.768124               36.808874               539.713765   \n",
       "4               4.512346               37.810642               558.713584   \n",
       "\n",
       "   rougher.input.feed_size  rougher.input.floatbank10_sulfate  \\\n",
       "0                94.544358                           6.146982   \n",
       "1               123.742430                           6.210119   \n",
       "2                82.610855                           7.363824   \n",
       "3                77.984784                           6.927072   \n",
       "4                86.434874                           7.823471   \n",
       "\n",
       "   rougher.input.floatbank10_xanthate  rougher.state.floatbank10_a_air  ...  \\\n",
       "0                            9.308612                      1196.238112  ...   \n",
       "1                            9.297709                      1201.904177  ...   \n",
       "2                            9.003562                      1200.826926  ...   \n",
       "3                            8.955597                      1199.292489  ...   \n",
       "4                            7.490356                      1198.005449  ...   \n",
       "\n",
       "   secondary_cleaner.state.floatbank4_a_air  \\\n",
       "0                                 23.018622   \n",
       "1                                 23.024963   \n",
       "2                                 22.993827   \n",
       "3                                 23.032807   \n",
       "4                                 23.001911   \n",
       "\n",
       "   secondary_cleaner.state.floatbank4_a_level  \\\n",
       "0                                 -500.492702   \n",
       "1                                 -501.153409   \n",
       "2                                 -501.559663   \n",
       "3                                 -501.287889   \n",
       "4                                 -499.947838   \n",
       "\n",
       "   secondary_cleaner.state.floatbank4_b_air  \\\n",
       "0                                 20.020205   \n",
       "1                                 20.054122   \n",
       "2                                 20.029144   \n",
       "3                                 19.977466   \n",
       "4                                 20.023735   \n",
       "\n",
       "   secondary_cleaner.state.floatbank4_b_level  \\\n",
       "0                                 -500.220296   \n",
       "1                                 -500.314711   \n",
       "2                                 -500.000662   \n",
       "3                                 -500.159903   \n",
       "4                                 -499.713680   \n",
       "\n",
       "   secondary_cleaner.state.floatbank5_a_air  \\\n",
       "0                                 17.963512   \n",
       "1                                 17.979515   \n",
       "2                                 18.012723   \n",
       "3                                 17.980463   \n",
       "4                                 17.990955   \n",
       "\n",
       "   secondary_cleaner.state.floatbank5_a_level  \\\n",
       "0                                 -499.939490   \n",
       "1                                 -499.272871   \n",
       "2                                 -500.024764   \n",
       "3                                 -500.504602   \n",
       "4                                 -500.334769   \n",
       "\n",
       "   secondary_cleaner.state.floatbank5_b_air  \\\n",
       "0                                 12.990306   \n",
       "1                                 12.992404   \n",
       "2                                 13.016445   \n",
       "3                                 12.949071   \n",
       "4                                 13.007523   \n",
       "\n",
       "   secondary_cleaner.state.floatbank5_b_level  \\\n",
       "0                                 -500.080993   \n",
       "1                                 -499.976268   \n",
       "2                                 -500.058432   \n",
       "3                                 -500.009937   \n",
       "4                                 -499.968459   \n",
       "\n",
       "   secondary_cleaner.state.floatbank6_a_air  \\\n",
       "0                                 19.990336   \n",
       "1                                 20.013986   \n",
       "2                                 19.973767   \n",
       "3                                 20.010332   \n",
       "4                                 19.995999   \n",
       "\n",
       "   secondary_cleaner.state.floatbank6_a_level  \n",
       "0                                 -499.191575  \n",
       "1                                 -500.625471  \n",
       "2                                 -501.394155  \n",
       "3                                 -508.337973  \n",
       "4                                 -499.788805  \n",
       "\n",
       "[5 rows x 53 columns]"
      ]
     },
     "metadata": {},
     "output_type": "display_data"
    },
    {
     "data": {
      "text/plain": [
       "'Количество дубликатов:'"
      ]
     },
     "metadata": {},
     "output_type": "display_data"
    },
    {
     "data": {
      "text/plain": [
       "0"
      ]
     },
     "metadata": {},
     "output_type": "display_data"
    },
    {
     "data": {
      "text/plain": [
       "'Количество пропусков:'"
      ]
     },
     "metadata": {},
     "output_type": "display_data"
    },
    {
     "data": {
      "text/plain": [
       "date                                            0\n",
       "rougher.input.feed_au                           0\n",
       "rougher.input.feed_ag                           0\n",
       "rougher.input.feed_pb                          28\n",
       "rougher.input.feed_sol                         22\n",
       "rougher.input.feed_rate                         4\n",
       "rougher.input.feed_size                        44\n",
       "rougher.input.floatbank10_sulfate               3\n",
       "rougher.input.floatbank10_xanthate              1\n",
       "rougher.state.floatbank10_a_air                 1\n",
       "rougher.state.floatbank10_a_level               1\n",
       "rougher.state.floatbank10_b_air                 1\n",
       "rougher.state.floatbank10_b_level               1\n",
       "rougher.state.floatbank10_c_air                 1\n",
       "rougher.state.floatbank10_c_level               1\n",
       "rougher.state.floatbank10_d_air                 0\n",
       "rougher.state.floatbank10_d_level               0\n",
       "rougher.state.floatbank10_e_air                 7\n",
       "rougher.state.floatbank10_e_level               0\n",
       "rougher.state.floatbank10_f_air                 0\n",
       "rougher.state.floatbank10_f_level               0\n",
       "rougher.input.floatbank11_sulfate               8\n",
       "rougher.input.floatbank11_xanthate             46\n",
       "primary_cleaner.input.sulfate                   1\n",
       "primary_cleaner.input.depressant                9\n",
       "primary_cleaner.input.feed_size                 0\n",
       "primary_cleaner.input.xanthate                 43\n",
       "primary_cleaner.state.floatbank8_a_air          1\n",
       "primary_cleaner.state.floatbank8_a_level        1\n",
       "primary_cleaner.state.floatbank8_b_air          1\n",
       "primary_cleaner.state.floatbank8_b_level        1\n",
       "primary_cleaner.state.floatbank8_c_air          2\n",
       "primary_cleaner.state.floatbank8_c_level        1\n",
       "primary_cleaner.state.floatbank8_d_air          2\n",
       "primary_cleaner.state.floatbank8_d_level        1\n",
       "secondary_cleaner.state.floatbank2_a_air      126\n",
       "secondary_cleaner.state.floatbank2_a_level      1\n",
       "secondary_cleaner.state.floatbank2_b_air        1\n",
       "secondary_cleaner.state.floatbank2_b_level      1\n",
       "secondary_cleaner.state.floatbank3_a_air        1\n",
       "secondary_cleaner.state.floatbank3_a_level      1\n",
       "secondary_cleaner.state.floatbank3_b_air        1\n",
       "secondary_cleaner.state.floatbank3_b_level      1\n",
       "secondary_cleaner.state.floatbank4_a_air        1\n",
       "secondary_cleaner.state.floatbank4_a_level      1\n",
       "secondary_cleaner.state.floatbank4_b_air        1\n",
       "secondary_cleaner.state.floatbank4_b_level      1\n",
       "secondary_cleaner.state.floatbank5_a_air        1\n",
       "secondary_cleaner.state.floatbank5_a_level      1\n",
       "secondary_cleaner.state.floatbank5_b_air        1\n",
       "secondary_cleaner.state.floatbank5_b_level      1\n",
       "secondary_cleaner.state.floatbank6_a_air        1\n",
       "secondary_cleaner.state.floatbank6_a_level      1\n",
       "dtype: int64"
      ]
     },
     "metadata": {},
     "output_type": "display_data"
    },
    {
     "name": "stdout",
     "output_type": "stream",
     "text": [
      "<class 'pandas.core.frame.DataFrame'>\n",
      "RangeIndex: 4860 entries, 0 to 4859\n",
      "Data columns (total 53 columns):\n",
      " #   Column                                      Non-Null Count  Dtype  \n",
      "---  ------                                      --------------  -----  \n",
      " 0   date                                        4860 non-null   object \n",
      " 1   rougher.input.feed_au                       4860 non-null   float64\n",
      " 2   rougher.input.feed_ag                       4860 non-null   float64\n",
      " 3   rougher.input.feed_pb                       4832 non-null   float64\n",
      " 4   rougher.input.feed_sol                      4838 non-null   float64\n",
      " 5   rougher.input.feed_rate                     4856 non-null   float64\n",
      " 6   rougher.input.feed_size                     4816 non-null   float64\n",
      " 7   rougher.input.floatbank10_sulfate           4857 non-null   float64\n",
      " 8   rougher.input.floatbank10_xanthate          4859 non-null   float64\n",
      " 9   rougher.state.floatbank10_a_air             4859 non-null   float64\n",
      " 10  rougher.state.floatbank10_a_level           4859 non-null   float64\n",
      " 11  rougher.state.floatbank10_b_air             4859 non-null   float64\n",
      " 12  rougher.state.floatbank10_b_level           4859 non-null   float64\n",
      " 13  rougher.state.floatbank10_c_air             4859 non-null   float64\n",
      " 14  rougher.state.floatbank10_c_level           4859 non-null   float64\n",
      " 15  rougher.state.floatbank10_d_air             4860 non-null   float64\n",
      " 16  rougher.state.floatbank10_d_level           4860 non-null   float64\n",
      " 17  rougher.state.floatbank10_e_air             4853 non-null   float64\n",
      " 18  rougher.state.floatbank10_e_level           4860 non-null   float64\n",
      " 19  rougher.state.floatbank10_f_air             4860 non-null   float64\n",
      " 20  rougher.state.floatbank10_f_level           4860 non-null   float64\n",
      " 21  rougher.input.floatbank11_sulfate           4852 non-null   float64\n",
      " 22  rougher.input.floatbank11_xanthate          4814 non-null   float64\n",
      " 23  primary_cleaner.input.sulfate               4859 non-null   float64\n",
      " 24  primary_cleaner.input.depressant            4851 non-null   float64\n",
      " 25  primary_cleaner.input.feed_size             4860 non-null   float64\n",
      " 26  primary_cleaner.input.xanthate              4817 non-null   float64\n",
      " 27  primary_cleaner.state.floatbank8_a_air      4859 non-null   float64\n",
      " 28  primary_cleaner.state.floatbank8_a_level    4859 non-null   float64\n",
      " 29  primary_cleaner.state.floatbank8_b_air      4859 non-null   float64\n",
      " 30  primary_cleaner.state.floatbank8_b_level    4859 non-null   float64\n",
      " 31  primary_cleaner.state.floatbank8_c_air      4858 non-null   float64\n",
      " 32  primary_cleaner.state.floatbank8_c_level    4859 non-null   float64\n",
      " 33  primary_cleaner.state.floatbank8_d_air      4858 non-null   float64\n",
      " 34  primary_cleaner.state.floatbank8_d_level    4859 non-null   float64\n",
      " 35  secondary_cleaner.state.floatbank2_a_air    4734 non-null   float64\n",
      " 36  secondary_cleaner.state.floatbank2_a_level  4859 non-null   float64\n",
      " 37  secondary_cleaner.state.floatbank2_b_air    4859 non-null   float64\n",
      " 38  secondary_cleaner.state.floatbank2_b_level  4859 non-null   float64\n",
      " 39  secondary_cleaner.state.floatbank3_a_air    4859 non-null   float64\n",
      " 40  secondary_cleaner.state.floatbank3_a_level  4859 non-null   float64\n",
      " 41  secondary_cleaner.state.floatbank3_b_air    4859 non-null   float64\n",
      " 42  secondary_cleaner.state.floatbank3_b_level  4859 non-null   float64\n",
      " 43  secondary_cleaner.state.floatbank4_a_air    4859 non-null   float64\n",
      " 44  secondary_cleaner.state.floatbank4_a_level  4859 non-null   float64\n",
      " 45  secondary_cleaner.state.floatbank4_b_air    4859 non-null   float64\n",
      " 46  secondary_cleaner.state.floatbank4_b_level  4859 non-null   float64\n",
      " 47  secondary_cleaner.state.floatbank5_a_air    4859 non-null   float64\n",
      " 48  secondary_cleaner.state.floatbank5_a_level  4859 non-null   float64\n",
      " 49  secondary_cleaner.state.floatbank5_b_air    4859 non-null   float64\n",
      " 50  secondary_cleaner.state.floatbank5_b_level  4859 non-null   float64\n",
      " 51  secondary_cleaner.state.floatbank6_a_air    4859 non-null   float64\n",
      " 52  secondary_cleaner.state.floatbank6_a_level  4859 non-null   float64\n",
      "dtypes: float64(52), object(1)\n",
      "memory usage: 2.0+ MB\n"
     ]
    },
    {
     "data": {
      "text/html": [
       "<div>\n",
       "<style scoped>\n",
       "    .dataframe tbody tr th:only-of-type {\n",
       "        vertical-align: middle;\n",
       "    }\n",
       "\n",
       "    .dataframe tbody tr th {\n",
       "        vertical-align: top;\n",
       "    }\n",
       "\n",
       "    .dataframe thead th {\n",
       "        text-align: right;\n",
       "    }\n",
       "</style>\n",
       "<table border=\"1\" class=\"dataframe\">\n",
       "  <thead>\n",
       "    <tr style=\"text-align: right;\">\n",
       "      <th></th>\n",
       "      <th>rougher.input.feed_au</th>\n",
       "      <th>rougher.input.feed_ag</th>\n",
       "      <th>rougher.input.feed_pb</th>\n",
       "      <th>rougher.input.feed_sol</th>\n",
       "      <th>rougher.input.feed_rate</th>\n",
       "      <th>rougher.input.feed_size</th>\n",
       "      <th>rougher.input.floatbank10_sulfate</th>\n",
       "      <th>rougher.input.floatbank10_xanthate</th>\n",
       "      <th>rougher.state.floatbank10_a_air</th>\n",
       "      <th>rougher.state.floatbank10_a_level</th>\n",
       "      <th>...</th>\n",
       "      <th>secondary_cleaner.state.floatbank4_a_air</th>\n",
       "      <th>secondary_cleaner.state.floatbank4_a_level</th>\n",
       "      <th>secondary_cleaner.state.floatbank4_b_air</th>\n",
       "      <th>secondary_cleaner.state.floatbank4_b_level</th>\n",
       "      <th>secondary_cleaner.state.floatbank5_a_air</th>\n",
       "      <th>secondary_cleaner.state.floatbank5_a_level</th>\n",
       "      <th>secondary_cleaner.state.floatbank5_b_air</th>\n",
       "      <th>secondary_cleaner.state.floatbank5_b_level</th>\n",
       "      <th>secondary_cleaner.state.floatbank6_a_air</th>\n",
       "      <th>secondary_cleaner.state.floatbank6_a_level</th>\n",
       "    </tr>\n",
       "  </thead>\n",
       "  <tbody>\n",
       "    <tr>\n",
       "      <th>count</th>\n",
       "      <td>4860.000000</td>\n",
       "      <td>4860.000000</td>\n",
       "      <td>4832.000000</td>\n",
       "      <td>4838.000000</td>\n",
       "      <td>4856.000000</td>\n",
       "      <td>4816.000000</td>\n",
       "      <td>4857.000000</td>\n",
       "      <td>4859.000000</td>\n",
       "      <td>4859.000000</td>\n",
       "      <td>4859.000000</td>\n",
       "      <td>...</td>\n",
       "      <td>4.859000e+03</td>\n",
       "      <td>4859.000000</td>\n",
       "      <td>4.859000e+03</td>\n",
       "      <td>4859.000000</td>\n",
       "      <td>4859.000000</td>\n",
       "      <td>4859.000000</td>\n",
       "      <td>4859.000000</td>\n",
       "      <td>4859.000000</td>\n",
       "      <td>4859.000000</td>\n",
       "      <td>4859.000000</td>\n",
       "    </tr>\n",
       "    <tr>\n",
       "      <th>mean</th>\n",
       "      <td>8.005584</td>\n",
       "      <td>8.547348</td>\n",
       "      <td>3.579662</td>\n",
       "      <td>37.095864</td>\n",
       "      <td>490.285103</td>\n",
       "      <td>59.113400</td>\n",
       "      <td>12.055735</td>\n",
       "      <td>6.101308</td>\n",
       "      <td>1108.635895</td>\n",
       "      <td>-368.340127</td>\n",
       "      <td>...</td>\n",
       "      <td>1.985770e+01</td>\n",
       "      <td>-488.665140</td>\n",
       "      <td>1.557025e+01</td>\n",
       "      <td>-464.176507</td>\n",
       "      <td>16.594103</td>\n",
       "      <td>-490.815250</td>\n",
       "      <td>12.945971</td>\n",
       "      <td>-489.583564</td>\n",
       "      <td>19.053888</td>\n",
       "      <td>-504.678924</td>\n",
       "    </tr>\n",
       "    <tr>\n",
       "      <th>std</th>\n",
       "      <td>1.993590</td>\n",
       "      <td>1.958601</td>\n",
       "      <td>1.029377</td>\n",
       "      <td>4.926284</td>\n",
       "      <td>94.371623</td>\n",
       "      <td>19.125122</td>\n",
       "      <td>3.407642</td>\n",
       "      <td>1.042754</td>\n",
       "      <td>156.493143</td>\n",
       "      <td>91.155929</td>\n",
       "      <td>...</td>\n",
       "      <td>5.913105e+00</td>\n",
       "      <td>44.392714</td>\n",
       "      <td>4.927361e+00</td>\n",
       "      <td>65.706994</td>\n",
       "      <td>5.724305</td>\n",
       "      <td>32.258443</td>\n",
       "      <td>5.533176</td>\n",
       "      <td>37.084609</td>\n",
       "      <td>5.548996</td>\n",
       "      <td>38.690186</td>\n",
       "    </tr>\n",
       "    <tr>\n",
       "      <th>min</th>\n",
       "      <td>0.010000</td>\n",
       "      <td>0.010000</td>\n",
       "      <td>0.010000</td>\n",
       "      <td>0.010000</td>\n",
       "      <td>0.012786</td>\n",
       "      <td>0.046369</td>\n",
       "      <td>0.018907</td>\n",
       "      <td>0.015783</td>\n",
       "      <td>300.792494</td>\n",
       "      <td>-600.568138</td>\n",
       "      <td>...</td>\n",
       "      <td>1.079872e-16</td>\n",
       "      <td>-799.704969</td>\n",
       "      <td>2.489718e-17</td>\n",
       "      <td>-799.860767</td>\n",
       "      <td>-0.371498</td>\n",
       "      <td>-797.142475</td>\n",
       "      <td>1.358469</td>\n",
       "      <td>-800.006180</td>\n",
       "      <td>0.160386</td>\n",
       "      <td>-809.734800</td>\n",
       "    </tr>\n",
       "    <tr>\n",
       "      <th>25%</th>\n",
       "      <td>6.574363</td>\n",
       "      <td>6.975898</td>\n",
       "      <td>2.903612</td>\n",
       "      <td>34.510841</td>\n",
       "      <td>434.099695</td>\n",
       "      <td>47.596984</td>\n",
       "      <td>9.890429</td>\n",
       "      <td>5.499808</td>\n",
       "      <td>999.715729</td>\n",
       "      <td>-499.731972</td>\n",
       "      <td>...</td>\n",
       "      <td>1.501123e+01</td>\n",
       "      <td>-500.704004</td>\n",
       "      <td>1.202172e+01</td>\n",
       "      <td>-500.196517</td>\n",
       "      <td>11.073822</td>\n",
       "      <td>-500.483564</td>\n",
       "      <td>9.011890</td>\n",
       "      <td>-500.129913</td>\n",
       "      <td>14.963953</td>\n",
       "      <td>-500.668501</td>\n",
       "    </tr>\n",
       "    <tr>\n",
       "      <th>50%</th>\n",
       "      <td>7.812923</td>\n",
       "      <td>8.179714</td>\n",
       "      <td>3.540772</td>\n",
       "      <td>37.499761</td>\n",
       "      <td>502.118742</td>\n",
       "      <td>55.509481</td>\n",
       "      <td>11.997859</td>\n",
       "      <td>6.099805</td>\n",
       "      <td>1001.414798</td>\n",
       "      <td>-300.181367</td>\n",
       "      <td>...</td>\n",
       "      <td>1.996807e+01</td>\n",
       "      <td>-499.892919</td>\n",
       "      <td>1.501240e+01</td>\n",
       "      <td>-499.540776</td>\n",
       "      <td>16.631195</td>\n",
       "      <td>-499.873136</td>\n",
       "      <td>11.999417</td>\n",
       "      <td>-499.955304</td>\n",
       "      <td>19.960006</td>\n",
       "      <td>-500.033769</td>\n",
       "    </tr>\n",
       "    <tr>\n",
       "      <th>75%</th>\n",
       "      <td>9.556589</td>\n",
       "      <td>10.084339</td>\n",
       "      <td>4.199847</td>\n",
       "      <td>40.461315</td>\n",
       "      <td>555.596563</td>\n",
       "      <td>66.661547</td>\n",
       "      <td>14.496072</td>\n",
       "      <td>6.802101</td>\n",
       "      <td>1202.837565</td>\n",
       "      <td>-299.961547</td>\n",
       "      <td>...</td>\n",
       "      <td>2.498900e+01</td>\n",
       "      <td>-498.652030</td>\n",
       "      <td>1.999949e+01</td>\n",
       "      <td>-400.302329</td>\n",
       "      <td>19.983191</td>\n",
       "      <td>-498.852815</td>\n",
       "      <td>15.004198</td>\n",
       "      <td>-499.643776</td>\n",
       "      <td>24.974583</td>\n",
       "      <td>-499.460134</td>\n",
       "    </tr>\n",
       "    <tr>\n",
       "      <th>max</th>\n",
       "      <td>13.417156</td>\n",
       "      <td>14.533698</td>\n",
       "      <td>7.142594</td>\n",
       "      <td>53.477742</td>\n",
       "      <td>702.523396</td>\n",
       "      <td>363.989699</td>\n",
       "      <td>30.010759</td>\n",
       "      <td>9.396928</td>\n",
       "      <td>1521.980372</td>\n",
       "      <td>-281.039299</td>\n",
       "      <td>...</td>\n",
       "      <td>3.008450e+01</td>\n",
       "      <td>-383.373053</td>\n",
       "      <td>2.398898e+01</td>\n",
       "      <td>-114.250832</td>\n",
       "      <td>33.215996</td>\n",
       "      <td>-288.963521</td>\n",
       "      <td>24.177106</td>\n",
       "      <td>-141.934397</td>\n",
       "      <td>32.028529</td>\n",
       "      <td>-104.427459</td>\n",
       "    </tr>\n",
       "  </tbody>\n",
       "</table>\n",
       "<p>8 rows × 52 columns</p>\n",
       "</div>"
      ],
      "text/plain": [
       "       rougher.input.feed_au  rougher.input.feed_ag  rougher.input.feed_pb  \\\n",
       "count            4860.000000            4860.000000            4832.000000   \n",
       "mean                8.005584               8.547348               3.579662   \n",
       "std                 1.993590               1.958601               1.029377   \n",
       "min                 0.010000               0.010000               0.010000   \n",
       "25%                 6.574363               6.975898               2.903612   \n",
       "50%                 7.812923               8.179714               3.540772   \n",
       "75%                 9.556589              10.084339               4.199847   \n",
       "max                13.417156              14.533698               7.142594   \n",
       "\n",
       "       rougher.input.feed_sol  rougher.input.feed_rate  \\\n",
       "count             4838.000000              4856.000000   \n",
       "mean                37.095864               490.285103   \n",
       "std                  4.926284                94.371623   \n",
       "min                  0.010000                 0.012786   \n",
       "25%                 34.510841               434.099695   \n",
       "50%                 37.499761               502.118742   \n",
       "75%                 40.461315               555.596563   \n",
       "max                 53.477742               702.523396   \n",
       "\n",
       "       rougher.input.feed_size  rougher.input.floatbank10_sulfate  \\\n",
       "count              4816.000000                        4857.000000   \n",
       "mean                 59.113400                          12.055735   \n",
       "std                  19.125122                           3.407642   \n",
       "min                   0.046369                           0.018907   \n",
       "25%                  47.596984                           9.890429   \n",
       "50%                  55.509481                          11.997859   \n",
       "75%                  66.661547                          14.496072   \n",
       "max                 363.989699                          30.010759   \n",
       "\n",
       "       rougher.input.floatbank10_xanthate  rougher.state.floatbank10_a_air  \\\n",
       "count                         4859.000000                      4859.000000   \n",
       "mean                             6.101308                      1108.635895   \n",
       "std                              1.042754                       156.493143   \n",
       "min                              0.015783                       300.792494   \n",
       "25%                              5.499808                       999.715729   \n",
       "50%                              6.099805                      1001.414798   \n",
       "75%                              6.802101                      1202.837565   \n",
       "max                              9.396928                      1521.980372   \n",
       "\n",
       "       rougher.state.floatbank10_a_level  ...  \\\n",
       "count                        4859.000000  ...   \n",
       "mean                         -368.340127  ...   \n",
       "std                            91.155929  ...   \n",
       "min                          -600.568138  ...   \n",
       "25%                          -499.731972  ...   \n",
       "50%                          -300.181367  ...   \n",
       "75%                          -299.961547  ...   \n",
       "max                          -281.039299  ...   \n",
       "\n",
       "       secondary_cleaner.state.floatbank4_a_air  \\\n",
       "count                              4.859000e+03   \n",
       "mean                               1.985770e+01   \n",
       "std                                5.913105e+00   \n",
       "min                                1.079872e-16   \n",
       "25%                                1.501123e+01   \n",
       "50%                                1.996807e+01   \n",
       "75%                                2.498900e+01   \n",
       "max                                3.008450e+01   \n",
       "\n",
       "       secondary_cleaner.state.floatbank4_a_level  \\\n",
       "count                                 4859.000000   \n",
       "mean                                  -488.665140   \n",
       "std                                     44.392714   \n",
       "min                                   -799.704969   \n",
       "25%                                   -500.704004   \n",
       "50%                                   -499.892919   \n",
       "75%                                   -498.652030   \n",
       "max                                   -383.373053   \n",
       "\n",
       "       secondary_cleaner.state.floatbank4_b_air  \\\n",
       "count                              4.859000e+03   \n",
       "mean                               1.557025e+01   \n",
       "std                                4.927361e+00   \n",
       "min                                2.489718e-17   \n",
       "25%                                1.202172e+01   \n",
       "50%                                1.501240e+01   \n",
       "75%                                1.999949e+01   \n",
       "max                                2.398898e+01   \n",
       "\n",
       "       secondary_cleaner.state.floatbank4_b_level  \\\n",
       "count                                 4859.000000   \n",
       "mean                                  -464.176507   \n",
       "std                                     65.706994   \n",
       "min                                   -799.860767   \n",
       "25%                                   -500.196517   \n",
       "50%                                   -499.540776   \n",
       "75%                                   -400.302329   \n",
       "max                                   -114.250832   \n",
       "\n",
       "       secondary_cleaner.state.floatbank5_a_air  \\\n",
       "count                               4859.000000   \n",
       "mean                                  16.594103   \n",
       "std                                    5.724305   \n",
       "min                                   -0.371498   \n",
       "25%                                   11.073822   \n",
       "50%                                   16.631195   \n",
       "75%                                   19.983191   \n",
       "max                                   33.215996   \n",
       "\n",
       "       secondary_cleaner.state.floatbank5_a_level  \\\n",
       "count                                 4859.000000   \n",
       "mean                                  -490.815250   \n",
       "std                                     32.258443   \n",
       "min                                   -797.142475   \n",
       "25%                                   -500.483564   \n",
       "50%                                   -499.873136   \n",
       "75%                                   -498.852815   \n",
       "max                                   -288.963521   \n",
       "\n",
       "       secondary_cleaner.state.floatbank5_b_air  \\\n",
       "count                               4859.000000   \n",
       "mean                                  12.945971   \n",
       "std                                    5.533176   \n",
       "min                                    1.358469   \n",
       "25%                                    9.011890   \n",
       "50%                                   11.999417   \n",
       "75%                                   15.004198   \n",
       "max                                   24.177106   \n",
       "\n",
       "       secondary_cleaner.state.floatbank5_b_level  \\\n",
       "count                                 4859.000000   \n",
       "mean                                  -489.583564   \n",
       "std                                     37.084609   \n",
       "min                                   -800.006180   \n",
       "25%                                   -500.129913   \n",
       "50%                                   -499.955304   \n",
       "75%                                   -499.643776   \n",
       "max                                   -141.934397   \n",
       "\n",
       "       secondary_cleaner.state.floatbank6_a_air  \\\n",
       "count                               4859.000000   \n",
       "mean                                  19.053888   \n",
       "std                                    5.548996   \n",
       "min                                    0.160386   \n",
       "25%                                   14.963953   \n",
       "50%                                   19.960006   \n",
       "75%                                   24.974583   \n",
       "max                                   32.028529   \n",
       "\n",
       "       secondary_cleaner.state.floatbank6_a_level  \n",
       "count                                 4859.000000  \n",
       "mean                                  -504.678924  \n",
       "std                                     38.690186  \n",
       "min                                   -809.734800  \n",
       "25%                                   -500.668501  \n",
       "50%                                   -500.033769  \n",
       "75%                                   -499.460134  \n",
       "max                                   -104.427459  \n",
       "\n",
       "[8 rows x 52 columns]"
      ]
     },
     "execution_count": 4,
     "metadata": {},
     "output_type": "execute_result"
    }
   ],
   "source": [
    "# проверка тестового датасета\n",
    "\n",
    "display(data_test.head())\n",
    "display('Количество дубликатов:', data_test.duplicated().sum())\n",
    "display('Количество пропусков:', data_test.isna().sum())\n",
    "data_test.info()\n",
    "data_test.describe()"
   ]
  },
  {
   "cell_type": "markdown",
   "metadata": {},
   "source": [
    "Датасет с тестовыми данными содержит меньший набор признаков по сравнению в обучающими данными, дубликаты не обнаружены, при этом датасет содержит пропуски несущественного объема данных (менее 2% и во второстепенных данных)."
   ]
  },
  {
   "cell_type": "markdown",
   "metadata": {},
   "source": [
    "В тествой выборке не содержатся данные о результатах выполенных этапов флотации и двух очисток - выходные данные о концентрации металлов и количестве отвальных хвостов на каждом из этапов. Это отсутствие объясняется тем, что для целей теста технлогические процессы по выделению финального концентрата еще не произошли, т.к. именно модель должна предсказать их результат."
   ]
  },
  {
   "cell_type": "code",
   "execution_count": 5,
   "metadata": {
    "scrolled": true
   },
   "outputs": [
    {
     "data": {
      "text/html": [
       "<div>\n",
       "<style scoped>\n",
       "    .dataframe tbody tr th:only-of-type {\n",
       "        vertical-align: middle;\n",
       "    }\n",
       "\n",
       "    .dataframe tbody tr th {\n",
       "        vertical-align: top;\n",
       "    }\n",
       "\n",
       "    .dataframe thead th {\n",
       "        text-align: right;\n",
       "    }\n",
       "</style>\n",
       "<table border=\"1\" class=\"dataframe\">\n",
       "  <thead>\n",
       "    <tr style=\"text-align: right;\">\n",
       "      <th></th>\n",
       "      <th>date</th>\n",
       "      <th>rougher.input.feed_au</th>\n",
       "      <th>rougher.input.feed_ag</th>\n",
       "      <th>rougher.input.feed_pb</th>\n",
       "      <th>rougher.input.feed_sol</th>\n",
       "      <th>rougher.input.feed_rate</th>\n",
       "      <th>rougher.input.feed_size</th>\n",
       "      <th>rougher.input.floatbank10_sulfate</th>\n",
       "      <th>rougher.input.floatbank10_xanthate</th>\n",
       "      <th>rougher.state.floatbank10_a_air</th>\n",
       "      <th>...</th>\n",
       "      <th>secondary_cleaner.output.tail_sol</th>\n",
       "      <th>final.output.concentrate_au</th>\n",
       "      <th>final.output.concentrate_ag</th>\n",
       "      <th>final.output.concentrate_pb</th>\n",
       "      <th>final.output.concentrate_sol</th>\n",
       "      <th>final.output.recovery</th>\n",
       "      <th>final.output.tail_au</th>\n",
       "      <th>final.output.tail_ag</th>\n",
       "      <th>final.output.tail_pb</th>\n",
       "      <th>final.output.tail_sol</th>\n",
       "    </tr>\n",
       "  </thead>\n",
       "  <tbody>\n",
       "    <tr>\n",
       "      <th>0</th>\n",
       "      <td>2016-01-15 00:00:00</td>\n",
       "      <td>6.486150</td>\n",
       "      <td>6.100378</td>\n",
       "      <td>2.284912</td>\n",
       "      <td>36.808594</td>\n",
       "      <td>523.546326</td>\n",
       "      <td>55.486599</td>\n",
       "      <td>11.986616</td>\n",
       "      <td>6.007990</td>\n",
       "      <td>999.706909</td>\n",
       "      <td>...</td>\n",
       "      <td>8.764648</td>\n",
       "      <td>42.192020</td>\n",
       "      <td>6.055403</td>\n",
       "      <td>9.889648</td>\n",
       "      <td>5.507324</td>\n",
       "      <td>70.541216</td>\n",
       "      <td>2.143149</td>\n",
       "      <td>10.411962</td>\n",
       "      <td>0.895447</td>\n",
       "      <td>16.904297</td>\n",
       "    </tr>\n",
       "    <tr>\n",
       "      <th>1</th>\n",
       "      <td>2016-01-15 01:00:00</td>\n",
       "      <td>6.478583</td>\n",
       "      <td>6.161113</td>\n",
       "      <td>2.266033</td>\n",
       "      <td>35.753385</td>\n",
       "      <td>525.290581</td>\n",
       "      <td>57.278666</td>\n",
       "      <td>11.971193</td>\n",
       "      <td>6.005766</td>\n",
       "      <td>1000.286398</td>\n",
       "      <td>...</td>\n",
       "      <td>9.001494</td>\n",
       "      <td>42.701629</td>\n",
       "      <td>6.029369</td>\n",
       "      <td>9.968944</td>\n",
       "      <td>5.257781</td>\n",
       "      <td>69.266198</td>\n",
       "      <td>2.224930</td>\n",
       "      <td>10.462676</td>\n",
       "      <td>0.927452</td>\n",
       "      <td>16.634514</td>\n",
       "    </tr>\n",
       "    <tr>\n",
       "      <th>2</th>\n",
       "      <td>2016-01-15 02:00:00</td>\n",
       "      <td>6.362222</td>\n",
       "      <td>6.116455</td>\n",
       "      <td>2.159622</td>\n",
       "      <td>35.971630</td>\n",
       "      <td>530.026610</td>\n",
       "      <td>57.510649</td>\n",
       "      <td>11.920603</td>\n",
       "      <td>6.197377</td>\n",
       "      <td>999.719565</td>\n",
       "      <td>...</td>\n",
       "      <td>8.842896</td>\n",
       "      <td>42.657501</td>\n",
       "      <td>6.055926</td>\n",
       "      <td>10.213995</td>\n",
       "      <td>5.383759</td>\n",
       "      <td>68.116445</td>\n",
       "      <td>2.257889</td>\n",
       "      <td>10.507046</td>\n",
       "      <td>0.953716</td>\n",
       "      <td>16.208849</td>\n",
       "    </tr>\n",
       "    <tr>\n",
       "      <th>3</th>\n",
       "      <td>2016-01-15 03:00:00</td>\n",
       "      <td>6.118189</td>\n",
       "      <td>6.043309</td>\n",
       "      <td>2.037807</td>\n",
       "      <td>36.862241</td>\n",
       "      <td>542.590390</td>\n",
       "      <td>57.792734</td>\n",
       "      <td>11.630094</td>\n",
       "      <td>6.203177</td>\n",
       "      <td>999.814770</td>\n",
       "      <td>...</td>\n",
       "      <td>9.122857</td>\n",
       "      <td>42.689819</td>\n",
       "      <td>6.047977</td>\n",
       "      <td>9.977019</td>\n",
       "      <td>4.858634</td>\n",
       "      <td>68.347543</td>\n",
       "      <td>2.146849</td>\n",
       "      <td>10.422762</td>\n",
       "      <td>0.883763</td>\n",
       "      <td>16.532835</td>\n",
       "    </tr>\n",
       "    <tr>\n",
       "      <th>4</th>\n",
       "      <td>2016-01-15 04:00:00</td>\n",
       "      <td>5.663707</td>\n",
       "      <td>6.060915</td>\n",
       "      <td>1.786875</td>\n",
       "      <td>34.347666</td>\n",
       "      <td>540.531893</td>\n",
       "      <td>56.047189</td>\n",
       "      <td>10.957755</td>\n",
       "      <td>6.198826</td>\n",
       "      <td>999.678690</td>\n",
       "      <td>...</td>\n",
       "      <td>8.871028</td>\n",
       "      <td>42.774141</td>\n",
       "      <td>6.148599</td>\n",
       "      <td>10.142511</td>\n",
       "      <td>4.939416</td>\n",
       "      <td>66.927016</td>\n",
       "      <td>2.055292</td>\n",
       "      <td>10.360302</td>\n",
       "      <td>0.792826</td>\n",
       "      <td>16.525686</td>\n",
       "    </tr>\n",
       "  </tbody>\n",
       "</table>\n",
       "<p>5 rows × 87 columns</p>\n",
       "</div>"
      ],
      "text/plain": [
       "                  date  rougher.input.feed_au  rougher.input.feed_ag  \\\n",
       "0  2016-01-15 00:00:00               6.486150               6.100378   \n",
       "1  2016-01-15 01:00:00               6.478583               6.161113   \n",
       "2  2016-01-15 02:00:00               6.362222               6.116455   \n",
       "3  2016-01-15 03:00:00               6.118189               6.043309   \n",
       "4  2016-01-15 04:00:00               5.663707               6.060915   \n",
       "\n",
       "   rougher.input.feed_pb  rougher.input.feed_sol  rougher.input.feed_rate  \\\n",
       "0               2.284912               36.808594               523.546326   \n",
       "1               2.266033               35.753385               525.290581   \n",
       "2               2.159622               35.971630               530.026610   \n",
       "3               2.037807               36.862241               542.590390   \n",
       "4               1.786875               34.347666               540.531893   \n",
       "\n",
       "   rougher.input.feed_size  rougher.input.floatbank10_sulfate  \\\n",
       "0                55.486599                          11.986616   \n",
       "1                57.278666                          11.971193   \n",
       "2                57.510649                          11.920603   \n",
       "3                57.792734                          11.630094   \n",
       "4                56.047189                          10.957755   \n",
       "\n",
       "   rougher.input.floatbank10_xanthate  rougher.state.floatbank10_a_air  ...  \\\n",
       "0                            6.007990                       999.706909  ...   \n",
       "1                            6.005766                      1000.286398  ...   \n",
       "2                            6.197377                       999.719565  ...   \n",
       "3                            6.203177                       999.814770  ...   \n",
       "4                            6.198826                       999.678690  ...   \n",
       "\n",
       "   secondary_cleaner.output.tail_sol  final.output.concentrate_au  \\\n",
       "0                           8.764648                    42.192020   \n",
       "1                           9.001494                    42.701629   \n",
       "2                           8.842896                    42.657501   \n",
       "3                           9.122857                    42.689819   \n",
       "4                           8.871028                    42.774141   \n",
       "\n",
       "   final.output.concentrate_ag  final.output.concentrate_pb  \\\n",
       "0                     6.055403                     9.889648   \n",
       "1                     6.029369                     9.968944   \n",
       "2                     6.055926                    10.213995   \n",
       "3                     6.047977                     9.977019   \n",
       "4                     6.148599                    10.142511   \n",
       "\n",
       "   final.output.concentrate_sol  final.output.recovery  final.output.tail_au  \\\n",
       "0                      5.507324              70.541216              2.143149   \n",
       "1                      5.257781              69.266198              2.224930   \n",
       "2                      5.383759              68.116445              2.257889   \n",
       "3                      4.858634              68.347543              2.146849   \n",
       "4                      4.939416              66.927016              2.055292   \n",
       "\n",
       "   final.output.tail_ag  final.output.tail_pb  final.output.tail_sol  \n",
       "0             10.411962              0.895447              16.904297  \n",
       "1             10.462676              0.927452              16.634514  \n",
       "2             10.507046              0.953716              16.208849  \n",
       "3             10.422762              0.883763              16.532835  \n",
       "4             10.360302              0.792826              16.525686  \n",
       "\n",
       "[5 rows x 87 columns]"
      ]
     },
     "metadata": {},
     "output_type": "display_data"
    },
    {
     "data": {
      "text/plain": [
       "'Количество дубликатов:'"
      ]
     },
     "metadata": {},
     "output_type": "display_data"
    },
    {
     "data": {
      "text/plain": [
       "0"
      ]
     },
     "metadata": {},
     "output_type": "display_data"
    },
    {
     "data": {
      "text/plain": [
       "'Количество пропусков:'"
      ]
     },
     "metadata": {},
     "output_type": "display_data"
    },
    {
     "data": {
      "text/plain": [
       "date                        0\n",
       "rougher.input.feed_au       0\n",
       "rougher.input.feed_ag       0\n",
       "rougher.input.feed_pb     100\n",
       "rougher.input.feed_sol     99\n",
       "                         ... \n",
       "final.output.recovery       0\n",
       "final.output.tail_au        0\n",
       "final.output.tail_ag        1\n",
       "final.output.tail_pb      101\n",
       "final.output.tail_sol       6\n",
       "Length: 87, dtype: int64"
      ]
     },
     "metadata": {},
     "output_type": "display_data"
    },
    {
     "name": "stdout",
     "output_type": "stream",
     "text": [
      "<class 'pandas.core.frame.DataFrame'>\n",
      "RangeIndex: 19439 entries, 0 to 19438\n",
      "Data columns (total 87 columns):\n",
      " #   Column                                              Non-Null Count  Dtype  \n",
      "---  ------                                              --------------  -----  \n",
      " 0   date                                                19439 non-null  object \n",
      " 1   rougher.input.feed_au                               19439 non-null  float64\n",
      " 2   rougher.input.feed_ag                               19439 non-null  float64\n",
      " 3   rougher.input.feed_pb                               19339 non-null  float64\n",
      " 4   rougher.input.feed_sol                              19340 non-null  float64\n",
      " 5   rougher.input.feed_rate                             19428 non-null  float64\n",
      " 6   rougher.input.feed_size                             19294 non-null  float64\n",
      " 7   rougher.input.floatbank10_sulfate                   19405 non-null  float64\n",
      " 8   rougher.input.floatbank10_xanthate                  19431 non-null  float64\n",
      " 9   rougher.state.floatbank10_a_air                     19438 non-null  float64\n",
      " 10  rougher.state.floatbank10_a_level                   19438 non-null  float64\n",
      " 11  rougher.state.floatbank10_b_air                     19438 non-null  float64\n",
      " 12  rougher.state.floatbank10_b_level                   19438 non-null  float64\n",
      " 13  rougher.state.floatbank10_c_air                     19438 non-null  float64\n",
      " 14  rougher.state.floatbank10_c_level                   19438 non-null  float64\n",
      " 15  rougher.state.floatbank10_d_air                     19439 non-null  float64\n",
      " 16  rougher.state.floatbank10_d_level                   19439 non-null  float64\n",
      " 17  rougher.state.floatbank10_e_air                     19003 non-null  float64\n",
      " 18  rougher.state.floatbank10_e_level                   19439 non-null  float64\n",
      " 19  rougher.state.floatbank10_f_air                     19439 non-null  float64\n",
      " 20  rougher.state.floatbank10_f_level                   19439 non-null  float64\n",
      " 21  rougher.input.floatbank11_sulfate                   19395 non-null  float64\n",
      " 22  rougher.input.floatbank11_xanthate                  18986 non-null  float64\n",
      " 23  rougher.calculation.sulfate_to_au_concentrate       19437 non-null  float64\n",
      " 24  rougher.calculation.floatbank10_sulfate_to_au_feed  19437 non-null  float64\n",
      " 25  rougher.calculation.floatbank11_sulfate_to_au_feed  19437 non-null  float64\n",
      " 26  rougher.calculation.au_pb_ratio                     19439 non-null  float64\n",
      " 27  rougher.output.concentrate_au                       19439 non-null  float64\n",
      " 28  rougher.output.concentrate_ag                       19439 non-null  float64\n",
      " 29  rougher.output.concentrate_pb                       19439 non-null  float64\n",
      " 30  rougher.output.concentrate_sol                      19416 non-null  float64\n",
      " 31  rougher.output.recovery                             19439 non-null  float64\n",
      " 32  rougher.output.tail_au                              19439 non-null  float64\n",
      " 33  rougher.output.tail_ag                              19438 non-null  float64\n",
      " 34  rougher.output.tail_pb                              19439 non-null  float64\n",
      " 35  rougher.output.tail_sol                             19439 non-null  float64\n",
      " 36  primary_cleaner.input.sulfate                       19415 non-null  float64\n",
      " 37  primary_cleaner.input.depressant                    19402 non-null  float64\n",
      " 38  primary_cleaner.input.feed_size                     19439 non-null  float64\n",
      " 39  primary_cleaner.input.xanthate                      19335 non-null  float64\n",
      " 40  primary_cleaner.state.floatbank8_a_air              19435 non-null  float64\n",
      " 41  primary_cleaner.state.floatbank8_a_level            19438 non-null  float64\n",
      " 42  primary_cleaner.state.floatbank8_b_air              19435 non-null  float64\n",
      " 43  primary_cleaner.state.floatbank8_b_level            19438 non-null  float64\n",
      " 44  primary_cleaner.state.floatbank8_c_air              19437 non-null  float64\n",
      " 45  primary_cleaner.state.floatbank8_c_level            19438 non-null  float64\n",
      " 46  primary_cleaner.state.floatbank8_d_air              19436 non-null  float64\n",
      " 47  primary_cleaner.state.floatbank8_d_level            19438 non-null  float64\n",
      " 48  primary_cleaner.output.concentrate_au               19439 non-null  float64\n",
      " 49  primary_cleaner.output.concentrate_ag               19439 non-null  float64\n",
      " 50  primary_cleaner.output.concentrate_pb               19323 non-null  float64\n",
      " 51  primary_cleaner.output.concentrate_sol              19069 non-null  float64\n",
      " 52  primary_cleaner.output.tail_au                      19439 non-null  float64\n",
      " 53  primary_cleaner.output.tail_ag                      19435 non-null  float64\n",
      " 54  primary_cleaner.output.tail_pb                      19418 non-null  float64\n",
      " 55  primary_cleaner.output.tail_sol                     19377 non-null  float64\n",
      " 56  secondary_cleaner.state.floatbank2_a_air            19219 non-null  float64\n",
      " 57  secondary_cleaner.state.floatbank2_a_level          19438 non-null  float64\n",
      " 58  secondary_cleaner.state.floatbank2_b_air            19416 non-null  float64\n",
      " 59  secondary_cleaner.state.floatbank2_b_level          19438 non-null  float64\n",
      " 60  secondary_cleaner.state.floatbank3_a_air            19426 non-null  float64\n",
      " 61  secondary_cleaner.state.floatbank3_a_level          19438 non-null  float64\n",
      " 62  secondary_cleaner.state.floatbank3_b_air            19438 non-null  float64\n",
      " 63  secondary_cleaner.state.floatbank3_b_level          19438 non-null  float64\n",
      " 64  secondary_cleaner.state.floatbank4_a_air            19433 non-null  float64\n",
      " 65  secondary_cleaner.state.floatbank4_a_level          19438 non-null  float64\n",
      " 66  secondary_cleaner.state.floatbank4_b_air            19438 non-null  float64\n",
      " 67  secondary_cleaner.state.floatbank4_b_level          19438 non-null  float64\n",
      " 68  secondary_cleaner.state.floatbank5_a_air            19438 non-null  float64\n",
      " 69  secondary_cleaner.state.floatbank5_a_level          19438 non-null  float64\n",
      " 70  secondary_cleaner.state.floatbank5_b_air            19438 non-null  float64\n",
      " 71  secondary_cleaner.state.floatbank5_b_level          19438 non-null  float64\n",
      " 72  secondary_cleaner.state.floatbank6_a_air            19437 non-null  float64\n",
      " 73  secondary_cleaner.state.floatbank6_a_level          19438 non-null  float64\n",
      " 74  secondary_cleaner.output.tail_au                    19439 non-null  float64\n",
      " 75  secondary_cleaner.output.tail_ag                    19437 non-null  float64\n",
      " 76  secondary_cleaner.output.tail_pb                    19427 non-null  float64\n",
      " 77  secondary_cleaner.output.tail_sol                   17691 non-null  float64\n",
      " 78  final.output.concentrate_au                         19439 non-null  float64\n",
      " 79  final.output.concentrate_ag                         19438 non-null  float64\n",
      " 80  final.output.concentrate_pb                         19438 non-null  float64\n",
      " 81  final.output.concentrate_sol                        19228 non-null  float64\n",
      " 82  final.output.recovery                               19439 non-null  float64\n",
      " 83  final.output.tail_au                                19439 non-null  float64\n",
      " 84  final.output.tail_ag                                19438 non-null  float64\n",
      " 85  final.output.tail_pb                                19338 non-null  float64\n",
      " 86  final.output.tail_sol                               19433 non-null  float64\n",
      "dtypes: float64(86), object(1)\n",
      "memory usage: 12.9+ MB\n"
     ]
    }
   ],
   "source": [
    "# проверка полного датасета\n",
    "\n",
    "display(data_full.head())\n",
    "display('Количество дубликатов:', data_full.duplicated().sum())\n",
    "display('Количество пропусков:', data_full.isna().sum())\n",
    "data_full.info()"
   ]
  },
  {
   "cell_type": "markdown",
   "metadata": {},
   "source": [
    "Датасет с полными данными представляет собой объединение тестовых и обучающих данных, дубликаты не обнаружены, при этом датасет содержит пропуски несущественного объема данных менее 5% по ряду столбцов и около 9% в столбце secondary_cleaner.output.tail_sol, которые представляет собой второстепенные данные."
   ]
  },
  {
   "cell_type": "code",
   "execution_count": 6,
   "metadata": {},
   "outputs": [
    {
     "data": {
      "text/plain": [
       "-1.6369678398616069e-16"
      ]
     },
     "execution_count": 6,
     "metadata": {},
     "output_type": "execute_result"
    }
   ],
   "source": [
    "# проверка расчета эффективности обогащения после этапа флотации\n",
    "\n",
    "data_train['rougher.output.recovery_recalc'] = (\n",
    "    (data_train['rougher.output.concentrate_au'] * (data_train['rougher.input.feed_au'] - data_train['rougher.output.tail_au']))\n",
    "    / (data_train['rougher.input.feed_au'] * \n",
    "       (data_train['rougher.output.concentrate_au'] - data_train['rougher.output.tail_au']))*100\n",
    ")\n",
    "\n",
    "(data_train['rougher.output.recovery_recalc'] - data_train['rougher.output.recovery']).sum()/len(data_train)"
   ]
  },
  {
   "cell_type": "code",
   "execution_count": 7,
   "metadata": {},
   "outputs": [
    {
     "data": {
      "text/plain": [
       "-8.477682511002666e-16"
      ]
     },
     "execution_count": 7,
     "metadata": {},
     "output_type": "execute_result"
    }
   ],
   "source": [
    "# проверка расчета эффективности обогащения после этапа очистки\n",
    "\n",
    "data_train['final.output.recovery_recalc'] = (\n",
    "    (data_train['final.output.concentrate_au'] * (data_train['rougher.input.feed_au'] - data_train['final.output.tail_au']))\n",
    "    / (data_train['rougher.input.feed_au'] * (data_train['final.output.concentrate_au'] - data_train['final.output.tail_au']))\n",
    "    *100\n",
    ")\n",
    "\n",
    "(data_train['final.output.recovery_recalc'] - data_train['final.output.recovery']).sum()/len(data_train)\n"
   ]
  },
  {
   "cell_type": "markdown",
   "metadata": {},
   "source": [
    "Ручной пересчёт показал, что разница с имеющимися показателями recovery стремится к 0, поэтому можно сделать вывод, что в датасете содержатся корретные показатели эффективности обогащения rougher.output.recovery и final.output.recovery - после этапов флотации и очистки."
   ]
  },
  {
   "cell_type": "code",
   "execution_count": 8,
   "metadata": {},
   "outputs": [
    {
     "data": {
      "text/plain": [
       "(9.83758577644259e-15, 8.569602032360358e-15)"
      ]
     },
     "execution_count": 8,
     "metadata": {},
     "output_type": "execute_result"
    }
   ],
   "source": [
    "# расчет MAE\n",
    "\n",
    "mae_rougher = mean_absolute_error(data_train['rougher.output.recovery'], data_train['rougher.output.recovery_recalc'])\n",
    "mae_final = mean_absolute_error(data_train['final.output.recovery'], data_train['final.output.recovery_recalc'])\n",
    "mae_rougher, mae_final"
   ]
  },
  {
   "cell_type": "markdown",
   "metadata": {},
   "source": [
    "Показатель MAE - среднее абсолютное отклонение между предоставленными данными эффективности обогащения на этапах флотации и очистки и рассчитанными данным эффективности обогащения - стремится к 0, поэтому можно сделать вывод, что в датасете содержатся корретные показатели эффективности обогащения."
   ]
  },
  {
   "cell_type": "markdown",
   "metadata": {},
   "source": [
    "### Предобработка данных"
   ]
  },
  {
   "cell_type": "code",
   "execution_count": 9,
   "metadata": {},
   "outputs": [
    {
     "data": {
      "text/plain": [
       "Index(['final.output.concentrate_ag', 'final.output.concentrate_au',\n",
       "       'final.output.concentrate_pb', 'final.output.concentrate_sol',\n",
       "       'final.output.recovery', 'final.output.recovery_recalc',\n",
       "       'final.output.tail_ag', 'final.output.tail_au', 'final.output.tail_pb',\n",
       "       'final.output.tail_sol', 'primary_cleaner.output.concentrate_ag',\n",
       "       'primary_cleaner.output.concentrate_au',\n",
       "       'primary_cleaner.output.concentrate_pb',\n",
       "       'primary_cleaner.output.concentrate_sol',\n",
       "       'primary_cleaner.output.tail_ag', 'primary_cleaner.output.tail_au',\n",
       "       'primary_cleaner.output.tail_pb', 'primary_cleaner.output.tail_sol',\n",
       "       'rougher.calculation.au_pb_ratio',\n",
       "       'rougher.calculation.floatbank10_sulfate_to_au_feed',\n",
       "       'rougher.calculation.floatbank11_sulfate_to_au_feed',\n",
       "       'rougher.calculation.sulfate_to_au_concentrate',\n",
       "       'rougher.output.concentrate_ag', 'rougher.output.concentrate_au',\n",
       "       'rougher.output.concentrate_pb', 'rougher.output.concentrate_sol',\n",
       "       'rougher.output.recovery', 'rougher.output.recovery_recalc',\n",
       "       'rougher.output.tail_ag', 'rougher.output.tail_au',\n",
       "       'rougher.output.tail_pb', 'rougher.output.tail_sol',\n",
       "       'secondary_cleaner.output.tail_ag', 'secondary_cleaner.output.tail_au',\n",
       "       'secondary_cleaner.output.tail_pb',\n",
       "       'secondary_cleaner.output.tail_sol'],\n",
       "      dtype='object')"
      ]
     },
     "execution_count": 9,
     "metadata": {},
     "output_type": "execute_result"
    }
   ],
   "source": [
    "# проверка списка признаков из обучающей выборки, недоступного на тестовой выборке\n",
    "\n",
    "common_columns = data_train.columns.intersection(data_test.columns)\n",
    "unique_columns = data_train.columns.difference(common_columns)\n",
    "unique_columns"
   ]
  },
  {
   "cell_type": "markdown",
   "metadata": {},
   "source": [
    "Обзор уникальных столбцов обучающего датасета, которые отсутствуют в тестовом датасете, показал, что в тестовом датасете отсутвуют признаки, которые соответсвуют последующим этапам технологического процесса флотации и последующей очистки."
   ]
  },
  {
   "cell_type": "code",
   "execution_count": 10,
   "metadata": {},
   "outputs": [
    {
     "name": "stdout",
     "output_type": "stream",
     "text": [
      "Количество пропусков в train: 0\n",
      "Количество пропусков в test: 0\n",
      "Количество пропусков в full: 0\n"
     ]
    }
   ],
   "source": [
    "# заполнение пропусков соседними значениями, т.к.условии указано, что соседние по времени параметры часто похожи\n",
    "\n",
    "data_train = data_train.fillna(method = 'ffill')\n",
    "data_test = data_test.fillna(method = 'ffill')\n",
    "data_full = data_full.fillna(method = 'ffill')\n",
    "print('Количество пропусков в train:', data_train.isna().sum().sum())\n",
    "print('Количество пропусков в test:', data_test.isna().sum().sum())\n",
    "print('Количество пропусков в full:', data_full.isna().sum().sum())"
   ]
  },
  {
   "cell_type": "markdown",
   "metadata": {},
   "source": [
    "В рамках предобработки данных:\n",
    "- датасет с обучающими данными приведен в соответветствие с тестовым датасетом (из обучающих данных удалены столбцы, отсутствующие в тестовых данных с предварительным сохранением целевых показателей),\n",
    "- пропуски в всех трёх датасетах заполнены ближайшими значениями."
   ]
  },
  {
   "cell_type": "markdown",
   "metadata": {},
   "source": [
    "### Промежуточный вывод"
   ]
  },
  {
   "cell_type": "markdown",
   "metadata": {},
   "source": [
    "По результатам предобработки данных можно сделать следующие выводы:\n",
    "1. Датасет с обущающими данными содержит определенный объем данных, дубликаты не обнаружены, при этом датасет содержит пропуски несущественного объема данных (менее 5% и во второстепенных данных).\n",
    "2. Датасет с тестовыми данными содержит меньший набор признаков по сравнению в обучающими данными, дубликаты не обнаружены, при этом датасет содержит пропуски несущественного объема данных (менее 2% и во второстепенных данных).\n",
    "В тествой выборке не содержатся данные о результатах выполенных этапов флотации и двух очисток - выходные данные о концентрации металлов и количестве отвальных хвостов на каждом из этапов. Это отсутствие объясняется тем, что для целей теста технлогические процессы по выделению финального концентрата еще не произошли, т.к. именно модель должна предсказать их результат.\n",
    "\n",
    "3. Датасет с полными данными представляет собой объединение тестовых и обучающих данных, дубликаты не обнаружены, при этом датасет содержит пропуски несущественного объема данных менее 5% по ряду столбцов и около 9% в столбце secondary_cleaner.output.tail_sol, которые представляет собой второстепенные данные.\n",
    "\n",
    "Целевой признак эффективности обогащения, recovery, был пересчитан вручную для проверки данных. Ручной пересчёт показал, что разница с имеющимися показателями recovery стремится к 0, поэтому можно сделать вывод, что в датасете содержатся корретные показатели эффективности обогащения rougher.output.recovery и final.output.recovery (после этапов флотации и очистки).\n",
    "\n",
    "В рамках предобработки данных:\n",
    "- пропуски в всех трёх датасетах заполнены ближайшими значениями."
   ]
  },
  {
   "cell_type": "markdown",
   "metadata": {},
   "source": [
    "## Анализ данных"
   ]
  },
  {
   "cell_type": "markdown",
   "metadata": {},
   "source": [
    "### Концентрация металлов на различных этапах обработки"
   ]
  },
  {
   "cell_type": "code",
   "execution_count": 11,
   "metadata": {},
   "outputs": [
    {
     "data": {
      "image/png": "[encoded data removed]",
      "text/plain": [
       "<Figure size 1080x360 with 1 Axes>"
      ]
     },
     "metadata": {
      "needs_background": "light"
     },
     "output_type": "display_data"
    }
   ],
   "source": [
    "# анализ концентрации золота на различных этапах\n",
    "\n",
    "data_full['rougher.input.feed_au'].hist(bins = 15, figsize = (15,5), label = 'руда');\n",
    "data_full['rougher.output.concentrate_au'].hist(bins = 15, figsize = (15,5), label = 'флотация');\n",
    "data_full['primary_cleaner.output.concentrate_au'].hist(bins = 15, figsize = (15,5), label = 'перв.очистка');\n",
    "data_full['final.output.concentrate_au'].hist(bins = 15, figsize = (15,5), label = 'фин.концентрат');\n",
    "plt.title('Коцентрация золота на этапах обработки')\n",
    "plt.ylabel('Количество')\n",
    "legend = True\n",
    "plt.legend(loc='upper right')\n",
    "plt.show()"
   ]
  },
  {
   "cell_type": "markdown",
   "metadata": {},
   "source": [
    "Концентрация золота значительно возрастает на каждом этапе и достигает максмального значения в финальном концентрате."
   ]
  },
  {
   "cell_type": "code",
   "execution_count": 12,
   "metadata": {
    "scrolled": true
   },
   "outputs": [
    {
     "data": {
      "image/png": "[encoded data removed]",
      "text/plain": [
       "<Figure size 1080x360 with 1 Axes>"
      ]
     },
     "metadata": {
      "needs_background": "light"
     },
     "output_type": "display_data"
    }
   ],
   "source": [
    "# анализ концентрации серебра на различных этапах\n",
    "\n",
    "data_full['rougher.input.feed_ag'].hist(bins = 15, figsize = (15,5), label = 'руда');\n",
    "data_full['rougher.output.concentrate_ag'].hist(bins = 15, figsize = (15,5), label = 'флотация');\n",
    "data_full['primary_cleaner.output.concentrate_ag'].hist(bins = 15, figsize = (15,5), label = 'перв.очистка');\n",
    "data_full['final.output.concentrate_ag'].hist(bins = 15, figsize = (15,5), label = 'фин.концентрат');\n",
    "plt.title('Коцентрация серебра на этапах обработки')\n",
    "plt.ylabel('Количество')\n",
    "legend = True\n",
    "plt.legend(loc='upper right')\n",
    "plt.show()"
   ]
  },
  {
   "cell_type": "markdown",
   "metadata": {},
   "source": [
    "Концентрация серебра колеблется от этапа к этапу, но достигает минимального значения в финальном концентрате."
   ]
  },
  {
   "cell_type": "code",
   "execution_count": 13,
   "metadata": {
    "scrolled": false
   },
   "outputs": [
    {
     "data": {
      "image/png": "[encoded data removed]",
      "text/plain": [
       "<Figure size 1080x360 with 1 Axes>"
      ]
     },
     "metadata": {
      "needs_background": "light"
     },
     "output_type": "display_data"
    }
   ],
   "source": [
    "# анализ концентрации свинца на различных этапах\n",
    "\n",
    "data_full['rougher.input.feed_pb'].hist(bins = 15, figsize = (15,5), label = 'руда');\n",
    "data_full['rougher.output.concentrate_pb'].hist(bins = 15, figsize = (15,5), label = 'флотация');\n",
    "data_full['primary_cleaner.output.concentrate_pb'].hist(bins = 15, figsize = (15,5), label = 'перв.очистка');\n",
    "data_full['final.output.concentrate_pb'].hist(bins = 15, figsize = (15,5), label = 'фин.концентрат');\n",
    "plt.title('Коцентрация свинца на этапах обработки')\n",
    "plt.ylabel('Количество')\n",
    "legend = True\n",
    "plt.legend(loc='upper right')\n",
    "plt.show()"
   ]
  },
  {
   "cell_type": "markdown",
   "metadata": {},
   "source": [
    "Концентрация свинца в целом возрастает от этапа к этапу, но абсолютные значения в несколько раз ниже концентрации золота в финальном концентрате."
   ]
  },
  {
   "cell_type": "markdown",
   "metadata": {},
   "source": [
    "### Распределение размеров гранул"
   ]
  },
  {
   "cell_type": "code",
   "execution_count": 14,
   "metadata": {},
   "outputs": [
    {
     "data": {
      "image/png": "[encoded data removed]",
      "text/plain": [
       "<Figure size 1080x360 with 1 Axes>"
      ]
     },
     "metadata": {
      "needs_background": "light"
     },
     "output_type": "display_data"
    },
    {
     "name": "stdout",
     "output_type": "stream",
     "text": [
      "count    14579.000000\n",
      "mean        59.070865\n",
      "std         22.903811\n",
      "min          0.049194\n",
      "25%         47.322462\n",
      "50%         54.464259\n",
      "75%         64.469177\n",
      "max        484.967466\n",
      "Name: rougher.input.feed_size, dtype: float64\n",
      "count    4860.000000\n",
      "mean       59.136150\n",
      "std        19.512497\n",
      "min         0.046369\n",
      "25%        47.610795\n",
      "50%        55.461058\n",
      "75%        66.538910\n",
      "max       363.989699\n",
      "Name: rougher.input.feed_size, dtype: float64\n"
     ]
    }
   ],
   "source": [
    "# распределения размеров гранул исходного сырья на обучающей и тестовой выборках\n",
    "\n",
    "plt.figure(figsize=(15, 5))\n",
    "sns.kdeplot(data_train['rougher.input.feed_size'], label='обучающая выборка', alpha=0.5, shade=True)\n",
    "sns.kdeplot(data_test['rougher.input.feed_size'], label='тестовая выборка', alpha=0.5, shade=True)\n",
    "plt.xlim([0, 175])\n",
    "plt.ylabel('Плотность вероятности непрерывной величины')\n",
    "plt.legend(loc='upper right')\n",
    "plt.show()\n",
    "print(data_train['rougher.input.feed_size'].describe())\n",
    "print(data_test['rougher.input.feed_size'].describe())"
   ]
  },
  {
   "cell_type": "markdown",
   "metadata": {},
   "source": [
    "Распределения размеров гранул исходного сырья на обучающей и тестовой выборках похожи, поэтому можно предположить, что оценка модели будет правильной."
   ]
  },
  {
   "cell_type": "markdown",
   "metadata": {},
   "source": [
    "### Cуммарная концентрация металлов на разных стадиях"
   ]
  },
  {
   "cell_type": "code",
   "execution_count": 15,
   "metadata": {},
   "outputs": [],
   "source": [
    "# сумма металлов по стадиям\n",
    "\n",
    "data_full['rougher.input.total'] = (\n",
    "    data_full[['rougher.input.feed_au','rougher.input.feed_ag','rougher.input.feed_pb']].sum(axis = 1))\n",
    "\n",
    "data_full['rougher.output.total'] = data_full[\n",
    "    ['rougher.output.concentrate_au', 'rougher.output.concentrate_ag','rougher.output.concentrate_pb']].sum(axis = 1)\n",
    "\n",
    "data_full['primary_cleaner.output.total'] = data_full[\n",
    "    ['primary_cleaner.output.concentrate_au', 'primary_cleaner.output.concentrate_ag','primary_cleaner.output.concentrate_pb']\n",
    "].sum(axis = 1)\n",
    "\n",
    "data_full['final.output.total'] = data_full[\n",
    "    ['final.output.concentrate_au', 'final.output.concentrate_ag','final.output.concentrate_pb']].sum(axis = 1)"
   ]
  },
  {
   "cell_type": "code",
   "execution_count": 16,
   "metadata": {
    "scrolled": true
   },
   "outputs": [
    {
     "data": {
      "image/png": "[encoded data removed]",
      "text/plain": [
       "<Figure size 1080x360 with 1 Axes>"
      ]
     },
     "metadata": {
      "needs_background": "light"
     },
     "output_type": "display_data"
    }
   ],
   "source": [
    "# анализ суммарной концентрации металлов на различных этапах\n",
    "\n",
    "data_full['rougher.input.total'].hist(bins = 15, figsize = (15,5), label = 'руда');\n",
    "data_full['rougher.output.total'].hist(bins = 15, figsize = (15,5), label = 'флотация');\n",
    "data_full['primary_cleaner.output.total'].hist(bins = 15, figsize = (15,5), label = 'перв.очистка');\n",
    "data_full['final.output.total'].hist(bins = 15, figsize = (15,5), label = 'фин.концентрат');\n",
    "plt.title('Суммарная коцентрация металлов на этапах обработки')\n",
    "plt.ylabel('Количество')\n",
    "legend = True\n",
    "plt.legend(loc='upper left')\n",
    "plt.show()"
   ]
  },
  {
   "cell_type": "markdown",
   "metadata": {},
   "source": [
    "Суммарная концентрация металлов на каждом последующем этапе обработки увеличивается и достигает максимального значения на этапе получения финального концентрата."
   ]
  },
  {
   "cell_type": "markdown",
   "metadata": {},
   "source": [
    "### Исследование выбросов"
   ]
  },
  {
   "cell_type": "code",
   "execution_count": 17,
   "metadata": {
    "scrolled": true
   },
   "outputs": [
    {
     "data": {
      "image/png": "[encoded data removed]",
      "text/plain": [
       "<Figure size 1440x360 with 1 Axes>"
      ]
     },
     "metadata": {
      "needs_background": "light"
     },
     "output_type": "display_data"
    }
   ],
   "source": [
    "# исследование выбросов\n",
    "\n",
    "data_full[['rougher.input.total','rougher.output.total', 'primary_cleaner.output.total', 'final.output.total']].\\\n",
    "boxplot(figsize = (20,5))\n",
    "plt.title('Диаграмма размаха суммарной концентрации этапах обработки')\n",
    "plt.show()\n"
   ]
  },
  {
   "cell_type": "markdown",
   "metadata": {},
   "source": [
    "Суммарные концентраты содержат множество выборосов преимущественно с \"левой\" стороны \"усов\"."
   ]
  },
  {
   "cell_type": "code",
   "execution_count": 18,
   "metadata": {},
   "outputs": [
    {
     "name": "stdout",
     "output_type": "stream",
     "text": [
      "input_q1:  17.252879439403607\n",
      "input_q3:  23.79738079415382\n",
      "delta_q3_q1:  6.5445013547502136\n",
      "input_left_moustache -2.3806246248470337\n"
     ]
    }
   ],
   "source": [
    "# расчет \"усов\" для суммарного концентрата до этапа флотации\n",
    "\n",
    "input_q1 = np.quantile(data_full['rougher.input.total'], 0.25)\n",
    "input_q3 = np.quantile(data_full['rougher.input.total'], 0.75)\n",
    "input_q3_q1 = input_q3 - input_q1\n",
    "input_left_moustache = input_q1 - 3 * input_q3_q1\n",
    "print('input_q1: ', input_q1)\n",
    "print('input_q3: ', input_q3)\n",
    "print('delta_q3_q1: ', input_q3_q1)\n",
    "print('input_left_moustache', input_left_moustache)"
   ]
  },
  {
   "cell_type": "code",
   "execution_count": 19,
   "metadata": {},
   "outputs": [
    {
     "name": "stdout",
     "output_type": "stream",
     "text": [
      "rougher_q1:  38.39463885885074\n",
      "rougher_q3:  42.36510159612477\n",
      "delta_q3_q1:  3.970462737274026\n",
      "rougher_left_moustache 26.48325064702866\n"
     ]
    }
   ],
   "source": [
    "# расчет \"усов\" для суммарного концентрата после этапа флотации\n",
    "\n",
    "rougher_q1 = np.quantile(data_full['rougher.output.total'], 0.25)\n",
    "rougher_q3 = np.quantile(data_full['rougher.output.total'], 0.75)\n",
    "rougher_q3_q1 = rougher_q3 - rougher_q1\n",
    "rougher_left_moustache = rougher_q1 - 3 * rougher_q3_q1\n",
    "print('rougher_q1: ', rougher_q1)\n",
    "print('rougher_q3: ', rougher_q3)\n",
    "print('delta_q3_q1: ', rougher_q3_q1)\n",
    "print('rougher_left_moustache', rougher_left_moustache)"
   ]
  },
  {
   "cell_type": "code",
   "execution_count": 20,
   "metadata": {},
   "outputs": [
    {
     "name": "stdout",
     "output_type": "stream",
     "text": [
      "primary_q1:  50.05487497433616\n",
      "primary_q3:  53.38689803478148\n",
      "delta_q3_q1:  3.970462737274026\n",
      "primary_left_moustache 38.14348676251408\n"
     ]
    }
   ],
   "source": [
    "# расчет \"усов\" для суммарного концентрата после этапа первичной очистки\n",
    "\n",
    "primary_q1 = np.quantile(data_full['primary_cleaner.output.total'], 0.25)\n",
    "primary_q3 = np.quantile(data_full['primary_cleaner.output.total'], 0.75)\n",
    "primary_q3_q1 = rougher_q3 - rougher_q1\n",
    "primary_left_moustache = primary_q1 - 3 * primary_q3_q1\n",
    "print('primary_q1: ', primary_q1)\n",
    "print('primary_q3: ', primary_q3)\n",
    "print('delta_q3_q1: ', primary_q3_q1)\n",
    "print('primary_left_moustache', primary_left_moustache)"
   ]
  },
  {
   "cell_type": "code",
   "execution_count": 21,
   "metadata": {},
   "outputs": [
    {
     "name": "stdout",
     "output_type": "stream",
     "text": [
      "final_q1:  59.29832252160742\n",
      "final_q3:  61.09666661301081\n",
      "delta_q3_q1:  1.7983440914033935\n",
      "final_left_moustache 53.90329024739724\n"
     ]
    }
   ],
   "source": [
    "# расчет \"усов\" для суммарного концентрата на финальном этапе\n",
    "final_q1 = np.quantile(data_full['final.output.total'], 0.25)\n",
    "final_q3 = np.quantile(data_full['final.output.total'], 0.75)\n",
    "final_q3_q1 = final_q3 - final_q1\n",
    "final_left_moustache = final_q1 - 3 * final_q3_q1\n",
    "print('final_q1: ', final_q1)\n",
    "print('final_q3: ', final_q3)\n",
    "print('delta_q3_q1: ', final_q3_q1)\n",
    "print('final_left_moustache', final_left_moustache)"
   ]
  },
  {
   "cell_type": "code",
   "execution_count": 22,
   "metadata": {},
   "outputs": [],
   "source": [
    "# для отделения выбросов из обучающей выборки проведем расчёт суммарной концентрации для тестовых данных\n",
    "\n",
    "data_train['rougher.input.total'] = (\n",
    "    data_train[['rougher.input.feed_au','rougher.input.feed_ag','rougher.input.feed_pb']].sum(axis = 1))\n",
    "\n",
    "data_train['rougher.output.total'] = data_train[\n",
    "    ['rougher.output.concentrate_au', 'rougher.output.concentrate_ag','rougher.output.concentrate_pb']].sum(axis = 1)\n",
    "\n",
    "data_train['primary_cleaner.output.total'] = data_train[\n",
    "    ['primary_cleaner.output.concentrate_au', 'primary_cleaner.output.concentrate_ag','primary_cleaner.output.concentrate_pb']\n",
    "].sum(axis = 1)\n",
    "\n",
    "data_train['final.output.total'] = data_train[\n",
    "    ['final.output.concentrate_au', 'final.output.concentrate_ag','final.output.concentrate_pb']].sum(axis = 1)\n"
   ]
  },
  {
   "cell_type": "code",
   "execution_count": 23,
   "metadata": {},
   "outputs": [
    {
     "data": {
      "text/plain": [
       "13052"
      ]
     },
     "execution_count": 23,
     "metadata": {},
     "output_type": "execute_result"
    }
   ],
   "source": [
    "# отделение выбросов из обучающей выборки\n",
    "\n",
    "data_train = (\n",
    "    data_train[(data_train['rougher.input.total'] >= input_left_moustache)\n",
    "         &(data_train['rougher.output.total'] >= rougher_left_moustache)\\\n",
    "         &(data_train['primary_cleaner.output.total'] >= primary_left_moustache)\\\n",
    "         &(data_train['final.output.total'] >= final_left_moustache)]\n",
    ")\n",
    "len(data_train)"
   ]
  },
  {
   "cell_type": "markdown",
   "metadata": {},
   "source": [
    "Анализ выбросов в данных о суммарных концентратах на диаграмме размаха показал, что в основном выбросы расположены \"слева\" от \"усов\", поэтому такие выбросы были исключены на расстоянии трёх \"ящиков\" ниже первого квантиля. Это привело к удалению около 10% данных."
   ]
  },
  {
   "cell_type": "markdown",
   "metadata": {},
   "source": [
    "### Промежуточный вывод"
   ]
  },
  {
   "cell_type": "markdown",
   "metadata": {},
   "source": [
    "В рамках анализа данных был проведен:\n",
    "1. Анализ концентрации металлов по этапам технологического процесса, который показал следующее:\n",
    "- концентрация золота значительно возрастает на каждом этапе и достигает максмального значения в финальном концентрате,\n",
    "- концентрация серебра колеблется от этапа к этапу, но достигает минимального значения в финальном концентрате,\n",
    "- концентрация свинца в целом возрастает от этапа к этапу, но абсолютные значения в несколько раз ниже концентрации золота в финальном концентрате.\n",
    "2. Анализ распределения размеров гранул исходного сырья на обучающей и тестовой выборках, который показал, что распределения размеров гранул исходного сырья на обучающей и тестовой выборках похожи, поэтому можно предположить, что оценка модели будет правильной.\n",
    "3. Анализ суммарной концентрации металлов, который показал, что на каждом последующем этапе обработки суммарная концентрация увеличивается и достигает максимального значения на этапе получения финального концентрата.\n",
    "4. Анализ выбросов в данных о суммарных концентратах на диаграмме размаха показал, что в основном выбросы расположены \"слева\" от \"усов\", поэтому такие выбросы были исключены на расстоянии трёх \"ящиков\" ниже первого квантиля. Это привело к удалению около 10% данных."
   ]
  },
  {
   "cell_type": "markdown",
   "metadata": {},
   "source": [
    "## Модель"
   ]
  },
  {
   "cell_type": "markdown",
   "metadata": {},
   "source": [
    "### Подготовка обучающих данных"
   ]
  },
  {
   "cell_type": "code",
   "execution_count": 24,
   "metadata": {
    "scrolled": true
   },
   "outputs": [
    {
     "name": "stdout",
     "output_type": "stream",
     "text": [
      "<class 'pandas.core.frame.DataFrame'>\n",
      "Int64Index: 13052 entries, 0 to 14578\n",
      "Data columns (total 2 columns):\n",
      " #   Column                   Non-Null Count  Dtype  \n",
      "---  ------                   --------------  -----  \n",
      " 0   rougher.output.recovery  13052 non-null  float64\n",
      " 1   final.output.recovery    13052 non-null  float64\n",
      "dtypes: float64(2)\n",
      "memory usage: 305.9 KB\n"
     ]
    }
   ],
   "source": [
    "# сохранение целевых признаков из обучающих данных\n",
    "\n",
    "target_train = data_train[['rougher.output.recovery', 'final.output.recovery']]\n",
    "target_train.info()"
   ]
  },
  {
   "cell_type": "code",
   "execution_count": 25,
   "metadata": {
    "scrolled": true
   },
   "outputs": [
    {
     "name": "stdout",
     "output_type": "stream",
     "text": [
      "<class 'pandas.core.frame.DataFrame'>\n",
      "Int64Index: 13052 entries, 0 to 14578\n",
      "Data columns (total 53 columns):\n",
      " #   Column                                      Non-Null Count  Dtype  \n",
      "---  ------                                      --------------  -----  \n",
      " 0   date                                        13052 non-null  object \n",
      " 1   rougher.input.feed_au                       13052 non-null  float64\n",
      " 2   rougher.input.feed_ag                       13052 non-null  float64\n",
      " 3   rougher.input.feed_pb                       13052 non-null  float64\n",
      " 4   rougher.input.feed_sol                      13052 non-null  float64\n",
      " 5   rougher.input.feed_rate                     13052 non-null  float64\n",
      " 6   rougher.input.feed_size                     13052 non-null  float64\n",
      " 7   rougher.input.floatbank10_sulfate           13052 non-null  float64\n",
      " 8   rougher.input.floatbank10_xanthate          13052 non-null  float64\n",
      " 9   rougher.state.floatbank10_a_air             13052 non-null  float64\n",
      " 10  rougher.state.floatbank10_a_level           13052 non-null  float64\n",
      " 11  rougher.state.floatbank10_b_air             13052 non-null  float64\n",
      " 12  rougher.state.floatbank10_b_level           13052 non-null  float64\n",
      " 13  rougher.state.floatbank10_c_air             13052 non-null  float64\n",
      " 14  rougher.state.floatbank10_c_level           13052 non-null  float64\n",
      " 15  rougher.state.floatbank10_d_air             13052 non-null  float64\n",
      " 16  rougher.state.floatbank10_d_level           13052 non-null  float64\n",
      " 17  rougher.state.floatbank10_e_air             13052 non-null  float64\n",
      " 18  rougher.state.floatbank10_e_level           13052 non-null  float64\n",
      " 19  rougher.state.floatbank10_f_air             13052 non-null  float64\n",
      " 20  rougher.state.floatbank10_f_level           13052 non-null  float64\n",
      " 21  rougher.input.floatbank11_sulfate           13052 non-null  float64\n",
      " 22  rougher.input.floatbank11_xanthate          13052 non-null  float64\n",
      " 23  primary_cleaner.input.sulfate               13052 non-null  float64\n",
      " 24  primary_cleaner.input.depressant            13052 non-null  float64\n",
      " 25  primary_cleaner.input.feed_size             13052 non-null  float64\n",
      " 26  primary_cleaner.input.xanthate              13052 non-null  float64\n",
      " 27  primary_cleaner.state.floatbank8_a_air      13052 non-null  float64\n",
      " 28  primary_cleaner.state.floatbank8_a_level    13052 non-null  float64\n",
      " 29  primary_cleaner.state.floatbank8_b_air      13052 non-null  float64\n",
      " 30  primary_cleaner.state.floatbank8_b_level    13052 non-null  float64\n",
      " 31  primary_cleaner.state.floatbank8_c_air      13052 non-null  float64\n",
      " 32  primary_cleaner.state.floatbank8_c_level    13052 non-null  float64\n",
      " 33  primary_cleaner.state.floatbank8_d_air      13052 non-null  float64\n",
      " 34  primary_cleaner.state.floatbank8_d_level    13052 non-null  float64\n",
      " 35  secondary_cleaner.state.floatbank2_a_air    13052 non-null  float64\n",
      " 36  secondary_cleaner.state.floatbank2_a_level  13052 non-null  float64\n",
      " 37  secondary_cleaner.state.floatbank2_b_air    13052 non-null  float64\n",
      " 38  secondary_cleaner.state.floatbank2_b_level  13052 non-null  float64\n",
      " 39  secondary_cleaner.state.floatbank3_a_air    13052 non-null  float64\n",
      " 40  secondary_cleaner.state.floatbank3_a_level  13052 non-null  float64\n",
      " 41  secondary_cleaner.state.floatbank3_b_air    13052 non-null  float64\n",
      " 42  secondary_cleaner.state.floatbank3_b_level  13052 non-null  float64\n",
      " 43  secondary_cleaner.state.floatbank4_a_air    13052 non-null  float64\n",
      " 44  secondary_cleaner.state.floatbank4_a_level  13052 non-null  float64\n",
      " 45  secondary_cleaner.state.floatbank4_b_air    13052 non-null  float64\n",
      " 46  secondary_cleaner.state.floatbank4_b_level  13052 non-null  float64\n",
      " 47  secondary_cleaner.state.floatbank5_a_air    13052 non-null  float64\n",
      " 48  secondary_cleaner.state.floatbank5_a_level  13052 non-null  float64\n",
      " 49  secondary_cleaner.state.floatbank5_b_air    13052 non-null  float64\n",
      " 50  secondary_cleaner.state.floatbank5_b_level  13052 non-null  float64\n",
      " 51  secondary_cleaner.state.floatbank6_a_air    13052 non-null  float64\n",
      " 52  secondary_cleaner.state.floatbank6_a_level  13052 non-null  float64\n",
      "dtypes: float64(52), object(1)\n",
      "memory usage: 5.4+ MB\n"
     ]
    }
   ],
   "source": [
    "# приведение обучающих данных к формату тестовых для сопоставимости в процессе обучения модели\n",
    "\n",
    "common_columns = data_train.columns.intersection(data_test.columns)\n",
    "data_train = data_train.loc[:, common_columns]\n",
    "data_train.info()"
   ]
  },
  {
   "cell_type": "markdown",
   "metadata": {},
   "source": [
    "Датасет с обучающими данными приведен в соответветствие с тестовым датасетом (из обучающих данных удалены столбцы, отсутствующие в тестовых данных)."
   ]
  },
  {
   "cell_type": "markdown",
   "metadata": {},
   "source": [
    "### Функция для оценки моделей"
   ]
  },
  {
   "cell_type": "code",
   "execution_count": 27,
   "metadata": {},
   "outputs": [],
   "source": [
    "# функция sMAPE\n",
    "\n",
    "def smape_unweighted(y_true, y_pred):\n",
    "    error = abs(y_true - y_pred)\n",
    "    scale = (abs(y_true) + abs(y_pred)) / 2 + 0.000000001\n",
    "    result = (error / scale).mean() * 100\n",
    "    return result\n",
    "\n",
    "\n",
    "def smape_weighted(y_true, y_pred):\n",
    "    y_true.reset_index(drop=True, inplace=True)\n",
    "    y_pred = pd.DataFrame(data=y_pred)\n",
    "    rougher = smape_unweighted(y_true.iloc[:, 0], y_pred.iloc[:, 0])\n",
    "    final = smape_unweighted(y_true.iloc[:, 1], y_pred.iloc[:, 1])\n",
    "    return 0.25 * rougher + 0.75 * final"
   ]
  },
  {
   "cell_type": "markdown",
   "metadata": {},
   "source": [
    "Для оценки качества моделей подготовлена функция sMAPE, Symmetric Mean Absolute Percentage Error, симметричное среднее абсолютное процентное отклонение."
   ]
  },
  {
   "cell_type": "markdown",
   "metadata": {},
   "source": [
    "### Разделение выборок на признаки"
   ]
  },
  {
   "cell_type": "code",
   "execution_count": 28,
   "metadata": {},
   "outputs": [],
   "source": [
    "# выделение целевого и прочих признаков из обучающих данных отдельно не требуется\n",
    "# т.к. target_train уже был сохранен на эпате предобработки и столбцы уже были приведены в соответствие тестовым данным\n",
    "# удалим нечисловой столбец 'date'\n",
    "\n",
    "features_train = data_train.drop(['date'], axis=1)\n",
    "features_test = data_test.drop(['date'], axis=1)"
   ]
  },
  {
   "cell_type": "code",
   "execution_count": 29,
   "metadata": {},
   "outputs": [
    {
     "name": "stdout",
     "output_type": "stream",
     "text": [
      "<class 'pandas.core.frame.DataFrame'>\n",
      "Int64Index: 4860 entries, 0 to 4859\n",
      "Data columns (total 2 columns):\n",
      " #   Column                   Non-Null Count  Dtype  \n",
      "---  ------                   --------------  -----  \n",
      " 0   final.output.recovery    4860 non-null   float64\n",
      " 1   rougher.output.recovery  4860 non-null   float64\n",
      "dtypes: float64(2)\n",
      "memory usage: 113.9 KB\n"
     ]
    }
   ],
   "source": [
    "# дополнение тестовых данных целевыми показателями\n",
    "\n",
    "data_full_target = data_full[['date','final.output.recovery', 'rougher.output.recovery']] # выделение только целевых показателей\n",
    "\n",
    "# добавление целевых показателей к тестовому датасету по познаку 'date'\n",
    "# т.к. указано, что соседние по времени параметры часто похожи\n",
    "data_test_target = data_test.merge(data_full_target, on='date', how='left') \n",
    "\n",
    "target_test = data_test_target[['final.output.recovery', 'rougher.output.recovery']]\n",
    "target_test.info()"
   ]
  },
  {
   "cell_type": "markdown",
   "metadata": {},
   "source": [
    "### Линейная регрессия"
   ]
  },
  {
   "cell_type": "code",
   "execution_count": 30,
   "metadata": {},
   "outputs": [],
   "source": [
    "mape_scorer = make_scorer(smape_unweighted, greater_is_better = False)"
   ]
  },
  {
   "cell_type": "code",
   "execution_count": 31,
   "metadata": {},
   "outputs": [
    {
     "data": {
      "text/plain": [
       "('Средняя оценка качества модели линейной регрессии:', -8.181)"
      ]
     },
     "execution_count": 31,
     "metadata": {},
     "output_type": "execute_result"
    }
   ],
   "source": [
    "# обучение модели, построенной по алгоритму линейной регрессии\n",
    "\n",
    "model_lr = LinearRegression()\n",
    "model_lr.fit(features_train, target_train.values)\n",
    "scores = cross_val_score(model_lr, features_train, target_train.values, scoring = mape_scorer)\n",
    "('Средняя оценка качества модели линейной регрессии:', scores.mean().round(5))"
   ]
  },
  {
   "cell_type": "markdown",
   "metadata": {},
   "source": [
    "### Дерево решений в регрессии"
   ]
  },
  {
   "cell_type": "code",
   "execution_count": 32,
   "metadata": {},
   "outputs": [
    {
     "name": "stdout",
     "output_type": "stream",
     "text": [
      "Средняя оценка качества модели дерева решений: -8.97706 Глубина дерева: 4\n"
     ]
    }
   ],
   "source": [
    "# обучение модели дерева решений в регрессии и поиск оптимальной глубины\n",
    "\n",
    "best_model = None\n",
    "best_result = 10000\n",
    "best_depth = 0\n",
    "for depth in range(1, 6):\n",
    "    model = DecisionTreeRegressor(random_state=12345, max_depth=depth)\n",
    "    model.fit(features_train, target_train.values)\n",
    "    scores = cross_val_score(model, features_train, target_train.values, scoring = mape_scorer)\n",
    "    result = scores.mean().round(5)\n",
    "    if result < best_result:\n",
    "        best_model = model\n",
    "        best_result = result\n",
    "        best_depth = depth\n",
    "\n",
    "print('Средняя оценка качества модели дерева решений:', best_result, 'Глубина дерева:', best_depth)"
   ]
  },
  {
   "cell_type": "markdown",
   "metadata": {},
   "source": [
    "### Случайный лес в регрессии"
   ]
  },
  {
   "cell_type": "code",
   "execution_count": 33,
   "metadata": {},
   "outputs": [
    {
     "name": "stdout",
     "output_type": "stream",
     "text": [
      "Средняя оценка качества модели случаного леса: -7.96585 Количество деревьев: 10 Максимальная глубина: 4\n"
     ]
    }
   ],
   "source": [
    "# обучение модели случайного леса в регрессии, поиск оптимального количества деревьев и отимальной глубины\n",
    "\n",
    "best_model = None\n",
    "best_result = 10000\n",
    "best_est = 0\n",
    "best_depth = 0\n",
    "for est in range(10, 51, 10):\n",
    "    for depth in range (1, 5):\n",
    "        model = RandomForestRegressor(random_state=12345, n_estimators=est, max_depth=depth)\n",
    "        model.fit(features_train, target_train.values)\n",
    "        scores = cross_val_score(model, features_train, target_train.values, scoring = mape_scorer)\n",
    "        result = scores.mean().round(5)\n",
    "        if result < best_result:\n",
    "            best_model = model\n",
    "            best_result = result\n",
    "            best_est = est\n",
    "            best_depth = depth\n",
    "\n",
    "print('Средняя оценка качества модели случаного леса:'\n",
    "      , best_result, 'Количество деревьев:', best_est, 'Максимальная глубина:', depth)"
   ]
  },
  {
   "cell_type": "markdown",
   "metadata": {},
   "source": [
    "Модели, обученные по алгоритмам линейной регрессии, дерева решений и случайного леса в регресии, показали примерно одинаково низкий уровень ошибки sMAPE. При этом наилучший результат показала модель, построенная по алгоритму случайного леса с количеством деревьев 10 и глубиной 4 - оценка sMAPE данной модели минимальная."
   ]
  },
  {
   "cell_type": "code",
   "execution_count": 34,
   "metadata": {},
   "outputs": [
    {
     "data": {
      "text/plain": [
       "RandomForestRegressor(max_depth=4, n_estimators=10, random_state=12345)"
      ]
     },
     "execution_count": 34,
     "metadata": {},
     "output_type": "execute_result"
    }
   ],
   "source": [
    "# сохранение модели, обученной по алгоритму случайного леса для последющей проверки на тестовых данных\n",
    "\n",
    "model = RandomForestRegressor(random_state=12345, n_estimators=10, max_depth=4)\n",
    "model.fit(features_train, target_train.values)"
   ]
  },
  {
   "cell_type": "code",
   "execution_count": 35,
   "metadata": {},
   "outputs": [
    {
     "data": {
      "text/html": [
       "<div>\n",
       "<style scoped>\n",
       "    .dataframe tbody tr th:only-of-type {\n",
       "        vertical-align: middle;\n",
       "    }\n",
       "\n",
       "    .dataframe tbody tr th {\n",
       "        vertical-align: top;\n",
       "    }\n",
       "\n",
       "    .dataframe thead th {\n",
       "        text-align: right;\n",
       "    }\n",
       "</style>\n",
       "<table border=\"1\" class=\"dataframe\">\n",
       "  <thead>\n",
       "    <tr style=\"text-align: right;\">\n",
       "      <th></th>\n",
       "      <th>predictions_rougher</th>\n",
       "      <th>predictions_final</th>\n",
       "    </tr>\n",
       "  </thead>\n",
       "  <tbody>\n",
       "    <tr>\n",
       "      <th>0</th>\n",
       "      <td>85.283824</td>\n",
       "      <td>63.430220</td>\n",
       "    </tr>\n",
       "    <tr>\n",
       "      <th>1</th>\n",
       "      <td>86.803438</td>\n",
       "      <td>65.588438</td>\n",
       "    </tr>\n",
       "    <tr>\n",
       "      <th>2</th>\n",
       "      <td>88.393041</td>\n",
       "      <td>67.935777</td>\n",
       "    </tr>\n",
       "    <tr>\n",
       "      <th>3</th>\n",
       "      <td>86.803438</td>\n",
       "      <td>65.588438</td>\n",
       "    </tr>\n",
       "    <tr>\n",
       "      <th>4</th>\n",
       "      <td>87.768344</td>\n",
       "      <td>67.227356</td>\n",
       "    </tr>\n",
       "    <tr>\n",
       "      <th>...</th>\n",
       "      <td>...</td>\n",
       "      <td>...</td>\n",
       "    </tr>\n",
       "    <tr>\n",
       "      <th>4855</th>\n",
       "      <td>83.541622</td>\n",
       "      <td>66.255843</td>\n",
       "    </tr>\n",
       "    <tr>\n",
       "      <th>4856</th>\n",
       "      <td>83.541622</td>\n",
       "      <td>66.255843</td>\n",
       "    </tr>\n",
       "    <tr>\n",
       "      <th>4857</th>\n",
       "      <td>83.541622</td>\n",
       "      <td>66.255843</td>\n",
       "    </tr>\n",
       "    <tr>\n",
       "      <th>4858</th>\n",
       "      <td>83.541622</td>\n",
       "      <td>66.255843</td>\n",
       "    </tr>\n",
       "    <tr>\n",
       "      <th>4859</th>\n",
       "      <td>83.541622</td>\n",
       "      <td>66.255843</td>\n",
       "    </tr>\n",
       "  </tbody>\n",
       "</table>\n",
       "<p>4860 rows × 2 columns</p>\n",
       "</div>"
      ],
      "text/plain": [
       "      predictions_rougher  predictions_final\n",
       "0               85.283824          63.430220\n",
       "1               86.803438          65.588438\n",
       "2               88.393041          67.935777\n",
       "3               86.803438          65.588438\n",
       "4               87.768344          67.227356\n",
       "...                   ...                ...\n",
       "4855            83.541622          66.255843\n",
       "4856            83.541622          66.255843\n",
       "4857            83.541622          66.255843\n",
       "4858            83.541622          66.255843\n",
       "4859            83.541622          66.255843\n",
       "\n",
       "[4860 rows x 2 columns]"
      ]
     },
     "execution_count": 35,
     "metadata": {},
     "output_type": "execute_result"
    }
   ],
   "source": [
    "# проверка модели на тестовых данных\n",
    "\n",
    "predicted_test = model.predict(features_test)\n",
    "predicted_test_df = pd.DataFrame(predicted_test, columns=['predictions_rougher', 'predictions_final'])\n",
    "predicted_test_df"
   ]
  },
  {
   "cell_type": "code",
   "execution_count": 36,
   "metadata": {},
   "outputs": [
    {
     "data": {
      "text/plain": [
       "('Средняя оценка качества модели:', 24.17828)"
      ]
     },
     "execution_count": 36,
     "metadata": {},
     "output_type": "execute_result"
    }
   ],
   "source": [
    "# оценка качества модели\n",
    "\n",
    "smape = smape_weighted(target_test, predicted_test_df)\n",
    "\n",
    "'Средняя оценка качества модели:', smape.round(5)"
   ]
  },
  {
   "cell_type": "markdown",
   "metadata": {},
   "source": [
    "На тестовых данных модель продемонстрировала ухудшение качества предсказаний, т.к. ошибка sMAPE возросла до 24% (почти в три раза по сравнению с ошибкой на обущающей выборке)."
   ]
  },
  {
   "cell_type": "markdown",
   "metadata": {},
   "source": [
    "### Проверка модели на адекватность"
   ]
  },
  {
   "cell_type": "code",
   "execution_count": 37,
   "metadata": {},
   "outputs": [],
   "source": [
    "# подготовка dummy-модели с медианными показателями\n",
    "\n",
    "dummy_regr = DummyRegressor(strategy=\"median\")\n",
    "dummy_regr.fit(features_train, target_train)\n",
    "predicted_dummy = dummy_regr.predict(features_test)"
   ]
  },
  {
   "cell_type": "code",
   "execution_count": 38,
   "metadata": {},
   "outputs": [
    {
     "data": {
      "text/plain": [
       "('Средняя оценка качества dummy-модели:', 23.47806)"
      ]
     },
     "execution_count": 38,
     "metadata": {},
     "output_type": "execute_result"
    }
   ],
   "source": [
    "# оценка качества dummy-модели\n",
    "\n",
    "smape_dummy = smape_weighted(target_test, predicted_dummy)\n",
    "\n",
    "'Средняя оценка качества dummy-модели:', smape_dummy.round(5)"
   ]
  },
  {
   "cell_type": "markdown",
   "metadata": {},
   "source": [
    "### Промежуточный вывод"
   ]
  },
  {
   "cell_type": "markdown",
   "metadata": {},
   "source": [
    "Для оценки качества моделей подготовлена функция sMAPE, Symmetric Mean Absolute Percentage Error, симметричное среднее абсолютное процентное отклонение.\n",
    "\n",
    "Модели, обученные по алгоритмам линейной регрессии, дерева решений и случайного леса в регресии, показали примерно одинаково низкий уровень ошибки sMAPE. При этом наилучший результат показала модель, построенная по алгоритму случайного леса с количеством деревьев 20 и глубиной 4 - оценка sMAPE данной модели минимальная.\n",
    "\n",
    "Для проверки модели на тестовых данных использована модель, построенная по алгоритму случайного леса с количеством деревьев 20 и глубиной 4.\n",
    "\n",
    "На тестовых данных модель продемонстрировала ухудшение качества предсказаний, т.к. ошибка sMAPE возросла до 24% (почти в три раза по сравнению с ошибкой на обущающей выборке).\n",
    "\n",
    "Для проверки модели на адекватность добавлена dummy-модель с медианными данными, которая показывает размер ошибки sMAPE 23.5%, т.е. на 0.5% ниже модели случайного леса. Это говорит о том, что необходимо либо доработать модель до целевого показателя sMAPE при его наличии, либо возможно использовать модель с  медианными данными."
   ]
  },
  {
   "cell_type": "markdown",
   "metadata": {},
   "source": [
    "## Общий вывод"
   ]
  },
  {
   "cell_type": "markdown",
   "metadata": {},
   "source": [
    "Компания «Цифры» разрабатывает решения для эффективной работы промышленных предприятий. Компании были предоставлены данные с параметрами добычи и очистки.\n",
    "\n",
    "Задача: подготовить прототип модели машинного обучения для предприятия; модель должна предсказать коэффициент восстановления золота из золотосодержащей руды с целью оптимизировать производство, чтобы не запускать предприятие с убыточными характеристиками.\n",
    "\n",
    "В ходе работы над проектом были выполнены следующие шаги: "
   ]
  },
  {
   "cell_type": "markdown",
   "metadata": {},
   "source": [
    "### Подготовка данных"
   ]
  },
  {
   "cell_type": "markdown",
   "metadata": {},
   "source": [
    "В рамках данного шага были загружены предоставленные данные и проведена предобработка.\n",
    "\n",
    "По результатам предобработки данных можно сделать следующие выводы:\n",
    "\n",
    "1. Датасет с обущающими данными содержит определенный объем данных, дубликаты не обнаружены, при этом датасет содержит пропуски несущественного объема данных (менее 5% и во второстепенных данных).\n",
    "\n",
    "2. Датасет с тестовыми данными содержит меньший набор признаков по сравнению в обучающими данными, дубликаты не обнаружены, при этом датасет содержит пропуски несущественного объема данных (менее 2% и во второстепенных данных). В тествой выборке не содержатся данные о результатах выполенных этапов флотации и двух очисток - выходные данные о концентрации металлов и количестве отвальных хвостов на каждом из этапов. Это отсутствие объясняется тем, что для целей теста технлогические процессы по выделению финального концентрата еще не произошли, т.к. именно модель должна предсказать их результат.\n",
    "\n",
    "3. Датасет с полными данными представляет собой объединение тестовых и обучающих данных, дубликаты не обнаружены, при этом датасет содержит пропуски несущественного объема данных менее 5% по ряду столбцов и около 9% в столбце secondary_cleaner.output.tail_sol, которые представляет собой второстепенные данные.\n",
    "\n",
    "4. Целевой признак эффективности обогащения, recovery, был пересчитан вручную для проверки данных. Ручной пересчёт показал, что разница с имеющимися показателями recovery стремится к 0, поэтому можно сделать вывод, что в датасете содержатся корретные показатели эффективности обогащения rougher.output.recovery и final.output.recovery (после этапов флотации и очистки).\n",
    "\n",
    "В рамках предобработки данных:\n",
    "- пропуски в всех трёх датасетах заполнены ближайшими значениями."
   ]
  },
  {
   "cell_type": "markdown",
   "metadata": {},
   "source": [
    "### Анализ данных"
   ]
  },
  {
   "cell_type": "markdown",
   "metadata": {},
   "source": [
    "В рамках анализа данных был проведен:\n",
    "\n",
    "1. Анализ концентрации металлов по этапам технологического процесса, который показал следующее:\n",
    "- концентрация золота значительно возрастает на каждом этапе и достигает максмального значения в финальном концентрате,\n",
    "- концентрация серебра колеблется от этапа к этапу, но достигает минимального значения в финальном концентрате,\n",
    "- концентрация свинца в целом возрастает от этапа к этапу, но абсолютные значения в несколько раз ниже концентрации золота в финальном концентрате.\n",
    "2. Анализ распределения размеров гранул исходного сырья на обучающей и тестовой выборках, который показал, что распределения размеров гранул исходного сырья на обучающей и тестовой выборках похожи, поэтому можно предположить, что оценка модели будет правильной.\n",
    "3. Анализ суммарной концентрации металлов, который показал, что на каждом последующем этапе обработки суммарная концентрация увеличивается и достигает максимального значения на этапе получения финального концентрата.\n",
    "4. Анализ выбросов в данных о суммарных концентратах на диаграмме размаха показал, что в основном выбросы расположены \"слева\" от \"усов\", поэтому такие выбросы были исключены на расстоянии трёх \"ящиков\" ниже первого квантиля. Это привело к удалению около 10% данных."
   ]
  },
  {
   "cell_type": "markdown",
   "metadata": {},
   "source": [
    "### Обучение модели и тестирование"
   ]
  },
  {
   "cell_type": "markdown",
   "metadata": {},
   "source": [
    "Перед обучением модели датасет с обучающими данными был приведен в соответветствие с тестовым датасетом (из обучающих данных удалены столбцы, отсутствующие в тестовых данных).\n",
    "\n",
    "Для оценки качества моделей подготовлена функция sMAPE, Symmetric Mean Absolute Percentage Error, симметричное среднее абсолютное процентное отклонение.\n",
    "\n",
    "Модели, обученные по алгоритмам линейной регрессии, дерева решений и случайного леса в регресии, показали примерно одинаково низкий уровень ошибки sMAPE. При этом наилучший результат показала модель, построенная по алгоритму случайного леса с количеством деревьев 20 и глубиной 4 - оценка sMAPE данной модели минимальная.\n",
    "\n",
    "Для проверки модели на тестовых данных использована модель, построенная по алгоритму случайного леса с количеством деревьев 10 и глубиной 4.\n",
    "\n",
    "На тестовых данных модель продемонстрировала ухудшение качества предсказаний, т.к. ошибка sMAPE возросла до 24% (почти в три раза по сравнению с ошибкой на обущающей выборке).\n",
    "\n",
    "Для проверки модели на адекватность добавлена dummy-модель с медианными данными, которая показывает размер ошибки sMAPE 23.5%, т.е. на 0.5% ниже модели случайного леса. Это говорит о том, что необходимо либо доработать модель до целевого показателя sMAPE при его наличии, либо возможно использовать модель с  медианными данными."
   ]
  }
 ],
 "metadata": {
  "ExecuteTimeLog": [
   {
    "duration": 420,
    "start_time": "2024-01-11T16:04:21.647Z"
   },
   {
    "duration": 2119,
    "start_time": "2024-01-11T16:06:07.725Z"
   },
   {
    "duration": 172,
    "start_time": "2024-01-11T16:11:28.417Z"
   },
   {
    "duration": 56,
    "start_time": "2024-01-11T17:09:22.985Z"
   },
   {
    "duration": 140,
    "start_time": "2024-01-11T17:16:15.899Z"
   },
   {
    "duration": 4,
    "start_time": "2024-01-11T17:18:04.940Z"
   },
   {
    "duration": 3,
    "start_time": "2024-01-11T17:18:30.294Z"
   },
   {
    "duration": 4,
    "start_time": "2024-01-11T17:21:13.787Z"
   },
   {
    "duration": 4,
    "start_time": "2024-01-11T17:21:28.489Z"
   },
   {
    "duration": 4,
    "start_time": "2024-01-11T17:52:17.098Z"
   },
   {
    "duration": 7,
    "start_time": "2024-01-11T17:57:22.038Z"
   },
   {
    "duration": 6,
    "start_time": "2024-01-11T17:58:10.948Z"
   },
   {
    "duration": 7,
    "start_time": "2024-01-11T17:58:28.629Z"
   },
   {
    "duration": 444,
    "start_time": "2024-01-12T10:02:03.025Z"
   },
   {
    "duration": 2163,
    "start_time": "2024-01-12T10:02:03.471Z"
   },
   {
    "duration": 187,
    "start_time": "2024-01-12T10:02:05.636Z"
   },
   {
    "duration": 76,
    "start_time": "2024-01-12T10:02:05.825Z"
   },
   {
    "duration": 161,
    "start_time": "2024-01-12T10:02:05.904Z"
   },
   {
    "duration": 9,
    "start_time": "2024-01-12T10:02:06.066Z"
   },
   {
    "duration": 9,
    "start_time": "2024-01-12T10:02:06.076Z"
   },
   {
    "duration": 5,
    "start_time": "2024-01-12T10:02:58.735Z"
   },
   {
    "duration": 6,
    "start_time": "2024-01-12T10:03:08.247Z"
   },
   {
    "duration": 7,
    "start_time": "2024-01-12T10:21:06.541Z"
   },
   {
    "duration": 8,
    "start_time": "2024-01-12T10:21:29.859Z"
   },
   {
    "duration": 8,
    "start_time": "2024-01-12T10:22:56.199Z"
   },
   {
    "duration": 7,
    "start_time": "2024-01-12T10:24:41.311Z"
   },
   {
    "duration": 5,
    "start_time": "2024-01-12T10:24:44.324Z"
   },
   {
    "duration": 5,
    "start_time": "2024-01-12T10:25:02.553Z"
   },
   {
    "duration": 8,
    "start_time": "2024-01-12T10:25:09.669Z"
   },
   {
    "duration": 7,
    "start_time": "2024-01-12T10:25:14.231Z"
   },
   {
    "duration": 11,
    "start_time": "2024-01-12T10:25:36.921Z"
   },
   {
    "duration": 8,
    "start_time": "2024-01-12T10:29:27.835Z"
   },
   {
    "duration": 29,
    "start_time": "2024-01-12T12:51:22.298Z"
   },
   {
    "duration": 64,
    "start_time": "2024-01-12T12:52:04.004Z"
   },
   {
    "duration": 29,
    "start_time": "2024-01-12T12:52:29.776Z"
   },
   {
    "duration": 4,
    "start_time": "2024-01-12T13:34:31.649Z"
   },
   {
    "duration": 2,
    "start_time": "2024-01-12T13:34:39.792Z"
   },
   {
    "duration": 11,
    "start_time": "2024-01-12T13:37:40.103Z"
   },
   {
    "duration": 9,
    "start_time": "2024-01-12T13:37:57.361Z"
   },
   {
    "duration": 13,
    "start_time": "2024-01-12T13:38:10.529Z"
   },
   {
    "duration": 8,
    "start_time": "2024-01-12T13:38:15.316Z"
   },
   {
    "duration": 9,
    "start_time": "2024-01-12T13:38:37.468Z"
   },
   {
    "duration": 7,
    "start_time": "2024-01-12T13:40:42.832Z"
   },
   {
    "duration": 7,
    "start_time": "2024-01-12T13:41:07.107Z"
   },
   {
    "duration": 29,
    "start_time": "2024-01-12T13:44:47.270Z"
   },
   {
    "duration": 44,
    "start_time": "2024-01-12T14:08:04.378Z"
   },
   {
    "duration": 36,
    "start_time": "2024-01-12T14:08:37.153Z"
   },
   {
    "duration": 26,
    "start_time": "2024-01-12T14:08:49.224Z"
   },
   {
    "duration": 18,
    "start_time": "2024-01-12T14:10:31.815Z"
   },
   {
    "duration": 16,
    "start_time": "2024-01-12T14:10:43.040Z"
   },
   {
    "duration": 405,
    "start_time": "2024-01-12T14:45:53.987Z"
   },
   {
    "duration": 234,
    "start_time": "2024-01-12T14:46:00.874Z"
   },
   {
    "duration": 202,
    "start_time": "2024-01-12T14:47:39.101Z"
   },
   {
    "duration": 238,
    "start_time": "2024-01-12T14:48:37.643Z"
   },
   {
    "duration": 1620,
    "start_time": "2024-01-12T14:50:14.586Z"
   },
   {
    "duration": 1378,
    "start_time": "2024-01-12T14:50:36.305Z"
   },
   {
    "duration": 1656,
    "start_time": "2024-01-12T14:51:22.648Z"
   },
   {
    "duration": 1210,
    "start_time": "2024-01-12T14:51:48.486Z"
   },
   {
    "duration": 238,
    "start_time": "2024-01-12T14:52:11.647Z"
   },
   {
    "duration": 219,
    "start_time": "2024-01-12T14:55:09.823Z"
   },
   {
    "duration": 217,
    "start_time": "2024-01-12T14:56:36.182Z"
   },
   {
    "duration": 1180,
    "start_time": "2024-01-12T14:57:58.984Z"
   },
   {
    "duration": 1120,
    "start_time": "2024-01-12T14:58:17.649Z"
   },
   {
    "duration": 8,
    "start_time": "2024-01-12T14:58:36.913Z"
   },
   {
    "duration": 1157,
    "start_time": "2024-01-12T14:58:42.970Z"
   },
   {
    "duration": 653,
    "start_time": "2024-01-12T15:00:05.154Z"
   },
   {
    "duration": 844,
    "start_time": "2024-01-12T15:00:05.809Z"
   },
   {
    "duration": 177,
    "start_time": "2024-01-12T15:00:06.655Z"
   },
   {
    "duration": 61,
    "start_time": "2024-01-12T15:00:06.834Z"
   },
   {
    "duration": 168,
    "start_time": "2024-01-12T15:00:06.897Z"
   },
   {
    "duration": 9,
    "start_time": "2024-01-12T15:00:07.067Z"
   },
   {
    "duration": 13,
    "start_time": "2024-01-12T15:00:07.078Z"
   },
   {
    "duration": 55,
    "start_time": "2024-01-12T15:00:07.093Z"
   },
   {
    "duration": 39,
    "start_time": "2024-01-12T15:00:07.150Z"
   },
   {
    "duration": 255,
    "start_time": "2024-01-12T15:00:07.191Z"
   },
   {
    "duration": 1261,
    "start_time": "2024-01-12T15:00:07.448Z"
   },
   {
    "duration": 1238,
    "start_time": "2024-01-12T15:01:01.300Z"
   },
   {
    "duration": 82,
    "start_time": "2024-01-12T15:01:50.462Z"
   },
   {
    "duration": 76,
    "start_time": "2024-01-12T15:02:03.734Z"
   },
   {
    "duration": 1264,
    "start_time": "2024-01-12T15:03:40.954Z"
   },
   {
    "duration": 1324,
    "start_time": "2024-01-12T15:04:06.390Z"
   },
   {
    "duration": 1285,
    "start_time": "2024-01-12T15:04:16.774Z"
   },
   {
    "duration": 1275,
    "start_time": "2024-01-12T15:05:26.900Z"
   },
   {
    "duration": 1212,
    "start_time": "2024-01-12T15:08:46.307Z"
   },
   {
    "duration": 1286,
    "start_time": "2024-01-12T15:09:00.491Z"
   },
   {
    "duration": 1233,
    "start_time": "2024-01-12T15:11:47.910Z"
   },
   {
    "duration": 1190,
    "start_time": "2024-01-12T15:16:48.295Z"
   },
   {
    "duration": 1467,
    "start_time": "2024-01-12T15:18:37.542Z"
   },
   {
    "duration": 215,
    "start_time": "2024-01-12T15:18:49.429Z"
   },
   {
    "duration": 677,
    "start_time": "2024-01-12T15:19:07.817Z"
   },
   {
    "duration": 862,
    "start_time": "2024-01-12T15:19:08.496Z"
   },
   {
    "duration": 165,
    "start_time": "2024-01-12T15:19:09.359Z"
   },
   {
    "duration": 65,
    "start_time": "2024-01-12T15:19:09.526Z"
   },
   {
    "duration": 163,
    "start_time": "2024-01-12T15:19:09.593Z"
   },
   {
    "duration": 10,
    "start_time": "2024-01-12T15:19:09.757Z"
   },
   {
    "duration": 40,
    "start_time": "2024-01-12T15:19:09.769Z"
   },
   {
    "duration": 28,
    "start_time": "2024-01-12T15:19:09.811Z"
   },
   {
    "duration": 27,
    "start_time": "2024-01-12T15:19:09.841Z"
   },
   {
    "duration": 227,
    "start_time": "2024-01-12T15:19:09.870Z"
   },
   {
    "duration": 1438,
    "start_time": "2024-01-12T15:19:10.098Z"
   },
   {
    "duration": 0,
    "start_time": "2024-01-12T15:19:11.538Z"
   },
   {
    "duration": 0,
    "start_time": "2024-01-12T15:19:11.539Z"
   },
   {
    "duration": 1419,
    "start_time": "2024-01-12T15:19:45.843Z"
   },
   {
    "duration": 1403,
    "start_time": "2024-01-12T15:19:53.497Z"
   },
   {
    "duration": 7,
    "start_time": "2024-01-12T15:22:57.407Z"
   },
   {
    "duration": 1457,
    "start_time": "2024-01-12T15:32:29.946Z"
   },
   {
    "duration": 659,
    "start_time": "2024-01-12T15:34:19.349Z"
   },
   {
    "duration": 826,
    "start_time": "2024-01-12T15:34:20.009Z"
   },
   {
    "duration": 172,
    "start_time": "2024-01-12T15:34:20.836Z"
   },
   {
    "duration": 68,
    "start_time": "2024-01-12T15:34:21.010Z"
   },
   {
    "duration": 173,
    "start_time": "2024-01-12T15:34:21.080Z"
   },
   {
    "duration": 7,
    "start_time": "2024-01-12T15:34:21.255Z"
   },
   {
    "duration": 7,
    "start_time": "2024-01-12T15:34:21.264Z"
   },
   {
    "duration": 26,
    "start_time": "2024-01-12T15:34:21.273Z"
   },
   {
    "duration": 52,
    "start_time": "2024-01-12T15:34:21.301Z"
   },
   {
    "duration": 1493,
    "start_time": "2024-01-12T15:34:21.355Z"
   },
   {
    "duration": 0,
    "start_time": "2024-01-12T15:34:22.850Z"
   },
   {
    "duration": 0,
    "start_time": "2024-01-12T15:34:22.851Z"
   },
   {
    "duration": 0,
    "start_time": "2024-01-12T15:34:22.852Z"
   },
   {
    "duration": 1,
    "start_time": "2024-01-12T15:34:22.853Z"
   },
   {
    "duration": 0,
    "start_time": "2024-01-12T15:34:22.854Z"
   },
   {
    "duration": 207,
    "start_time": "2024-01-12T15:46:36.389Z"
   },
   {
    "duration": 7,
    "start_time": "2024-01-12T15:46:41.602Z"
   },
   {
    "duration": 1166,
    "start_time": "2024-01-12T15:46:52.693Z"
   },
   {
    "duration": 4,
    "start_time": "2024-01-12T16:06:18.388Z"
   },
   {
    "duration": 28,
    "start_time": "2024-01-12T16:08:28.255Z"
   },
   {
    "duration": 1565,
    "start_time": "2024-01-12T16:08:32.051Z"
   },
   {
    "duration": 1147,
    "start_time": "2024-01-12T16:08:42.764Z"
   },
   {
    "duration": 618,
    "start_time": "2024-01-12T16:09:03.394Z"
   },
   {
    "duration": 828,
    "start_time": "2024-01-12T16:09:04.014Z"
   },
   {
    "duration": 171,
    "start_time": "2024-01-12T16:09:04.844Z"
   },
   {
    "duration": 69,
    "start_time": "2024-01-12T16:09:05.017Z"
   },
   {
    "duration": 167,
    "start_time": "2024-01-12T16:09:05.089Z"
   },
   {
    "duration": 8,
    "start_time": "2024-01-12T16:09:05.258Z"
   },
   {
    "duration": 23,
    "start_time": "2024-01-12T16:09:05.268Z"
   },
   {
    "duration": 39,
    "start_time": "2024-01-12T16:09:05.293Z"
   },
   {
    "duration": 39,
    "start_time": "2024-01-12T16:09:05.334Z"
   },
   {
    "duration": 261,
    "start_time": "2024-01-12T16:09:05.375Z"
   },
   {
    "duration": 244,
    "start_time": "2024-01-12T16:09:05.642Z"
   },
   {
    "duration": 6,
    "start_time": "2024-01-12T16:09:05.888Z"
   },
   {
    "duration": 97,
    "start_time": "2024-01-12T16:09:05.895Z"
   },
   {
    "duration": 275,
    "start_time": "2024-01-12T16:09:05.995Z"
   },
   {
    "duration": 233,
    "start_time": "2024-01-12T16:09:06.272Z"
   },
   {
    "duration": 215,
    "start_time": "2024-01-12T16:09:06.507Z"
   },
   {
    "duration": 626,
    "start_time": "2024-01-12T16:09:28.377Z"
   },
   {
    "duration": 844,
    "start_time": "2024-01-12T16:09:29.006Z"
   },
   {
    "duration": 190,
    "start_time": "2024-01-12T16:09:29.852Z"
   },
   {
    "duration": 56,
    "start_time": "2024-01-12T16:09:30.044Z"
   },
   {
    "duration": 186,
    "start_time": "2024-01-12T16:09:30.102Z"
   },
   {
    "duration": 9,
    "start_time": "2024-01-12T16:09:30.289Z"
   },
   {
    "duration": 61,
    "start_time": "2024-01-12T16:09:30.300Z"
   },
   {
    "duration": 75,
    "start_time": "2024-01-12T16:09:30.363Z"
   },
   {
    "duration": 38,
    "start_time": "2024-01-12T16:09:30.440Z"
   },
   {
    "duration": 288,
    "start_time": "2024-01-12T16:09:30.480Z"
   },
   {
    "duration": 235,
    "start_time": "2024-01-12T16:09:30.770Z"
   },
   {
    "duration": 5,
    "start_time": "2024-01-12T16:09:31.007Z"
   },
   {
    "duration": 33,
    "start_time": "2024-01-12T16:09:31.013Z"
   },
   {
    "duration": 319,
    "start_time": "2024-01-12T16:09:31.048Z"
   },
   {
    "duration": 247,
    "start_time": "2024-01-12T16:09:31.369Z"
   },
   {
    "duration": 235,
    "start_time": "2024-01-12T16:09:31.618Z"
   },
   {
    "duration": 228,
    "start_time": "2024-01-12T16:12:56.896Z"
   },
   {
    "duration": 244,
    "start_time": "2024-01-12T16:13:24.199Z"
   },
   {
    "duration": 243,
    "start_time": "2024-01-12T16:13:41.776Z"
   },
   {
    "duration": 313,
    "start_time": "2024-01-12T16:13:59.383Z"
   },
   {
    "duration": 249,
    "start_time": "2024-01-12T16:14:35.152Z"
   },
   {
    "duration": 257,
    "start_time": "2024-01-12T16:15:24.195Z"
   },
   {
    "duration": 254,
    "start_time": "2024-01-12T16:26:58.176Z"
   },
   {
    "duration": 280,
    "start_time": "2024-01-12T16:27:02.670Z"
   },
   {
    "duration": 135,
    "start_time": "2024-01-12T16:36:58.144Z"
   },
   {
    "duration": 122,
    "start_time": "2024-01-12T16:37:09.507Z"
   },
   {
    "duration": 262,
    "start_time": "2024-01-12T16:38:05.265Z"
   },
   {
    "duration": 144,
    "start_time": "2024-01-12T16:38:45.978Z"
   },
   {
    "duration": 159,
    "start_time": "2024-01-12T16:39:11.325Z"
   },
   {
    "duration": 491,
    "start_time": "2024-01-12T17:04:28.504Z"
   },
   {
    "duration": 479,
    "start_time": "2024-01-12T17:05:26.799Z"
   },
   {
    "duration": 335,
    "start_time": "2024-01-12T17:06:05.139Z"
   },
   {
    "duration": 3,
    "start_time": "2024-01-12T17:06:20.436Z"
   },
   {
    "duration": 831,
    "start_time": "2024-01-12T17:06:21.937Z"
   },
   {
    "duration": 401,
    "start_time": "2024-01-12T17:06:25.347Z"
   },
   {
    "duration": 185,
    "start_time": "2024-01-12T17:07:13.274Z"
   },
   {
    "duration": 1261,
    "start_time": "2024-01-12T17:07:51.521Z"
   },
   {
    "duration": 856,
    "start_time": "2024-01-12T17:07:52.784Z"
   },
   {
    "duration": 435,
    "start_time": "2024-01-12T17:07:53.642Z"
   },
   {
    "duration": 223,
    "start_time": "2024-01-12T17:07:54.079Z"
   },
   {
    "duration": 157,
    "start_time": "2024-01-12T17:07:54.304Z"
   },
   {
    "duration": 8,
    "start_time": "2024-01-12T17:07:54.463Z"
   },
   {
    "duration": 7,
    "start_time": "2024-01-12T17:07:54.473Z"
   },
   {
    "duration": 24,
    "start_time": "2024-01-12T17:07:54.482Z"
   },
   {
    "duration": 62,
    "start_time": "2024-01-12T17:07:54.507Z"
   },
   {
    "duration": 264,
    "start_time": "2024-01-12T17:07:54.570Z"
   },
   {
    "duration": 289,
    "start_time": "2024-01-12T17:07:54.835Z"
   },
   {
    "duration": 269,
    "start_time": "2024-01-12T17:07:55.126Z"
   },
   {
    "duration": 501,
    "start_time": "2024-01-12T17:07:55.397Z"
   },
   {
    "duration": 562,
    "start_time": "2024-01-12T17:10:27.830Z"
   },
   {
    "duration": 443,
    "start_time": "2024-01-12T17:18:19.034Z"
   },
   {
    "duration": 66,
    "start_time": "2024-01-12T17:40:31.100Z"
   },
   {
    "duration": 249,
    "start_time": "2024-01-12T17:42:32.043Z"
   },
   {
    "duration": 1183,
    "start_time": "2024-01-12T17:43:01.927Z"
   },
   {
    "duration": 884,
    "start_time": "2024-01-12T17:43:03.112Z"
   },
   {
    "duration": 389,
    "start_time": "2024-01-12T17:43:03.998Z"
   },
   {
    "duration": 181,
    "start_time": "2024-01-12T17:43:04.389Z"
   },
   {
    "duration": 146,
    "start_time": "2024-01-12T17:43:04.571Z"
   },
   {
    "duration": 8,
    "start_time": "2024-01-12T17:43:04.718Z"
   },
   {
    "duration": 44,
    "start_time": "2024-01-12T17:43:04.728Z"
   },
   {
    "duration": 35,
    "start_time": "2024-01-12T17:43:04.773Z"
   },
   {
    "duration": 40,
    "start_time": "2024-01-12T17:43:04.810Z"
   },
   {
    "duration": 269,
    "start_time": "2024-01-12T17:43:04.852Z"
   },
   {
    "duration": 263,
    "start_time": "2024-01-12T17:43:05.123Z"
   },
   {
    "duration": 261,
    "start_time": "2024-01-12T17:43:05.387Z"
   },
   {
    "duration": 422,
    "start_time": "2024-01-12T17:43:05.649Z"
   },
   {
    "duration": 71,
    "start_time": "2024-01-12T17:43:06.072Z"
   },
   {
    "duration": 316,
    "start_time": "2024-01-12T17:43:06.144Z"
   },
   {
    "duration": 24,
    "start_time": "2024-01-12T17:44:11.756Z"
   },
   {
    "duration": 250,
    "start_time": "2024-01-12T17:44:16.414Z"
   },
   {
    "duration": 287,
    "start_time": "2024-01-12T17:44:36.727Z"
   },
   {
    "duration": 247,
    "start_time": "2024-01-12T17:44:53.484Z"
   },
   {
    "duration": 254,
    "start_time": "2024-01-12T17:45:13.586Z"
   },
   {
    "duration": 270,
    "start_time": "2024-01-12T17:46:22.872Z"
   },
   {
    "duration": 328,
    "start_time": "2024-01-12T17:46:32.452Z"
   },
   {
    "duration": 1142,
    "start_time": "2024-01-12T17:56:07.944Z"
   },
   {
    "duration": 865,
    "start_time": "2024-01-12T17:56:09.088Z"
   },
   {
    "duration": 447,
    "start_time": "2024-01-12T17:56:09.954Z"
   },
   {
    "duration": 196,
    "start_time": "2024-01-12T17:56:10.403Z"
   },
   {
    "duration": 160,
    "start_time": "2024-01-12T17:56:10.601Z"
   },
   {
    "duration": 8,
    "start_time": "2024-01-12T17:56:10.762Z"
   },
   {
    "duration": 26,
    "start_time": "2024-01-12T17:56:10.772Z"
   },
   {
    "duration": 41,
    "start_time": "2024-01-12T17:56:10.799Z"
   },
   {
    "duration": 44,
    "start_time": "2024-01-12T17:56:10.842Z"
   },
   {
    "duration": 308,
    "start_time": "2024-01-12T17:56:10.888Z"
   },
   {
    "duration": 287,
    "start_time": "2024-01-12T17:56:11.198Z"
   },
   {
    "duration": 285,
    "start_time": "2024-01-12T17:56:11.487Z"
   },
   {
    "duration": 500,
    "start_time": "2024-01-12T17:56:11.774Z"
   },
   {
    "duration": 50,
    "start_time": "2024-01-12T17:56:12.276Z"
   },
   {
    "duration": 355,
    "start_time": "2024-01-12T17:56:12.327Z"
   },
   {
    "duration": 242,
    "start_time": "2024-01-12T18:21:21.949Z"
   },
   {
    "duration": 4,
    "start_time": "2024-01-12T18:22:26.155Z"
   },
   {
    "duration": 4,
    "start_time": "2024-01-12T18:42:27.059Z"
   },
   {
    "duration": 47,
    "start_time": "2024-01-13T12:15:59.396Z"
   },
   {
    "duration": 1557,
    "start_time": "2024-01-13T12:16:06.290Z"
   },
   {
    "duration": 2126,
    "start_time": "2024-01-13T12:16:07.850Z"
   },
   {
    "duration": 403,
    "start_time": "2024-01-13T12:16:09.978Z"
   },
   {
    "duration": 197,
    "start_time": "2024-01-13T12:16:10.382Z"
   },
   {
    "duration": 153,
    "start_time": "2024-01-13T12:16:10.581Z"
   },
   {
    "duration": 8,
    "start_time": "2024-01-13T12:16:10.736Z"
   },
   {
    "duration": 10,
    "start_time": "2024-01-13T12:16:10.745Z"
   },
   {
    "duration": 31,
    "start_time": "2024-01-13T12:16:10.756Z"
   },
   {
    "duration": 50,
    "start_time": "2024-01-13T12:16:10.788Z"
   },
   {
    "duration": 283,
    "start_time": "2024-01-13T12:16:10.840Z"
   },
   {
    "duration": 257,
    "start_time": "2024-01-13T12:16:11.124Z"
   },
   {
    "duration": 335,
    "start_time": "2024-01-13T12:16:11.382Z"
   },
   {
    "duration": 426,
    "start_time": "2024-01-13T12:16:11.718Z"
   },
   {
    "duration": 50,
    "start_time": "2024-01-13T12:16:12.146Z"
   },
   {
    "duration": 254,
    "start_time": "2024-01-13T12:16:12.198Z"
   },
   {
    "duration": 131,
    "start_time": "2024-01-13T12:16:12.453Z"
   },
   {
    "duration": 4,
    "start_time": "2024-01-13T12:16:12.585Z"
   },
   {
    "duration": 113,
    "start_time": "2024-01-13T12:46:07.521Z"
   },
   {
    "duration": 8,
    "start_time": "2024-01-13T12:55:12.941Z"
   },
   {
    "duration": 1343,
    "start_time": "2024-01-13T12:55:32.157Z"
   },
   {
    "duration": 888,
    "start_time": "2024-01-13T12:55:33.502Z"
   },
   {
    "duration": 421,
    "start_time": "2024-01-13T12:55:34.392Z"
   },
   {
    "duration": 198,
    "start_time": "2024-01-13T12:55:34.815Z"
   },
   {
    "duration": 169,
    "start_time": "2024-01-13T12:55:35.016Z"
   },
   {
    "duration": 8,
    "start_time": "2024-01-13T12:55:35.186Z"
   },
   {
    "duration": 7,
    "start_time": "2024-01-13T12:55:35.196Z"
   },
   {
    "duration": 33,
    "start_time": "2024-01-13T12:55:35.215Z"
   },
   {
    "duration": 32,
    "start_time": "2024-01-13T12:55:35.249Z"
   },
   {
    "duration": 300,
    "start_time": "2024-01-13T12:55:35.283Z"
   },
   {
    "duration": 284,
    "start_time": "2024-01-13T12:55:35.585Z"
   },
   {
    "duration": 334,
    "start_time": "2024-01-13T12:55:35.870Z"
   },
   {
    "duration": 452,
    "start_time": "2024-01-13T12:55:36.205Z"
   },
   {
    "duration": 55,
    "start_time": "2024-01-13T12:55:36.660Z"
   },
   {
    "duration": 292,
    "start_time": "2024-01-13T12:55:36.717Z"
   },
   {
    "duration": 4,
    "start_time": "2024-01-13T12:55:37.010Z"
   },
   {
    "duration": 119,
    "start_time": "2024-01-13T12:55:37.016Z"
   },
   {
    "duration": 0,
    "start_time": "2024-01-13T12:55:37.136Z"
   },
   {
    "duration": 1265,
    "start_time": "2024-01-13T13:00:19.320Z"
   },
   {
    "duration": 13,
    "start_time": "2024-01-13T13:00:45.779Z"
   },
   {
    "duration": 1421,
    "start_time": "2024-01-13T13:18:39.926Z"
   },
   {
    "duration": 890,
    "start_time": "2024-01-13T13:18:41.349Z"
   },
   {
    "duration": 418,
    "start_time": "2024-01-13T13:18:42.240Z"
   },
   {
    "duration": 211,
    "start_time": "2024-01-13T13:18:42.660Z"
   },
   {
    "duration": 164,
    "start_time": "2024-01-13T13:18:42.872Z"
   },
   {
    "duration": 8,
    "start_time": "2024-01-13T13:18:43.038Z"
   },
   {
    "duration": 8,
    "start_time": "2024-01-13T13:18:43.048Z"
   },
   {
    "duration": 10,
    "start_time": "2024-01-13T13:18:43.058Z"
   },
   {
    "duration": 16,
    "start_time": "2024-01-13T13:18:43.070Z"
   },
   {
    "duration": 63,
    "start_time": "2024-01-13T13:18:43.088Z"
   },
   {
    "duration": 300,
    "start_time": "2024-01-13T13:18:43.152Z"
   },
   {
    "duration": 278,
    "start_time": "2024-01-13T13:18:43.453Z"
   },
   {
    "duration": 368,
    "start_time": "2024-01-13T13:18:43.732Z"
   },
   {
    "duration": 459,
    "start_time": "2024-01-13T13:18:44.102Z"
   },
   {
    "duration": 60,
    "start_time": "2024-01-13T13:18:44.563Z"
   },
   {
    "duration": 295,
    "start_time": "2024-01-13T13:18:44.625Z"
   },
   {
    "duration": 6,
    "start_time": "2024-01-13T13:18:44.922Z"
   },
   {
    "duration": 132,
    "start_time": "2024-01-13T13:18:44.930Z"
   },
   {
    "duration": 0,
    "start_time": "2024-01-13T13:18:45.064Z"
   },
   {
    "duration": 16,
    "start_time": "2024-01-13T13:21:04.713Z"
   },
   {
    "duration": 49,
    "start_time": "2024-01-13T13:57:48.253Z"
   },
   {
    "duration": 16,
    "start_time": "2024-01-13T14:00:10.416Z"
   },
   {
    "duration": 12,
    "start_time": "2024-01-13T14:00:27.421Z"
   },
   {
    "duration": 23,
    "start_time": "2024-01-13T14:00:34.355Z"
   },
   {
    "duration": 13,
    "start_time": "2024-01-13T14:00:46.905Z"
   },
   {
    "duration": 20,
    "start_time": "2024-01-13T14:01:24.614Z"
   },
   {
    "duration": 23,
    "start_time": "2024-01-13T14:01:41.021Z"
   },
   {
    "duration": 25,
    "start_time": "2024-01-13T14:02:16.718Z"
   },
   {
    "duration": 74,
    "start_time": "2024-01-13T14:07:08.275Z"
   },
   {
    "duration": 72,
    "start_time": "2024-01-13T14:07:12.512Z"
   },
   {
    "duration": 73,
    "start_time": "2024-01-13T14:07:15.353Z"
   },
   {
    "duration": 14,
    "start_time": "2024-01-13T14:07:19.345Z"
   },
   {
    "duration": 19,
    "start_time": "2024-01-13T14:07:31.992Z"
   },
   {
    "duration": 19,
    "start_time": "2024-01-13T14:07:48.346Z"
   },
   {
    "duration": 1348,
    "start_time": "2024-01-13T14:10:31.646Z"
   },
   {
    "duration": 871,
    "start_time": "2024-01-13T14:10:32.995Z"
   },
   {
    "duration": 412,
    "start_time": "2024-01-13T14:10:33.868Z"
   },
   {
    "duration": 200,
    "start_time": "2024-01-13T14:10:34.281Z"
   },
   {
    "duration": 159,
    "start_time": "2024-01-13T14:10:34.483Z"
   },
   {
    "duration": 7,
    "start_time": "2024-01-13T14:10:34.643Z"
   },
   {
    "duration": 6,
    "start_time": "2024-01-13T14:10:34.652Z"
   },
   {
    "duration": 10,
    "start_time": "2024-01-13T14:10:34.660Z"
   },
   {
    "duration": 56,
    "start_time": "2024-01-13T14:10:34.671Z"
   },
   {
    "duration": 35,
    "start_time": "2024-01-13T14:10:34.730Z"
   },
   {
    "duration": 307,
    "start_time": "2024-01-13T14:10:34.767Z"
   },
   {
    "duration": 278,
    "start_time": "2024-01-13T14:10:35.075Z"
   },
   {
    "duration": 336,
    "start_time": "2024-01-13T14:10:35.354Z"
   },
   {
    "duration": 456,
    "start_time": "2024-01-13T14:10:35.692Z"
   },
   {
    "duration": 49,
    "start_time": "2024-01-13T14:10:36.150Z"
   },
   {
    "duration": 281,
    "start_time": "2024-01-13T14:10:36.200Z"
   },
   {
    "duration": 4,
    "start_time": "2024-01-13T14:10:36.483Z"
   },
   {
    "duration": 5,
    "start_time": "2024-01-13T14:10:36.488Z"
   },
   {
    "duration": 50,
    "start_time": "2024-01-13T14:10:36.495Z"
   },
   {
    "duration": 42,
    "start_time": "2024-01-13T14:14:25.365Z"
   },
   {
    "duration": 3,
    "start_time": "2024-01-13T14:25:46.861Z"
   },
   {
    "duration": 4,
    "start_time": "2024-01-13T14:43:35.766Z"
   },
   {
    "duration": 3,
    "start_time": "2024-01-13T14:46:09.502Z"
   },
   {
    "duration": 120,
    "start_time": "2024-01-13T14:48:36.914Z"
   },
   {
    "duration": 70,
    "start_time": "2024-01-13T14:48:46.403Z"
   },
   {
    "duration": 9,
    "start_time": "2024-01-13T15:02:06.042Z"
   },
   {
    "duration": 9,
    "start_time": "2024-01-13T15:02:21.805Z"
   },
   {
    "duration": 9,
    "start_time": "2024-01-13T15:02:55.535Z"
   },
   {
    "duration": 22,
    "start_time": "2024-01-13T15:03:07.156Z"
   },
   {
    "duration": 2,
    "start_time": "2024-01-13T15:03:11.524Z"
   },
   {
    "duration": 19,
    "start_time": "2024-01-13T15:03:14.396Z"
   },
   {
    "duration": 6,
    "start_time": "2024-01-13T15:10:09.203Z"
   },
   {
    "duration": 19,
    "start_time": "2024-01-13T15:10:14.524Z"
   },
   {
    "duration": 5,
    "start_time": "2024-01-13T15:11:07.680Z"
   },
   {
    "duration": 18,
    "start_time": "2024-01-13T15:11:14.921Z"
   },
   {
    "duration": 20,
    "start_time": "2024-01-13T15:29:39.133Z"
   },
   {
    "duration": 18,
    "start_time": "2024-01-13T15:29:47.847Z"
   },
   {
    "duration": 15,
    "start_time": "2024-01-13T15:32:46.819Z"
   },
   {
    "duration": 3,
    "start_time": "2024-01-13T15:33:21.083Z"
   },
   {
    "duration": 848,
    "start_time": "2024-01-13T15:33:21.089Z"
   },
   {
    "duration": 395,
    "start_time": "2024-01-13T15:33:21.939Z"
   },
   {
    "duration": 199,
    "start_time": "2024-01-13T15:33:22.336Z"
   },
   {
    "duration": 133,
    "start_time": "2024-01-13T15:33:22.536Z"
   },
   {
    "duration": 8,
    "start_time": "2024-01-13T15:33:22.670Z"
   },
   {
    "duration": 12,
    "start_time": "2024-01-13T15:33:22.679Z"
   },
   {
    "duration": 18,
    "start_time": "2024-01-13T15:33:25.821Z"
   },
   {
    "duration": 1317,
    "start_time": "2024-01-13T15:34:38.074Z"
   },
   {
    "duration": 797,
    "start_time": "2024-01-13T15:34:39.393Z"
   },
   {
    "duration": 407,
    "start_time": "2024-01-13T15:34:40.192Z"
   },
   {
    "duration": 188,
    "start_time": "2024-01-13T15:34:40.601Z"
   },
   {
    "duration": 153,
    "start_time": "2024-01-13T15:34:40.791Z"
   },
   {
    "duration": 8,
    "start_time": "2024-01-13T15:34:40.946Z"
   },
   {
    "duration": 8,
    "start_time": "2024-01-13T15:34:40.955Z"
   },
   {
    "duration": 16,
    "start_time": "2024-01-13T15:34:40.964Z"
   },
   {
    "duration": 44,
    "start_time": "2024-01-13T15:34:40.982Z"
   },
   {
    "duration": 49,
    "start_time": "2024-01-13T15:34:41.028Z"
   },
   {
    "duration": 261,
    "start_time": "2024-01-13T15:34:41.078Z"
   },
   {
    "duration": 317,
    "start_time": "2024-01-13T15:34:41.341Z"
   },
   {
    "duration": 253,
    "start_time": "2024-01-13T15:34:41.660Z"
   },
   {
    "duration": 423,
    "start_time": "2024-01-13T15:34:41.916Z"
   },
   {
    "duration": 50,
    "start_time": "2024-01-13T15:34:42.340Z"
   },
   {
    "duration": 269,
    "start_time": "2024-01-13T15:34:42.391Z"
   },
   {
    "duration": 4,
    "start_time": "2024-01-13T15:34:42.662Z"
   },
   {
    "duration": 12,
    "start_time": "2024-01-13T15:34:42.667Z"
   },
   {
    "duration": 45,
    "start_time": "2024-01-13T15:34:42.680Z"
   },
   {
    "duration": 2,
    "start_time": "2024-01-13T15:34:42.727Z"
   },
   {
    "duration": 118,
    "start_time": "2024-01-13T15:34:42.731Z"
   },
   {
    "duration": 0,
    "start_time": "2024-01-13T15:34:42.851Z"
   },
   {
    "duration": 21,
    "start_time": "2024-01-13T15:35:05.055Z"
   },
   {
    "duration": 3,
    "start_time": "2024-01-13T15:45:04.528Z"
   },
   {
    "duration": 1544,
    "start_time": "2024-01-13T15:45:14.676Z"
   },
   {
    "duration": 3,
    "start_time": "2024-01-13T15:52:06.929Z"
   },
   {
    "duration": 1810,
    "start_time": "2024-01-13T15:52:08.005Z"
   },
   {
    "duration": 118,
    "start_time": "2024-01-13T15:52:36.304Z"
   },
   {
    "duration": 3,
    "start_time": "2024-01-13T15:52:40.919Z"
   },
   {
    "duration": 1699,
    "start_time": "2024-01-13T15:52:42.286Z"
   },
   {
    "duration": 54,
    "start_time": "2024-01-13T15:55:14.066Z"
   },
   {
    "duration": 1562,
    "start_time": "2024-01-13T15:55:22.355Z"
   },
   {
    "duration": 4,
    "start_time": "2024-01-13T15:57:15.511Z"
   },
   {
    "duration": 2,
    "start_time": "2024-01-13T15:57:21.371Z"
   },
   {
    "duration": 24,
    "start_time": "2024-01-13T15:57:23.699Z"
   },
   {
    "duration": 1684,
    "start_time": "2024-01-13T15:57:26.451Z"
   },
   {
    "duration": 312,
    "start_time": "2024-01-13T15:58:25.331Z"
   },
   {
    "duration": 5,
    "start_time": "2024-01-13T16:04:06.110Z"
   },
   {
    "duration": 2,
    "start_time": "2024-01-13T16:04:10.505Z"
   },
   {
    "duration": 90,
    "start_time": "2024-01-13T16:04:11.825Z"
   },
   {
    "duration": 1417,
    "start_time": "2024-01-13T16:04:13.119Z"
   },
   {
    "duration": 1377,
    "start_time": "2024-01-13T16:04:57.445Z"
   },
   {
    "duration": 1350,
    "start_time": "2024-01-13T16:05:21.565Z"
   },
   {
    "duration": 1660,
    "start_time": "2024-01-13T16:06:02.372Z"
   },
   {
    "duration": 1350,
    "start_time": "2024-01-13T16:14:54.996Z"
   },
   {
    "duration": 823,
    "start_time": "2024-01-13T16:14:56.348Z"
   },
   {
    "duration": 389,
    "start_time": "2024-01-13T16:14:57.173Z"
   },
   {
    "duration": 187,
    "start_time": "2024-01-13T16:14:57.564Z"
   },
   {
    "duration": 142,
    "start_time": "2024-01-13T16:14:57.753Z"
   },
   {
    "duration": 20,
    "start_time": "2024-01-13T16:14:57.897Z"
   },
   {
    "duration": 7,
    "start_time": "2024-01-13T16:14:57.918Z"
   },
   {
    "duration": 17,
    "start_time": "2024-01-13T16:14:57.926Z"
   },
   {
    "duration": 16,
    "start_time": "2024-01-13T16:14:57.944Z"
   },
   {
    "duration": 57,
    "start_time": "2024-01-13T16:14:57.962Z"
   },
   {
    "duration": 301,
    "start_time": "2024-01-13T16:14:58.020Z"
   },
   {
    "duration": 254,
    "start_time": "2024-01-13T16:14:58.323Z"
   },
   {
    "duration": 336,
    "start_time": "2024-01-13T16:14:58.579Z"
   },
   {
    "duration": 425,
    "start_time": "2024-01-13T16:14:58.916Z"
   },
   {
    "duration": 50,
    "start_time": "2024-01-13T16:14:59.343Z"
   },
   {
    "duration": 254,
    "start_time": "2024-01-13T16:14:59.394Z"
   },
   {
    "duration": 4,
    "start_time": "2024-01-13T16:14:59.650Z"
   },
   {
    "duration": 19,
    "start_time": "2024-01-13T16:14:59.655Z"
   },
   {
    "duration": 39,
    "start_time": "2024-01-13T16:14:59.676Z"
   },
   {
    "duration": 2,
    "start_time": "2024-01-13T16:14:59.717Z"
   },
   {
    "duration": 2195,
    "start_time": "2024-01-13T16:14:59.721Z"
   },
   {
    "duration": 19,
    "start_time": "2024-01-13T16:19:10.962Z"
   },
   {
    "duration": 9810,
    "start_time": "2024-01-13T16:21:46.267Z"
   },
   {
    "duration": 6818,
    "start_time": "2024-01-13T16:22:19.438Z"
   },
   {
    "duration": 1684,
    "start_time": "2024-01-13T16:24:28.640Z"
   },
   {
    "duration": 1596,
    "start_time": "2024-01-13T16:24:43.533Z"
   },
   {
    "duration": 6716,
    "start_time": "2024-01-13T16:25:45.964Z"
   },
   {
    "duration": 12,
    "start_time": "2024-01-13T16:28:38.239Z"
   },
   {
    "duration": 687202,
    "start_time": "2024-01-13T16:29:36.876Z"
   },
   {
    "duration": 377233,
    "start_time": "2024-01-13T16:41:42.655Z"
   },
   {
    "duration": 1376,
    "start_time": "2024-01-13T17:32:23.396Z"
   },
   {
    "duration": 815,
    "start_time": "2024-01-13T17:32:24.774Z"
   },
   {
    "duration": 395,
    "start_time": "2024-01-13T17:32:25.591Z"
   },
   {
    "duration": 183,
    "start_time": "2024-01-13T17:32:25.988Z"
   },
   {
    "duration": 154,
    "start_time": "2024-01-13T17:32:26.172Z"
   },
   {
    "duration": 8,
    "start_time": "2024-01-13T17:32:26.328Z"
   },
   {
    "duration": 7,
    "start_time": "2024-01-13T17:32:26.337Z"
   },
   {
    "duration": 35,
    "start_time": "2024-01-13T17:32:26.345Z"
   },
   {
    "duration": 16,
    "start_time": "2024-01-13T17:32:26.382Z"
   },
   {
    "duration": 43,
    "start_time": "2024-01-13T17:32:26.400Z"
   },
   {
    "duration": 257,
    "start_time": "2024-01-13T17:32:26.445Z"
   },
   {
    "duration": 328,
    "start_time": "2024-01-13T17:32:26.704Z"
   },
   {
    "duration": 247,
    "start_time": "2024-01-13T17:32:27.033Z"
   },
   {
    "duration": 502,
    "start_time": "2024-01-13T17:32:27.282Z"
   },
   {
    "duration": 58,
    "start_time": "2024-01-13T17:32:27.786Z"
   },
   {
    "duration": 252,
    "start_time": "2024-01-13T17:32:27.846Z"
   },
   {
    "duration": 5,
    "start_time": "2024-01-13T17:32:28.099Z"
   },
   {
    "duration": 26,
    "start_time": "2024-01-13T17:32:28.105Z"
   },
   {
    "duration": 44,
    "start_time": "2024-01-13T17:32:28.133Z"
   },
   {
    "duration": 2,
    "start_time": "2024-01-13T17:32:28.179Z"
   },
   {
    "duration": 1733,
    "start_time": "2024-01-13T17:32:28.183Z"
   },
   {
    "duration": 6604,
    "start_time": "2024-01-13T17:32:29.917Z"
   },
   {
    "duration": 377058,
    "start_time": "2024-01-13T17:32:36.522Z"
   },
   {
    "duration": 4043,
    "start_time": "2024-01-13T17:46:07.388Z"
   },
   {
    "duration": 10,
    "start_time": "2024-01-13T17:53:27.266Z"
   },
   {
    "duration": 113,
    "start_time": "2024-01-13T17:57:09.344Z"
   },
   {
    "duration": 20,
    "start_time": "2024-01-13T17:58:58.813Z"
   },
   {
    "duration": 116,
    "start_time": "2024-01-13T18:04:08.887Z"
   },
   {
    "duration": 113,
    "start_time": "2024-01-13T18:04:22.681Z"
   },
   {
    "duration": 111,
    "start_time": "2024-01-13T18:04:29.738Z"
   },
   {
    "duration": 0,
    "start_time": "2024-01-14T10:16:27.217Z"
   },
   {
    "duration": 28,
    "start_time": "2024-01-14T10:16:29.570Z"
   },
   {
    "duration": 1777,
    "start_time": "2024-01-16T15:31:43.206Z"
   },
   {
    "duration": 2202,
    "start_time": "2024-01-16T15:31:44.986Z"
   },
   {
    "duration": 435,
    "start_time": "2024-01-16T15:31:47.190Z"
   },
   {
    "duration": 218,
    "start_time": "2024-01-16T15:31:47.627Z"
   },
   {
    "duration": 175,
    "start_time": "2024-01-16T15:31:47.848Z"
   },
   {
    "duration": 10,
    "start_time": "2024-01-16T15:31:48.025Z"
   },
   {
    "duration": 3,
    "start_time": "2024-01-16T15:37:18.244Z"
   },
   {
    "duration": 4,
    "start_time": "2024-01-16T15:37:58.716Z"
   },
   {
    "duration": 7,
    "start_time": "2024-01-16T15:38:05.436Z"
   },
   {
    "duration": 1361,
    "start_time": "2024-01-16T15:43:56.176Z"
   },
   {
    "duration": 9,
    "start_time": "2024-01-16T15:44:08.110Z"
   },
   {
    "duration": 6,
    "start_time": "2024-01-16T15:44:10.116Z"
   },
   {
    "duration": 4,
    "start_time": "2024-01-16T15:48:42.650Z"
   },
   {
    "duration": 885,
    "start_time": "2024-01-16T15:48:42.655Z"
   },
   {
    "duration": 440,
    "start_time": "2024-01-16T15:48:43.542Z"
   },
   {
    "duration": 252,
    "start_time": "2024-01-16T15:48:43.983Z"
   },
   {
    "duration": 152,
    "start_time": "2024-01-16T15:48:44.237Z"
   },
   {
    "duration": 8,
    "start_time": "2024-01-16T15:48:44.391Z"
   },
   {
    "duration": 40,
    "start_time": "2024-01-16T15:48:44.400Z"
   },
   {
    "duration": 7,
    "start_time": "2024-01-16T15:48:47.588Z"
   },
   {
    "duration": 17,
    "start_time": "2024-01-16T15:54:12.339Z"
   },
   {
    "duration": 4,
    "start_time": "2024-01-16T16:14:53.211Z"
   },
   {
    "duration": 6,
    "start_time": "2024-01-16T16:15:02.428Z"
   },
   {
    "duration": 4,
    "start_time": "2024-01-16T16:37:09.679Z"
   },
   {
    "duration": 819,
    "start_time": "2024-01-16T16:37:09.772Z"
   },
   {
    "duration": 481,
    "start_time": "2024-01-16T16:37:10.594Z"
   },
   {
    "duration": 212,
    "start_time": "2024-01-16T16:37:11.077Z"
   },
   {
    "duration": 172,
    "start_time": "2024-01-16T16:37:11.290Z"
   },
   {
    "duration": 10,
    "start_time": "2024-01-16T16:37:11.464Z"
   },
   {
    "duration": 11,
    "start_time": "2024-01-16T16:37:11.476Z"
   },
   {
    "duration": 36,
    "start_time": "2024-01-16T16:37:11.488Z"
   },
   {
    "duration": 20,
    "start_time": "2024-01-16T16:37:11.527Z"
   },
   {
    "duration": 7,
    "start_time": "2024-01-16T16:37:11.549Z"
   },
   {
    "duration": 32,
    "start_time": "2024-01-16T16:37:11.557Z"
   },
   {
    "duration": 41,
    "start_time": "2024-01-16T16:37:11.591Z"
   },
   {
    "duration": 394,
    "start_time": "2024-01-16T16:37:11.633Z"
   },
   {
    "duration": 310,
    "start_time": "2024-01-16T16:37:12.029Z"
   },
   {
    "duration": 321,
    "start_time": "2024-01-16T16:37:12.342Z"
   },
   {
    "duration": 493,
    "start_time": "2024-01-16T16:37:12.665Z"
   },
   {
    "duration": 39,
    "start_time": "2024-01-16T16:37:13.160Z"
   },
   {
    "duration": 314,
    "start_time": "2024-01-16T16:37:13.200Z"
   },
   {
    "duration": 15,
    "start_time": "2024-01-16T16:48:34.431Z"
   },
   {
    "duration": 13,
    "start_time": "2024-01-16T16:50:14.404Z"
   },
   {
    "duration": 17,
    "start_time": "2024-01-16T16:50:16.847Z"
   },
   {
    "duration": 3,
    "start_time": "2024-01-16T16:50:27.978Z"
   },
   {
    "duration": 869,
    "start_time": "2024-01-16T16:50:27.996Z"
   },
   {
    "duration": 420,
    "start_time": "2024-01-16T16:50:28.867Z"
   },
   {
    "duration": 206,
    "start_time": "2024-01-16T16:50:29.289Z"
   },
   {
    "duration": 158,
    "start_time": "2024-01-16T16:50:29.498Z"
   },
   {
    "duration": 9,
    "start_time": "2024-01-16T16:50:29.658Z"
   },
   {
    "duration": 10,
    "start_time": "2024-01-16T16:50:29.669Z"
   },
   {
    "duration": 6,
    "start_time": "2024-01-16T16:50:29.681Z"
   },
   {
    "duration": 39,
    "start_time": "2024-01-16T16:50:29.689Z"
   },
   {
    "duration": 41,
    "start_time": "2024-01-16T16:50:29.730Z"
   },
   {
    "duration": 280,
    "start_time": "2024-01-16T16:50:29.773Z"
   },
   {
    "duration": 382,
    "start_time": "2024-01-16T16:50:30.055Z"
   },
   {
    "duration": 304,
    "start_time": "2024-01-16T16:50:30.438Z"
   },
   {
    "duration": 515,
    "start_time": "2024-01-16T16:50:30.745Z"
   },
   {
    "duration": 44,
    "start_time": "2024-01-16T16:50:31.262Z"
   },
   {
    "duration": 434,
    "start_time": "2024-01-16T16:50:31.307Z"
   },
   {
    "duration": 2,
    "start_time": "2024-01-16T16:50:31.743Z"
   },
   {
    "duration": 12,
    "start_time": "2024-01-16T16:50:39.074Z"
   },
   {
    "duration": 17,
    "start_time": "2024-01-16T16:50:43.082Z"
   },
   {
    "duration": 25,
    "start_time": "2024-01-16T16:55:19.087Z"
   },
   {
    "duration": 230,
    "start_time": "2024-01-16T17:00:14.795Z"
   },
   {
    "duration": 10,
    "start_time": "2024-01-16T17:06:02.560Z"
   },
   {
    "duration": 5,
    "start_time": "2024-01-16T17:06:25.678Z"
   },
   {
    "duration": 12,
    "start_time": "2024-01-16T17:06:31.443Z"
   },
   {
    "duration": 12,
    "start_time": "2024-01-16T17:06:46.272Z"
   },
   {
    "duration": 8,
    "start_time": "2024-01-16T17:07:04.615Z"
   },
   {
    "duration": 6,
    "start_time": "2024-01-16T17:08:28.350Z"
   },
   {
    "duration": 8,
    "start_time": "2024-01-16T17:12:17.356Z"
   },
   {
    "duration": 70,
    "start_time": "2024-01-16T17:12:42.763Z"
   },
   {
    "duration": 65,
    "start_time": "2024-01-16T17:12:53.485Z"
   },
   {
    "duration": 252,
    "start_time": "2024-01-16T17:13:29.121Z"
   },
   {
    "duration": 6,
    "start_time": "2024-01-16T17:15:56.899Z"
   },
   {
    "duration": 6,
    "start_time": "2024-01-16T17:17:51.378Z"
   },
   {
    "duration": 17,
    "start_time": "2024-01-16T17:31:43.982Z"
   },
   {
    "duration": 4,
    "start_time": "2024-01-16T17:32:04.835Z"
   },
   {
    "duration": 888,
    "start_time": "2024-01-16T17:32:04.933Z"
   },
   {
    "duration": 419,
    "start_time": "2024-01-16T17:32:05.823Z"
   },
   {
    "duration": 204,
    "start_time": "2024-01-16T17:32:06.244Z"
   },
   {
    "duration": 154,
    "start_time": "2024-01-16T17:32:06.449Z"
   },
   {
    "duration": 24,
    "start_time": "2024-01-16T17:32:06.605Z"
   },
   {
    "duration": 14,
    "start_time": "2024-01-16T17:32:06.631Z"
   },
   {
    "duration": 9,
    "start_time": "2024-01-16T17:32:06.647Z"
   },
   {
    "duration": 7,
    "start_time": "2024-01-16T17:32:06.658Z"
   },
   {
    "duration": 82,
    "start_time": "2024-01-16T17:32:06.667Z"
   },
   {
    "duration": 391,
    "start_time": "2024-01-16T17:32:06.751Z"
   },
   {
    "duration": 284,
    "start_time": "2024-01-16T17:32:07.144Z"
   },
   {
    "duration": 311,
    "start_time": "2024-01-16T17:32:07.430Z"
   },
   {
    "duration": 430,
    "start_time": "2024-01-16T17:32:07.743Z"
   },
   {
    "duration": 53,
    "start_time": "2024-01-16T17:32:08.176Z"
   },
   {
    "duration": 283,
    "start_time": "2024-01-16T17:32:08.231Z"
   },
   {
    "duration": 247,
    "start_time": "2024-01-16T17:32:08.516Z"
   },
   {
    "duration": 6,
    "start_time": "2024-01-16T17:32:08.766Z"
   },
   {
    "duration": 7,
    "start_time": "2024-01-16T17:32:08.773Z"
   },
   {
    "duration": 17,
    "start_time": "2024-01-16T17:32:08.781Z"
   },
   {
    "duration": 9,
    "start_time": "2024-01-16T17:32:08.800Z"
   },
   {
    "duration": 26,
    "start_time": "2024-01-16T17:32:13.074Z"
   },
   {
    "duration": 12,
    "start_time": "2024-01-16T17:32:39.168Z"
   },
   {
    "duration": 11,
    "start_time": "2024-01-16T17:32:48.829Z"
   },
   {
    "duration": 87,
    "start_time": "2024-01-16T17:35:51.212Z"
   },
   {
    "duration": 39,
    "start_time": "2024-01-16T17:36:25.880Z"
   },
   {
    "duration": 36,
    "start_time": "2024-01-16T18:15:45.386Z"
   },
   {
    "duration": 40,
    "start_time": "2024-01-16T18:16:24.829Z"
   },
   {
    "duration": 19,
    "start_time": "2024-01-16T18:18:37.632Z"
   },
   {
    "duration": 10,
    "start_time": "2024-01-16T18:18:42.276Z"
   },
   {
    "duration": 14,
    "start_time": "2024-01-16T18:19:53.950Z"
   },
   {
    "duration": 9,
    "start_time": "2024-01-16T18:20:01.519Z"
   },
   {
    "duration": 7,
    "start_time": "2024-01-16T18:20:57.660Z"
   },
   {
    "duration": 6,
    "start_time": "2024-01-16T18:20:58.661Z"
   },
   {
    "duration": 7,
    "start_time": "2024-01-16T18:21:08.408Z"
   },
   {
    "duration": 8,
    "start_time": "2024-01-16T18:21:10.981Z"
   },
   {
    "duration": 10,
    "start_time": "2024-01-16T18:21:16.628Z"
   },
   {
    "duration": 9,
    "start_time": "2024-01-16T18:21:17.787Z"
   },
   {
    "duration": 3,
    "start_time": "2024-01-16T18:21:23.600Z"
   },
   {
    "duration": 778,
    "start_time": "2024-01-16T18:21:23.735Z"
   },
   {
    "duration": 431,
    "start_time": "2024-01-16T18:21:24.515Z"
   },
   {
    "duration": 220,
    "start_time": "2024-01-16T18:21:24.948Z"
   },
   {
    "duration": 153,
    "start_time": "2024-01-16T18:21:25.169Z"
   },
   {
    "duration": 8,
    "start_time": "2024-01-16T18:21:25.325Z"
   },
   {
    "duration": 11,
    "start_time": "2024-01-16T18:21:25.334Z"
   },
   {
    "duration": 15,
    "start_time": "2024-01-16T18:21:25.347Z"
   },
   {
    "duration": 6,
    "start_time": "2024-01-16T18:21:25.364Z"
   },
   {
    "duration": 56,
    "start_time": "2024-01-16T18:21:25.371Z"
   },
   {
    "duration": 379,
    "start_time": "2024-01-16T18:21:25.429Z"
   },
   {
    "duration": 285,
    "start_time": "2024-01-16T18:21:25.809Z"
   },
   {
    "duration": 286,
    "start_time": "2024-01-16T18:21:26.096Z"
   },
   {
    "duration": 484,
    "start_time": "2024-01-16T18:21:26.384Z"
   },
   {
    "duration": 30,
    "start_time": "2024-01-16T18:21:26.871Z"
   },
   {
    "duration": 283,
    "start_time": "2024-01-16T18:21:26.902Z"
   },
   {
    "duration": 268,
    "start_time": "2024-01-16T18:21:27.187Z"
   },
   {
    "duration": 6,
    "start_time": "2024-01-16T18:21:27.456Z"
   },
   {
    "duration": 7,
    "start_time": "2024-01-16T18:21:27.464Z"
   },
   {
    "duration": 7,
    "start_time": "2024-01-16T18:21:27.472Z"
   },
   {
    "duration": 6,
    "start_time": "2024-01-16T18:21:27.481Z"
   },
   {
    "duration": 57,
    "start_time": "2024-01-16T18:21:27.489Z"
   },
   {
    "duration": 14,
    "start_time": "2024-01-16T18:21:33.056Z"
   },
   {
    "duration": 3,
    "start_time": "2024-01-16T18:30:37.147Z"
   },
   {
    "duration": 11,
    "start_time": "2024-01-16T18:30:49.415Z"
   },
   {
    "duration": 18,
    "start_time": "2024-01-16T18:30:52.162Z"
   },
   {
    "duration": 3,
    "start_time": "2024-01-16T18:30:56.589Z"
   },
   {
    "duration": 5,
    "start_time": "2024-01-16T18:33:18.630Z"
   },
   {
    "duration": 7,
    "start_time": "2024-01-16T18:33:40.529Z"
   },
   {
    "duration": 22,
    "start_time": "2024-01-16T18:34:09.758Z"
   },
   {
    "duration": 3,
    "start_time": "2024-01-16T18:34:39.053Z"
   },
   {
    "duration": 1302,
    "start_time": "2024-01-16T18:34:42.427Z"
   },
   {
    "duration": 5927,
    "start_time": "2024-01-16T18:35:03.525Z"
   },
   {
    "duration": 1694,
    "start_time": "2024-01-17T03:47:54.197Z"
   },
   {
    "duration": 2169,
    "start_time": "2024-01-17T03:47:55.893Z"
   },
   {
    "duration": 407,
    "start_time": "2024-01-17T03:47:58.063Z"
   },
   {
    "duration": 211,
    "start_time": "2024-01-17T03:47:58.472Z"
   },
   {
    "duration": 150,
    "start_time": "2024-01-17T03:47:58.685Z"
   },
   {
    "duration": 7,
    "start_time": "2024-01-17T03:47:58.837Z"
   },
   {
    "duration": 10,
    "start_time": "2024-01-17T03:47:58.846Z"
   },
   {
    "duration": 26,
    "start_time": "2024-01-17T03:47:58.857Z"
   },
   {
    "duration": 6,
    "start_time": "2024-01-17T03:47:58.884Z"
   },
   {
    "duration": 47,
    "start_time": "2024-01-17T03:47:58.891Z"
   },
   {
    "duration": 298,
    "start_time": "2024-01-17T03:47:58.940Z"
   },
   {
    "duration": 342,
    "start_time": "2024-01-17T03:47:59.240Z"
   },
   {
    "duration": 304,
    "start_time": "2024-01-17T03:47:59.584Z"
   },
   {
    "duration": 535,
    "start_time": "2024-01-17T03:47:59.892Z"
   },
   {
    "duration": 61,
    "start_time": "2024-01-17T03:48:00.428Z"
   },
   {
    "duration": 281,
    "start_time": "2024-01-17T03:48:00.491Z"
   },
   {
    "duration": 267,
    "start_time": "2024-01-17T03:48:00.774Z"
   },
   {
    "duration": 7,
    "start_time": "2024-01-17T03:48:01.043Z"
   },
   {
    "duration": 50,
    "start_time": "2024-01-17T03:48:01.052Z"
   },
   {
    "duration": 29,
    "start_time": "2024-01-17T03:48:01.104Z"
   },
   {
    "duration": 37,
    "start_time": "2024-01-17T03:48:01.135Z"
   },
   {
    "duration": 68,
    "start_time": "2024-01-17T03:48:01.174Z"
   },
   {
    "duration": 50,
    "start_time": "2024-01-17T03:48:01.243Z"
   },
   {
    "duration": 49,
    "start_time": "2024-01-17T03:48:01.294Z"
   },
   {
    "duration": 50,
    "start_time": "2024-01-17T03:48:01.345Z"
   },
   {
    "duration": 40,
    "start_time": "2024-01-17T03:48:01.396Z"
   },
   {
    "duration": 59,
    "start_time": "2024-01-17T03:48:01.438Z"
   },
   {
    "duration": 36,
    "start_time": "2024-01-17T03:48:01.498Z"
   },
   {
    "duration": 111,
    "start_time": "2024-01-17T03:48:01.535Z"
   },
   {
    "duration": 6,
    "start_time": "2024-01-17T03:48:01.647Z"
   },
   {
    "duration": 2028,
    "start_time": "2024-01-17T03:48:01.654Z"
   },
   {
    "duration": 6009,
    "start_time": "2024-01-17T03:48:03.684Z"
   },
   {
    "duration": 361900,
    "start_time": "2024-01-17T03:48:09.695Z"
   },
   {
    "duration": 3690,
    "start_time": "2024-01-17T03:54:11.597Z"
   },
   {
    "duration": 17,
    "start_time": "2024-01-17T03:54:15.289Z"
   },
   {
    "duration": 142,
    "start_time": "2024-01-17T03:54:15.308Z"
   },
   {
    "duration": 1897,
    "start_time": "2024-01-17T04:02:15.665Z"
   },
   {
    "duration": 14,
    "start_time": "2024-01-17T04:04:27.534Z"
   },
   {
    "duration": 7,
    "start_time": "2024-01-17T04:06:29.652Z"
   },
   {
    "duration": 5,
    "start_time": "2024-01-17T04:28:47.353Z"
   },
   {
    "duration": 561,
    "start_time": "2024-01-17T04:31:07.923Z"
   },
   {
    "duration": 1695,
    "start_time": "2024-01-17T04:31:14.196Z"
   },
   {
    "duration": 6,
    "start_time": "2024-01-17T04:33:37.740Z"
   },
   {
    "duration": 8,
    "start_time": "2024-01-17T04:34:13.087Z"
   },
   {
    "duration": 7,
    "start_time": "2024-01-17T04:34:27.204Z"
   },
   {
    "duration": 6,
    "start_time": "2024-01-17T04:34:33.055Z"
   },
   {
    "duration": 8,
    "start_time": "2024-01-17T04:43:07.618Z"
   },
   {
    "duration": 4,
    "start_time": "2024-01-17T04:43:39.590Z"
   },
   {
    "duration": 9,
    "start_time": "2024-01-17T04:43:46.318Z"
   },
   {
    "duration": 1498,
    "start_time": "2024-01-17T05:22:54.708Z"
   },
   {
    "duration": 924,
    "start_time": "2024-01-17T05:22:56.208Z"
   },
   {
    "duration": 432,
    "start_time": "2024-01-17T05:22:57.133Z"
   },
   {
    "duration": 212,
    "start_time": "2024-01-17T05:22:57.567Z"
   },
   {
    "duration": 167,
    "start_time": "2024-01-17T05:22:57.782Z"
   },
   {
    "duration": 8,
    "start_time": "2024-01-17T05:22:57.951Z"
   },
   {
    "duration": 26,
    "start_time": "2024-01-17T05:22:57.961Z"
   },
   {
    "duration": 6,
    "start_time": "2024-01-17T05:22:57.988Z"
   },
   {
    "duration": 6,
    "start_time": "2024-01-17T05:22:57.996Z"
   },
   {
    "duration": 44,
    "start_time": "2024-01-17T05:22:58.004Z"
   },
   {
    "duration": 311,
    "start_time": "2024-01-17T05:22:58.050Z"
   },
   {
    "duration": 342,
    "start_time": "2024-01-17T05:22:58.363Z"
   },
   {
    "duration": 299,
    "start_time": "2024-01-17T05:22:58.707Z"
   },
   {
    "duration": 423,
    "start_time": "2024-01-17T05:22:59.008Z"
   },
   {
    "duration": 59,
    "start_time": "2024-01-17T05:22:59.433Z"
   },
   {
    "duration": 272,
    "start_time": "2024-01-17T05:22:59.494Z"
   },
   {
    "duration": 263,
    "start_time": "2024-01-17T05:22:59.768Z"
   },
   {
    "duration": 7,
    "start_time": "2024-01-17T05:23:00.033Z"
   },
   {
    "duration": 30,
    "start_time": "2024-01-17T05:23:00.042Z"
   },
   {
    "duration": 57,
    "start_time": "2024-01-17T05:23:00.074Z"
   },
   {
    "duration": 37,
    "start_time": "2024-01-17T05:23:00.133Z"
   },
   {
    "duration": 63,
    "start_time": "2024-01-17T05:23:00.172Z"
   },
   {
    "duration": 49,
    "start_time": "2024-01-17T05:23:00.236Z"
   },
   {
    "duration": 49,
    "start_time": "2024-01-17T05:23:00.287Z"
   },
   {
    "duration": 84,
    "start_time": "2024-01-17T05:23:00.338Z"
   },
   {
    "duration": 32,
    "start_time": "2024-01-17T05:23:00.424Z"
   },
   {
    "duration": 28,
    "start_time": "2024-01-17T05:23:00.459Z"
   },
   {
    "duration": 31,
    "start_time": "2024-01-17T05:23:00.492Z"
   },
   {
    "duration": 79,
    "start_time": "2024-01-17T05:23:00.525Z"
   },
   {
    "duration": 3,
    "start_time": "2024-01-17T05:23:00.607Z"
   },
   {
    "duration": 1271,
    "start_time": "2024-01-17T05:23:00.612Z"
   },
   {
    "duration": 6162,
    "start_time": "2024-01-17T05:23:01.885Z"
   },
   {
    "duration": 3980281,
    "start_time": "2024-01-17T05:23:08.049Z"
   },
   {
    "duration": 0,
    "start_time": "2024-01-17T06:29:28.332Z"
   },
   {
    "duration": 0,
    "start_time": "2024-01-17T06:29:28.333Z"
   },
   {
    "duration": 0,
    "start_time": "2024-01-17T06:29:28.334Z"
   },
   {
    "duration": 0,
    "start_time": "2024-01-17T06:29:28.335Z"
   },
   {
    "duration": 0,
    "start_time": "2024-01-17T06:29:28.336Z"
   },
   {
    "duration": 1466,
    "start_time": "2024-01-17T06:29:56.619Z"
   },
   {
    "duration": 919,
    "start_time": "2024-01-17T06:29:58.087Z"
   },
   {
    "duration": 435,
    "start_time": "2024-01-17T06:29:59.008Z"
   },
   {
    "duration": 209,
    "start_time": "2024-01-17T06:29:59.444Z"
   },
   {
    "duration": 154,
    "start_time": "2024-01-17T06:29:59.656Z"
   },
   {
    "duration": 9,
    "start_time": "2024-01-17T06:29:59.812Z"
   },
   {
    "duration": 9,
    "start_time": "2024-01-17T06:29:59.823Z"
   },
   {
    "duration": 14,
    "start_time": "2024-01-17T06:29:59.833Z"
   },
   {
    "duration": 36,
    "start_time": "2024-01-17T06:29:59.849Z"
   },
   {
    "duration": 46,
    "start_time": "2024-01-17T06:29:59.887Z"
   },
   {
    "duration": 308,
    "start_time": "2024-01-17T06:29:59.934Z"
   },
   {
    "duration": 375,
    "start_time": "2024-01-17T06:30:00.244Z"
   },
   {
    "duration": 291,
    "start_time": "2024-01-17T06:30:00.621Z"
   },
   {
    "duration": 419,
    "start_time": "2024-01-17T06:30:00.915Z"
   },
   {
    "duration": 62,
    "start_time": "2024-01-17T06:30:01.336Z"
   },
   {
    "duration": 286,
    "start_time": "2024-01-17T06:30:01.399Z"
   },
   {
    "duration": 280,
    "start_time": "2024-01-17T06:30:01.686Z"
   },
   {
    "duration": 7,
    "start_time": "2024-01-17T06:30:01.968Z"
   },
   {
    "duration": 34,
    "start_time": "2024-01-17T06:30:01.983Z"
   },
   {
    "duration": 19,
    "start_time": "2024-01-17T06:30:02.019Z"
   },
   {
    "duration": 56,
    "start_time": "2024-01-17T06:30:02.040Z"
   },
   {
    "duration": 52,
    "start_time": "2024-01-17T06:30:02.098Z"
   },
   {
    "duration": 32,
    "start_time": "2024-01-17T06:30:02.152Z"
   },
   {
    "duration": 46,
    "start_time": "2024-01-17T06:30:02.186Z"
   },
   {
    "duration": 53,
    "start_time": "2024-01-17T06:30:02.234Z"
   },
   {
    "duration": 14,
    "start_time": "2024-01-17T06:30:02.289Z"
   },
   {
    "duration": 24,
    "start_time": "2024-01-17T06:30:02.304Z"
   },
   {
    "duration": 36,
    "start_time": "2024-01-17T06:30:02.330Z"
   },
   {
    "duration": 47,
    "start_time": "2024-01-17T06:30:02.368Z"
   },
   {
    "duration": 9,
    "start_time": "2024-01-17T06:30:02.417Z"
   },
   {
    "duration": 1461,
    "start_time": "2024-01-17T06:30:02.427Z"
   },
   {
    "duration": 6154,
    "start_time": "2024-01-17T06:30:03.891Z"
   },
   {
    "duration": 367796,
    "start_time": "2024-01-17T06:30:10.047Z"
   },
   {
    "duration": 1936,
    "start_time": "2024-01-17T06:36:17.846Z"
   },
   {
    "duration": 15,
    "start_time": "2024-01-17T06:36:19.784Z"
   },
   {
    "duration": 8,
    "start_time": "2024-01-17T06:36:19.801Z"
   },
   {
    "duration": 9,
    "start_time": "2024-01-17T06:36:19.810Z"
   },
   {
    "duration": 8,
    "start_time": "2024-01-17T06:36:19.820Z"
   }
  ],
  "kernelspec": {
   "display_name": "Python 3 (ipykernel)",
   "language": "python",
   "name": "python3"
  },
  "language_info": {
   "codemirror_mode": {
    "name": "ipython",
    "version": 3
   },
   "file_extension": ".py",
   "mimetype": "text/x-python",
   "name": "python",
   "nbconvert_exporter": "python",
   "pygments_lexer": "ipython3",
   "version": "3.11.5"
  },
  "toc": {
   "base_numbering": 1,
   "nav_menu": {},
   "number_sections": true,
   "sideBar": true,
   "skip_h1_title": true,
   "title_cell": "Содержание",
   "title_sidebar": "Contents",
   "toc_cell": true,
   "toc_position": {
    "height": "calc(100% - 180px)",
    "left": "10px",
    "top": "150px",
    "width": "233.322px"
   },
   "toc_section_display": true,
   "toc_window_display": true
  }
 },
 "nbformat": 4,
 "nbformat_minor": 2
}

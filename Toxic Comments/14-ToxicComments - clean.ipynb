{
 "cells": [
  {
   "cell_type": "markdown",
   "metadata": {
    "toc": true
   },
   "source": [
    "<h1>Содержание<span class=\"tocSkip\"></span></h1>\n",
    "<div class=\"toc\"><ul class=\"toc-item\"><li><span><a href=\"#Подготовка\" data-toc-modified-id=\"Подготовка-1\"><span class=\"toc-item-num\">1&nbsp;&nbsp;</span>Подготовка</a></span><ul class=\"toc-item\"><li><span><a href=\"#Предобработка-данных\" data-toc-modified-id=\"Предобработка-данных-1.1\"><span class=\"toc-item-num\">1.1&nbsp;&nbsp;</span>Предобработка данных</a></span></li><li><span><a href=\"#Лемматизация\" data-toc-modified-id=\"Лемматизация-1.2\"><span class=\"toc-item-num\">1.2&nbsp;&nbsp;</span>Лемматизация</a></span></li><li><span><a href=\"#Разделение-на-выборки-и-признаки\" data-toc-modified-id=\"Разделение-на-выборки-и-признаки-1.3\"><span class=\"toc-item-num\">1.3&nbsp;&nbsp;</span>Разделение на выборки и признаки</a></span></li></ul></li><li><span><a href=\"#Обучение\" data-toc-modified-id=\"Обучение-2\"><span class=\"toc-item-num\">2&nbsp;&nbsp;</span>Обучение</a></span></li><li><span><a href=\"#Выбор-лучшей-модели\" data-toc-modified-id=\"Выбор-лучшей-модели-3\"><span class=\"toc-item-num\">3&nbsp;&nbsp;</span>Выбор лучшей модели</a></span></li><li><span><a href=\"#Выводы\" data-toc-modified-id=\"Выводы-4\"><span class=\"toc-item-num\">4&nbsp;&nbsp;</span>Выводы</a></span></li></ul></div>"
   ]
  },
  {
   "cell_type": "markdown",
   "metadata": {},
   "source": [
    "# Проект для «Викишоп»"
   ]
  },
  {
   "cell_type": "markdown",
   "metadata": {},
   "source": [
    "Интернет-магазин «Викишоп» запускает новый сервис. Теперь пользователи могут редактировать и дополнять описания товаров, как в вики-сообществах. То есть клиенты предлагают свои правки и комментируют изменения других. Магазину нужен инструмент, который будет искать токсичные комментарии и отправлять их на модерацию. \n",
    "\n",
    "**Задача:** Обучить модель классифицировать комментарии на позитивные и негативные со значением метрики качества *F1* не меньше 0.75. \n",
    "\n",
    "Заказчик предоставил набор данных с разметкой о токсичности правок.\n",
    "\n",
    "\n",
    "**План работы**\n",
    "\n",
    "1. Загрузка и подготовка данных.\n",
    "2. Обучение моделей логистической регрессии, дерева решений, cat-бустинга и LightGBM. \n",
    "3. Выбор лучшей модели и проверка на тестовой выборке. \n",
    "3. Общий вывод.\n",
    "\n",
    "**Описание данных**\n",
    "\n",
    "Столбец *text* содержит текст комментария, а *toxic* — целевой признак."
   ]
  },
  {
   "cell_type": "markdown",
   "metadata": {},
   "source": [
    "## Подготовка"
   ]
  },
  {
   "cell_type": "code",
   "execution_count": 1,
   "metadata": {
    "collapsed": true
   },
   "outputs": [
    {
     "name": "stdout",
     "output_type": "stream",
     "text": [
      "Requirement already satisfied: spacy in c:\\users\\user\\anaconda3\\lib\\site-packages (3.7.4)\n",
      "Requirement already satisfied: spacy-legacy<3.1.0,>=3.0.11 in c:\\users\\user\\anaconda3\\lib\\site-packages (from spacy) (3.0.12)\n",
      "Requirement already satisfied: spacy-loggers<2.0.0,>=1.0.0 in c:\\users\\user\\anaconda3\\lib\\site-packages (from spacy) (1.0.5)\n",
      "Requirement already satisfied: murmurhash<1.1.0,>=0.28.0 in c:\\users\\user\\anaconda3\\lib\\site-packages (from spacy) (1.0.10)\n",
      "Requirement already satisfied: cymem<2.1.0,>=2.0.2 in c:\\users\\user\\anaconda3\\lib\\site-packages (from spacy) (2.0.8)\n",
      "Requirement already satisfied: preshed<3.1.0,>=3.0.2 in c:\\users\\user\\anaconda3\\lib\\site-packages (from spacy) (3.0.9)\n",
      "Requirement already satisfied: thinc<8.3.0,>=8.2.2 in c:\\users\\user\\anaconda3\\lib\\site-packages (from spacy) (8.2.3)\n",
      "Requirement already satisfied: wasabi<1.2.0,>=0.9.1 in c:\\users\\user\\anaconda3\\lib\\site-packages (from spacy) (1.1.2)\n",
      "Requirement already satisfied: srsly<3.0.0,>=2.4.3 in c:\\users\\user\\anaconda3\\lib\\site-packages (from spacy) (2.4.8)\n",
      "Requirement already satisfied: catalogue<2.1.0,>=2.0.6 in c:\\users\\user\\anaconda3\\lib\\site-packages (from spacy) (2.0.10)\n",
      "Requirement already satisfied: weasel<0.4.0,>=0.1.0 in c:\\users\\user\\anaconda3\\lib\\site-packages (from spacy) (0.3.4)\n",
      "Requirement already satisfied: typer<0.10.0,>=0.3.0 in c:\\users\\user\\anaconda3\\lib\\site-packages (from spacy) (0.9.4)\n",
      "Requirement already satisfied: smart-open<7.0.0,>=5.2.1 in c:\\users\\user\\anaconda3\\lib\\site-packages (from spacy) (5.2.1)\n",
      "Requirement already satisfied: tqdm<5.0.0,>=4.38.0 in c:\\users\\user\\anaconda3\\lib\\site-packages (from spacy) (4.65.0)\n",
      "Requirement already satisfied: requests<3.0.0,>=2.13.0 in c:\\users\\user\\anaconda3\\lib\\site-packages (from spacy) (2.31.0)\n",
      "Requirement already satisfied: pydantic!=1.8,!=1.8.1,<3.0.0,>=1.7.4 in c:\\users\\user\\anaconda3\\lib\\site-packages (from spacy) (1.10.8)\n",
      "Requirement already satisfied: jinja2 in c:\\users\\user\\anaconda3\\lib\\site-packages (from spacy) (3.1.2)\n",
      "Requirement already satisfied: setuptools in c:\\users\\user\\anaconda3\\lib\\site-packages (from spacy) (68.0.0)\n",
      "Requirement already satisfied: packaging>=20.0 in c:\\users\\user\\anaconda3\\lib\\site-packages (from spacy) (23.1)\n",
      "Requirement already satisfied: langcodes<4.0.0,>=3.2.0 in c:\\users\\user\\anaconda3\\lib\\site-packages (from spacy) (3.4.0)\n",
      "Requirement already satisfied: numpy>=1.19.0 in c:\\users\\user\\anaconda3\\lib\\site-packages (from spacy) (1.24.3)\n",
      "Requirement already satisfied: language-data>=1.2 in c:\\users\\user\\anaconda3\\lib\\site-packages (from langcodes<4.0.0,>=3.2.0->spacy) (1.2.0)\n",
      "Requirement already satisfied: typing-extensions>=4.2.0 in c:\\users\\user\\anaconda3\\lib\\site-packages (from pydantic!=1.8,!=1.8.1,<3.0.0,>=1.7.4->spacy) (4.9.0)\n",
      "Requirement already satisfied: charset-normalizer<4,>=2 in c:\\users\\user\\anaconda3\\lib\\site-packages (from requests<3.0.0,>=2.13.0->spacy) (2.0.4)\n",
      "Requirement already satisfied: idna<4,>=2.5 in c:\\users\\user\\anaconda3\\lib\\site-packages (from requests<3.0.0,>=2.13.0->spacy) (3.4)\n",
      "Requirement already satisfied: urllib3<3,>=1.21.1 in c:\\users\\user\\anaconda3\\lib\\site-packages (from requests<3.0.0,>=2.13.0->spacy) (1.26.16)\n",
      "Requirement already satisfied: certifi>=2017.4.17 in c:\\users\\user\\anaconda3\\lib\\site-packages (from requests<3.0.0,>=2.13.0->spacy) (2023.7.22)\n",
      "Requirement already satisfied: blis<0.8.0,>=0.7.8 in c:\\users\\user\\anaconda3\\lib\\site-packages (from thinc<8.3.0,>=8.2.2->spacy) (0.7.11)\n",
      "Requirement already satisfied: confection<1.0.0,>=0.0.1 in c:\\users\\user\\anaconda3\\lib\\site-packages (from thinc<8.3.0,>=8.2.2->spacy) (0.1.4)\n",
      "Requirement already satisfied: colorama in c:\\users\\user\\anaconda3\\lib\\site-packages (from tqdm<5.0.0,>=4.38.0->spacy) (0.4.6)\n",
      "Requirement already satisfied: click<9.0.0,>=7.1.1 in c:\\users\\user\\anaconda3\\lib\\site-packages (from typer<0.10.0,>=0.3.0->spacy) (8.0.4)\n",
      "Requirement already satisfied: cloudpathlib<0.17.0,>=0.7.0 in c:\\users\\user\\anaconda3\\lib\\site-packages (from weasel<0.4.0,>=0.1.0->spacy) (0.16.0)\n",
      "Requirement already satisfied: MarkupSafe>=2.0 in c:\\users\\user\\anaconda3\\lib\\site-packages (from jinja2->spacy) (2.1.1)\n",
      "Requirement already satisfied: marisa-trie>=0.7.7 in c:\\users\\user\\anaconda3\\lib\\site-packages (from language-data>=1.2->langcodes<4.0.0,>=3.2.0->spacy) (1.1.1)\n",
      "Collecting en-core-web-sm==3.7.1\n",
      "  Downloading https://github.com/explosion/spacy-models/releases/download/en_core_web_sm-3.7.1/en_core_web_sm-3.7.1-py3-none-any.whl (12.8 MB)\n",
      "     ---------------------------------------- 0.0/12.8 MB ? eta -:--:--\n",
      "     --------------------------------------- 0.0/12.8 MB 640.0 kB/s eta 0:00:20\n",
      "     ---------------------------------------- 0.2/12.8 MB 1.5 MB/s eta 0:00:09\n",
      "     - -------------------------------------- 0.4/12.8 MB 2.9 MB/s eta 0:00:05\n",
      "     -- ------------------------------------- 0.9/12.8 MB 5.3 MB/s eta 0:00:03\n",
      "     ----- ---------------------------------- 1.7/12.8 MB 7.0 MB/s eta 0:00:02\n",
      "     ------- -------------------------------- 2.4/12.8 MB 8.6 MB/s eta 0:00:02\n",
      "     ---------- ----------------------------- 3.2/12.8 MB 10.3 MB/s eta 0:00:01\n",
      "     ------------ --------------------------- 4.0/12.8 MB 11.0 MB/s eta 0:00:01\n",
      "     -------------- ------------------------- 4.7/12.8 MB 11.2 MB/s eta 0:00:01\n",
      "     ----------------- ---------------------- 5.6/12.8 MB 12.3 MB/s eta 0:00:01\n",
      "     -------------------- ------------------- 6.4/12.8 MB 12.8 MB/s eta 0:00:01\n",
      "     ---------------------- ----------------- 7.1/12.8 MB 12.9 MB/s eta 0:00:01\n",
      "     ------------------------ --------------- 7.9/12.8 MB 13.3 MB/s eta 0:00:01\n",
      "     -------------------------- ------------- 8.5/12.8 MB 13.3 MB/s eta 0:00:01\n",
      "     ----------------------------- ---------- 9.4/12.8 MB 13.6 MB/s eta 0:00:01\n",
      "     ------------------------------ -------- 10.2/12.8 MB 13.8 MB/s eta 0:00:01\n",
      "     --------------------------------- ----- 11.0/12.8 MB 16.8 MB/s eta 0:00:01\n",
      "     ------------------------------------ -- 11.9/12.8 MB 17.3 MB/s eta 0:00:01\n",
      "     --------------------------------------  12.8/12.8 MB 17.3 MB/s eta 0:00:01\n",
      "     --------------------------------------- 12.8/12.8 MB 16.4 MB/s eta 0:00:00\n",
      "Requirement already satisfied: spacy<3.8.0,>=3.7.2 in c:\\users\\user\\anaconda3\\lib\\site-packages (from en-core-web-sm==3.7.1) (3.7.4)\n",
      "Requirement already satisfied: spacy-legacy<3.1.0,>=3.0.11 in c:\\users\\user\\anaconda3\\lib\\site-packages (from spacy<3.8.0,>=3.7.2->en-core-web-sm==3.7.1) (3.0.12)\n",
      "Requirement already satisfied: spacy-loggers<2.0.0,>=1.0.0 in c:\\users\\user\\anaconda3\\lib\\site-packages (from spacy<3.8.0,>=3.7.2->en-core-web-sm==3.7.1) (1.0.5)\n",
      "Requirement already satisfied: murmurhash<1.1.0,>=0.28.0 in c:\\users\\user\\anaconda3\\lib\\site-packages (from spacy<3.8.0,>=3.7.2->en-core-web-sm==3.7.1) (1.0.10)\n",
      "Requirement already satisfied: cymem<2.1.0,>=2.0.2 in c:\\users\\user\\anaconda3\\lib\\site-packages (from spacy<3.8.0,>=3.7.2->en-core-web-sm==3.7.1) (2.0.8)\n",
      "Requirement already satisfied: preshed<3.1.0,>=3.0.2 in c:\\users\\user\\anaconda3\\lib\\site-packages (from spacy<3.8.0,>=3.7.2->en-core-web-sm==3.7.1) (3.0.9)\n",
      "Requirement already satisfied: thinc<8.3.0,>=8.2.2 in c:\\users\\user\\anaconda3\\lib\\site-packages (from spacy<3.8.0,>=3.7.2->en-core-web-sm==3.7.1) (8.2.3)\n",
      "Requirement already satisfied: wasabi<1.2.0,>=0.9.1 in c:\\users\\user\\anaconda3\\lib\\site-packages (from spacy<3.8.0,>=3.7.2->en-core-web-sm==3.7.1) (1.1.2)\n",
      "Requirement already satisfied: srsly<3.0.0,>=2.4.3 in c:\\users\\user\\anaconda3\\lib\\site-packages (from spacy<3.8.0,>=3.7.2->en-core-web-sm==3.7.1) (2.4.8)\n",
      "Requirement already satisfied: catalogue<2.1.0,>=2.0.6 in c:\\users\\user\\anaconda3\\lib\\site-packages (from spacy<3.8.0,>=3.7.2->en-core-web-sm==3.7.1) (2.0.10)\n",
      "Requirement already satisfied: weasel<0.4.0,>=0.1.0 in c:\\users\\user\\anaconda3\\lib\\site-packages (from spacy<3.8.0,>=3.7.2->en-core-web-sm==3.7.1) (0.3.4)\n",
      "Requirement already satisfied: typer<0.10.0,>=0.3.0 in c:\\users\\user\\anaconda3\\lib\\site-packages (from spacy<3.8.0,>=3.7.2->en-core-web-sm==3.7.1) (0.9.4)\n",
      "Requirement already satisfied: smart-open<7.0.0,>=5.2.1 in c:\\users\\user\\anaconda3\\lib\\site-packages (from spacy<3.8.0,>=3.7.2->en-core-web-sm==3.7.1) (5.2.1)\n",
      "Requirement already satisfied: tqdm<5.0.0,>=4.38.0 in c:\\users\\user\\anaconda3\\lib\\site-packages (from spacy<3.8.0,>=3.7.2->en-core-web-sm==3.7.1) (4.65.0)\n",
      "Requirement already satisfied: requests<3.0.0,>=2.13.0 in c:\\users\\user\\anaconda3\\lib\\site-packages (from spacy<3.8.0,>=3.7.2->en-core-web-sm==3.7.1) (2.31.0)\n",
      "Requirement already satisfied: pydantic!=1.8,!=1.8.1,<3.0.0,>=1.7.4 in c:\\users\\user\\anaconda3\\lib\\site-packages (from spacy<3.8.0,>=3.7.2->en-core-web-sm==3.7.1) (1.10.8)\n",
      "Requirement already satisfied: jinja2 in c:\\users\\user\\anaconda3\\lib\\site-packages (from spacy<3.8.0,>=3.7.2->en-core-web-sm==3.7.1) (3.1.2)\n",
      "Requirement already satisfied: setuptools in c:\\users\\user\\anaconda3\\lib\\site-packages (from spacy<3.8.0,>=3.7.2->en-core-web-sm==3.7.1) (68.0.0)\n",
      "Requirement already satisfied: packaging>=20.0 in c:\\users\\user\\anaconda3\\lib\\site-packages (from spacy<3.8.0,>=3.7.2->en-core-web-sm==3.7.1) (23.1)\n",
      "Requirement already satisfied: langcodes<4.0.0,>=3.2.0 in c:\\users\\user\\anaconda3\\lib\\site-packages (from spacy<3.8.0,>=3.7.2->en-core-web-sm==3.7.1) (3.4.0)\n",
      "Requirement already satisfied: numpy>=1.19.0 in c:\\users\\user\\anaconda3\\lib\\site-packages (from spacy<3.8.0,>=3.7.2->en-core-web-sm==3.7.1) (1.24.3)\n",
      "Requirement already satisfied: language-data>=1.2 in c:\\users\\user\\anaconda3\\lib\\site-packages (from langcodes<4.0.0,>=3.2.0->spacy<3.8.0,>=3.7.2->en-core-web-sm==3.7.1) (1.2.0)\n",
      "Requirement already satisfied: typing-extensions>=4.2.0 in c:\\users\\user\\anaconda3\\lib\\site-packages (from pydantic!=1.8,!=1.8.1,<3.0.0,>=1.7.4->spacy<3.8.0,>=3.7.2->en-core-web-sm==3.7.1) (4.9.0)\n",
      "Requirement already satisfied: charset-normalizer<4,>=2 in c:\\users\\user\\anaconda3\\lib\\site-packages (from requests<3.0.0,>=2.13.0->spacy<3.8.0,>=3.7.2->en-core-web-sm==3.7.1) (2.0.4)\n",
      "Requirement already satisfied: idna<4,>=2.5 in c:\\users\\user\\anaconda3\\lib\\site-packages (from requests<3.0.0,>=2.13.0->spacy<3.8.0,>=3.7.2->en-core-web-sm==3.7.1) (3.4)\n",
      "Requirement already satisfied: urllib3<3,>=1.21.1 in c:\\users\\user\\anaconda3\\lib\\site-packages (from requests<3.0.0,>=2.13.0->spacy<3.8.0,>=3.7.2->en-core-web-sm==3.7.1) (1.26.16)\n",
      "Requirement already satisfied: certifi>=2017.4.17 in c:\\users\\user\\anaconda3\\lib\\site-packages (from requests<3.0.0,>=2.13.0->spacy<3.8.0,>=3.7.2->en-core-web-sm==3.7.1) (2023.7.22)\n",
      "Requirement already satisfied: blis<0.8.0,>=0.7.8 in c:\\users\\user\\anaconda3\\lib\\site-packages (from thinc<8.3.0,>=8.2.2->spacy<3.8.0,>=3.7.2->en-core-web-sm==3.7.1) (0.7.11)\n",
      "Requirement already satisfied: confection<1.0.0,>=0.0.1 in c:\\users\\user\\anaconda3\\lib\\site-packages (from thinc<8.3.0,>=8.2.2->spacy<3.8.0,>=3.7.2->en-core-web-sm==3.7.1) (0.1.4)\n",
      "Requirement already satisfied: colorama in c:\\users\\user\\anaconda3\\lib\\site-packages (from tqdm<5.0.0,>=4.38.0->spacy<3.8.0,>=3.7.2->en-core-web-sm==3.7.1) (0.4.6)\n",
      "Requirement already satisfied: click<9.0.0,>=7.1.1 in c:\\users\\user\\anaconda3\\lib\\site-packages (from typer<0.10.0,>=0.3.0->spacy<3.8.0,>=3.7.2->en-core-web-sm==3.7.1) (8.0.4)\n",
      "Requirement already satisfied: cloudpathlib<0.17.0,>=0.7.0 in c:\\users\\user\\anaconda3\\lib\\site-packages (from weasel<0.4.0,>=0.1.0->spacy<3.8.0,>=3.7.2->en-core-web-sm==3.7.1) (0.16.0)\n",
      "Requirement already satisfied: MarkupSafe>=2.0 in c:\\users\\user\\anaconda3\\lib\\site-packages (from jinja2->spacy<3.8.0,>=3.7.2->en-core-web-sm==3.7.1) (2.1.1)\n",
      "Requirement already satisfied: marisa-trie>=0.7.7 in c:\\users\\user\\anaconda3\\lib\\site-packages (from language-data>=1.2->langcodes<4.0.0,>=3.2.0->spacy<3.8.0,>=3.7.2->en-core-web-sm==3.7.1) (1.1.1)\n",
      "\u001b[38;5;3m[!] As of spaCy v3.0, shortcuts like 'en' are deprecated. Please use\n",
      "the full pipeline package name 'en_core_web_sm' instead.\u001b[0m\n",
      "\u001b[38;5;2m[+] Download and installation successful\u001b[0m\n",
      "You can now load the package via spacy.load('en_core_web_sm')\n"
     ]
    }
   ],
   "source": [
    "import sys\n",
    "!{sys.executable} -m pip install spacy\n",
    "!{sys.executable} -m spacy download en"
   ]
  },
  {
   "cell_type": "code",
   "execution_count": 2,
   "metadata": {},
   "outputs": [],
   "source": [
    "import pandas as pd\n",
    "import matplotlib.pyplot as plt\n",
    "import re\n",
    "import spacy\n",
    "\n",
    "\n",
    "from tqdm import tqdm\n",
    "\n",
    "import nltk\n",
    "from nltk.stem import WordNetLemmatizer \n",
    "from nltk.corpus import stopwords as nltk_stopwords\n",
    "\n",
    "from sklearn.model_selection import train_test_split\n",
    "from sklearn.metrics import f1_score\n",
    "from sklearn.feature_extraction.text import TfidfVectorizer\n",
    "from sklearn.linear_model import LogisticRegression\n",
    "from sklearn.tree import DecisionTreeClassifier\n",
    "from sklearn.ensemble import RandomForestClassifier\n",
    "from catboost import CatBoostClassifier\n",
    "from lightgbm import LGBMClassifier"
   ]
  },
  {
   "cell_type": "code",
   "execution_count": 3,
   "metadata": {},
   "outputs": [],
   "source": [
    "data = pd.read_csv('toxic_comments.csv')"
   ]
  },
  {
   "cell_type": "markdown",
   "metadata": {},
   "source": [
    "### Предобработка данных"
   ]
  },
  {
   "cell_type": "code",
   "execution_count": 4,
   "metadata": {},
   "outputs": [
    {
     "name": "stdout",
     "output_type": "stream",
     "text": [
      "<class 'pandas.core.frame.DataFrame'>\n",
      "RangeIndex: 159292 entries, 0 to 159291\n",
      "Data columns (total 3 columns):\n",
      " #   Column      Non-Null Count   Dtype \n",
      "---  ------      --------------   ----- \n",
      " 0   Unnamed: 0  159292 non-null  int64 \n",
      " 1   text        159292 non-null  object\n",
      " 2   toxic       159292 non-null  int64 \n",
      "dtypes: int64(2), object(1)\n",
      "memory usage: 3.6+ MB\n"
     ]
    },
    {
     "data": {
      "text/html": [
       "<div>\n",
       "<style scoped>\n",
       "    .dataframe tbody tr th:only-of-type {\n",
       "        vertical-align: middle;\n",
       "    }\n",
       "\n",
       "    .dataframe tbody tr th {\n",
       "        vertical-align: top;\n",
       "    }\n",
       "\n",
       "    .dataframe thead th {\n",
       "        text-align: right;\n",
       "    }\n",
       "</style>\n",
       "<table border=\"1\" class=\"dataframe\">\n",
       "  <thead>\n",
       "    <tr style=\"text-align: right;\">\n",
       "      <th></th>\n",
       "      <th>Unnamed: 0</th>\n",
       "      <th>text</th>\n",
       "      <th>toxic</th>\n",
       "    </tr>\n",
       "  </thead>\n",
       "  <tbody>\n",
       "    <tr>\n",
       "      <th>0</th>\n",
       "      <td>0</td>\n",
       "      <td>Explanation\\nWhy the edits made under my usern...</td>\n",
       "      <td>0</td>\n",
       "    </tr>\n",
       "    <tr>\n",
       "      <th>1</th>\n",
       "      <td>1</td>\n",
       "      <td>D'aww! He matches this background colour I'm s...</td>\n",
       "      <td>0</td>\n",
       "    </tr>\n",
       "    <tr>\n",
       "      <th>2</th>\n",
       "      <td>2</td>\n",
       "      <td>Hey man, I'm really not trying to edit war. It...</td>\n",
       "      <td>0</td>\n",
       "    </tr>\n",
       "    <tr>\n",
       "      <th>3</th>\n",
       "      <td>3</td>\n",
       "      <td>\"\\nMore\\nI can't make any real suggestions on ...</td>\n",
       "      <td>0</td>\n",
       "    </tr>\n",
       "    <tr>\n",
       "      <th>4</th>\n",
       "      <td>4</td>\n",
       "      <td>You, sir, are my hero. Any chance you remember...</td>\n",
       "      <td>0</td>\n",
       "    </tr>\n",
       "    <tr>\n",
       "      <th>5</th>\n",
       "      <td>5</td>\n",
       "      <td>\"\\n\\nCongratulations from me as well, use the ...</td>\n",
       "      <td>0</td>\n",
       "    </tr>\n",
       "    <tr>\n",
       "      <th>6</th>\n",
       "      <td>6</td>\n",
       "      <td>COCKSUCKER BEFORE YOU PISS AROUND ON MY WORK</td>\n",
       "      <td>1</td>\n",
       "    </tr>\n",
       "    <tr>\n",
       "      <th>7</th>\n",
       "      <td>7</td>\n",
       "      <td>Your vandalism to the Matt Shirvington article...</td>\n",
       "      <td>0</td>\n",
       "    </tr>\n",
       "    <tr>\n",
       "      <th>8</th>\n",
       "      <td>8</td>\n",
       "      <td>Sorry if the word 'nonsense' was offensive to ...</td>\n",
       "      <td>0</td>\n",
       "    </tr>\n",
       "    <tr>\n",
       "      <th>9</th>\n",
       "      <td>9</td>\n",
       "      <td>alignment on this subject and which are contra...</td>\n",
       "      <td>0</td>\n",
       "    </tr>\n",
       "  </tbody>\n",
       "</table>\n",
       "</div>"
      ],
      "text/plain": [
       "   Unnamed: 0                                               text  toxic\n",
       "0           0  Explanation\\nWhy the edits made under my usern...      0\n",
       "1           1  D'aww! He matches this background colour I'm s...      0\n",
       "2           2  Hey man, I'm really not trying to edit war. It...      0\n",
       "3           3  \"\\nMore\\nI can't make any real suggestions on ...      0\n",
       "4           4  You, sir, are my hero. Any chance you remember...      0\n",
       "5           5  \"\\n\\nCongratulations from me as well, use the ...      0\n",
       "6           6       COCKSUCKER BEFORE YOU PISS AROUND ON MY WORK      1\n",
       "7           7  Your vandalism to the Matt Shirvington article...      0\n",
       "8           8  Sorry if the word 'nonsense' was offensive to ...      0\n",
       "9           9  alignment on this subject and which are contra...      0"
      ]
     },
     "execution_count": 4,
     "metadata": {},
     "output_type": "execute_result"
    }
   ],
   "source": [
    "# обзор данных \n",
    "\n",
    "data.info()\n",
    "data.head(10)"
   ]
  },
  {
   "cell_type": "code",
   "execution_count": 5,
   "metadata": {
    "scrolled": true
   },
   "outputs": [
    {
     "name": "stdout",
     "output_type": "stream",
     "text": [
      "Количество дубликатов: 0\n",
      "Количество пропусков: Unnamed: 0    0\n",
      "text          0\n",
      "toxic         0\n",
      "dtype: int64\n"
     ]
    }
   ],
   "source": [
    "# проверка дубликатов и пропусков\n",
    "\n",
    "print('Количество дубликатов:', data.duplicated().sum())\n",
    "print('Количество пропусков:', data.isna().sum())"
   ]
  },
  {
   "cell_type": "code",
   "execution_count": 6,
   "metadata": {
    "scrolled": false
   },
   "outputs": [
    {
     "name": "stdout",
     "output_type": "stream",
     "text": [
      "<class 'pandas.core.frame.DataFrame'>\n",
      "RangeIndex: 159292 entries, 0 to 159291\n",
      "Data columns (total 2 columns):\n",
      " #   Column  Non-Null Count   Dtype \n",
      "---  ------  --------------   ----- \n",
      " 0   text    159292 non-null  object\n",
      " 1   toxic   159292 non-null  int64 \n",
      "dtypes: int64(1), object(1)\n",
      "memory usage: 2.4+ MB\n"
     ]
    }
   ],
   "source": [
    "# удаление неактуального столбца\n",
    "\n",
    "data = data.drop('Unnamed: 0', axis = 1)\n",
    "data.info()"
   ]
  },
  {
   "cell_type": "code",
   "execution_count": 7,
   "metadata": {},
   "outputs": [
    {
     "data": {
      "text/html": [
       "<div>\n",
       "<style scoped>\n",
       "    .dataframe tbody tr th:only-of-type {\n",
       "        vertical-align: middle;\n",
       "    }\n",
       "\n",
       "    .dataframe tbody tr th {\n",
       "        vertical-align: top;\n",
       "    }\n",
       "\n",
       "    .dataframe thead th {\n",
       "        text-align: right;\n",
       "    }\n",
       "</style>\n",
       "<table border=\"1\" class=\"dataframe\">\n",
       "  <thead>\n",
       "    <tr style=\"text-align: right;\">\n",
       "      <th></th>\n",
       "      <th>text</th>\n",
       "      <th>toxic</th>\n",
       "    </tr>\n",
       "  </thead>\n",
       "  <tbody>\n",
       "    <tr>\n",
       "      <th>0</th>\n",
       "      <td>explanation\\nwhy the edits made under my usern...</td>\n",
       "      <td>0</td>\n",
       "    </tr>\n",
       "    <tr>\n",
       "      <th>1</th>\n",
       "      <td>d'aww! he matches this background colour i'm s...</td>\n",
       "      <td>0</td>\n",
       "    </tr>\n",
       "    <tr>\n",
       "      <th>2</th>\n",
       "      <td>hey man, i'm really not trying to edit war. it...</td>\n",
       "      <td>0</td>\n",
       "    </tr>\n",
       "    <tr>\n",
       "      <th>3</th>\n",
       "      <td>\"\\nmore\\ni can't make any real suggestions on ...</td>\n",
       "      <td>0</td>\n",
       "    </tr>\n",
       "    <tr>\n",
       "      <th>4</th>\n",
       "      <td>you, sir, are my hero. any chance you remember...</td>\n",
       "      <td>0</td>\n",
       "    </tr>\n",
       "  </tbody>\n",
       "</table>\n",
       "</div>"
      ],
      "text/plain": [
       "                                                text  toxic\n",
       "0  explanation\\nwhy the edits made under my usern...      0\n",
       "1  d'aww! he matches this background colour i'm s...      0\n",
       "2  hey man, i'm really not trying to edit war. it...      0\n",
       "3  \"\\nmore\\ni can't make any real suggestions on ...      0\n",
       "4  you, sir, are my hero. any chance you remember...      0"
      ]
     },
     "execution_count": 7,
     "metadata": {},
     "output_type": "execute_result"
    }
   ],
   "source": [
    "# приведение текста к нижнему регистру\n",
    "\n",
    "data['text'] = data['text'].str.lower()\n",
    "\n",
    "data.head()"
   ]
  },
  {
   "cell_type": "code",
   "execution_count": 8,
   "metadata": {},
   "outputs": [
    {
     "data": {
      "text/plain": [
       "toxic\n",
       "0    143106\n",
       "1     16186\n",
       "Name: count, dtype: int64"
      ]
     },
     "metadata": {},
     "output_type": "display_data"
    },
    {
     "data": {
      "image/png": "[encoded data removed]",
      "text/plain": [
       "<Figure size 400x400 with 1 Axes>"
      ]
     },
     "metadata": {},
     "output_type": "display_data"
    }
   ],
   "source": [
    "# исследование баланса классов\n",
    "\n",
    "display(data['toxic'].value_counts())\n",
    "\n",
    "value_counts = data['toxic'].value_counts()\n",
    "\n",
    "plt.figure(figsize=(4,4))\n",
    "plt.pie(value_counts, radius = 0.7,labels=['Ok', 'Toxic'])\n",
    "plt.title('Распределение классов в выборке текстов')\n",
    "plt.ylabel(None)\n",
    "plt.show();"
   ]
  },
  {
   "cell_type": "markdown",
   "metadata": {},
   "source": [
    "В ходе предобработки были проанализированы:\n",
    "1. Содержание датафрейма - показало наличие в таблице релевантных данных, за исключением одного столбца, содержащего неидентифицированные данные, который был удален.\n",
    "2. Пропуски и дубликаты - отсуствовали в датафрейме.\n",
    "3. Содержание датафрейма - было приведено к строчному регистру.\n",
    "4. Баланс классов - наблюдается ярко выраженный дисбаланс."
   ]
  },
  {
   "cell_type": "markdown",
   "metadata": {},
   "source": [
    "### Лемматизация"
   ]
  },
  {
   "cell_type": "code",
   "execution_count": 9,
   "metadata": {},
   "outputs": [],
   "source": [
    "# очищение текста от лишних символов\n",
    "\n",
    "def clear_text(text):\n",
    "    clear_list = re.sub(r'[^a-zA-Z ]', ' ', text)\n",
    "    clear_text = \" \".join(clear_list.split())\n",
    "    return clear_text\n",
    "\n",
    "data['text'] = data['text'].apply(clear_text)"
   ]
  },
  {
   "cell_type": "code",
   "execution_count": 10,
   "metadata": {},
   "outputs": [
    {
     "data": {
      "text/plain": [
       "'the stripe bat be hang on their foot for good'"
      ]
     },
     "execution_count": 10,
     "metadata": {},
     "output_type": "execute_result"
    }
   ],
   "source": [
    "# по комментарию ревьюера использован SpaCy\n",
    "\n",
    "nlp = spacy.load('en_core_web_sm')\n",
    "\n",
    "#предложения для тестирования\n",
    "sentence = \"The striped bats are hanging on their feet for best\"\n",
    "doc = nlp(sentence)\n",
    "\" \".join([token.lemma_ for token in doc])\n"
   ]
  },
  {
   "cell_type": "code",
   "execution_count": 11,
   "metadata": {},
   "outputs": [
    {
     "name": "stderr",
     "output_type": "stream",
     "text": [
      "100%|██████████████████████████████████████████████████████████████████████████| 159292/159292 [37:41<00:00, 70.42it/s]\n"
     ]
    }
   ],
   "source": [
    "# функция для SpaCy\n",
    "def lemmatize(text):\n",
    "    doc = nlp(text)\n",
    "    lemm_list = [token.lemma_ for token in doc]\n",
    "    lemm_text = \" \".join(lemm_list)\n",
    "    return lemm_text\n",
    "\n",
    "# добавление лемм\n",
    "tqdm.pandas()\n",
    "data['lemm_text'] = data['text'].progress_apply(lemmatize)"
   ]
  },
  {
   "cell_type": "code",
   "execution_count": 12,
   "metadata": {},
   "outputs": [
    {
     "name": "stdout",
     "output_type": "stream",
     "text": [
      "Количество дубликатов: 1294\n",
      "\n",
      "<class 'pandas.core.frame.DataFrame'>\n",
      "RangeIndex: 159292 entries, 0 to 159291\n",
      "Data columns (total 3 columns):\n",
      " #   Column     Non-Null Count   Dtype \n",
      "---  ------     --------------   ----- \n",
      " 0   text       159292 non-null  object\n",
      " 1   toxic      159292 non-null  int64 \n",
      " 2   lemm_text  159292 non-null  object\n",
      "dtypes: int64(1), object(2)\n",
      "memory usage: 3.6+ MB\n"
     ]
    }
   ],
   "source": [
    "# проверка дубликатов\n",
    "\n",
    "print('Количество дубликатов:', data.duplicated().sum())\n",
    "print()\n",
    "data.info()"
   ]
  },
  {
   "cell_type": "code",
   "execution_count": 13,
   "metadata": {},
   "outputs": [
    {
     "name": "stdout",
     "output_type": "stream",
     "text": [
      "<class 'pandas.core.frame.DataFrame'>\n",
      "Index: 157976 entries, 0 to 159291\n",
      "Data columns (total 2 columns):\n",
      " #   Column     Non-Null Count   Dtype \n",
      "---  ------     --------------   ----- \n",
      " 0   toxic      157976 non-null  int64 \n",
      " 1   lemm_text  157976 non-null  object\n",
      "dtypes: int64(1), object(1)\n",
      "memory usage: 3.6+ MB\n"
     ]
    }
   ],
   "source": [
    "# исключение дубликатов\n",
    "\n",
    "data = data.drop('text', axis=1)\n",
    "data = data.drop_duplicates()\n",
    "data.info()"
   ]
  },
  {
   "cell_type": "code",
   "execution_count": 14,
   "metadata": {},
   "outputs": [
    {
     "data": {
      "text/html": [
       "<div>\n",
       "<style scoped>\n",
       "    .dataframe tbody tr th:only-of-type {\n",
       "        vertical-align: middle;\n",
       "    }\n",
       "\n",
       "    .dataframe tbody tr th {\n",
       "        vertical-align: top;\n",
       "    }\n",
       "\n",
       "    .dataframe thead th {\n",
       "        text-align: right;\n",
       "    }\n",
       "</style>\n",
       "<table border=\"1\" class=\"dataframe\">\n",
       "  <thead>\n",
       "    <tr style=\"text-align: right;\">\n",
       "      <th></th>\n",
       "      <th>toxic</th>\n",
       "      <th>lemm_text</th>\n",
       "    </tr>\n",
       "  </thead>\n",
       "  <tbody>\n",
       "    <tr>\n",
       "      <th>0</th>\n",
       "      <td>0</td>\n",
       "      <td>explanation why the edit make under my usernam...</td>\n",
       "    </tr>\n",
       "    <tr>\n",
       "      <th>1</th>\n",
       "      <td>0</td>\n",
       "      <td>d aww he match this background colour I m seem...</td>\n",
       "    </tr>\n",
       "    <tr>\n",
       "      <th>2</th>\n",
       "      <td>0</td>\n",
       "      <td>hey man I m really not try to edit war it s ju...</td>\n",
       "    </tr>\n",
       "    <tr>\n",
       "      <th>3</th>\n",
       "      <td>0</td>\n",
       "      <td>more I can t make any real suggestion on impro...</td>\n",
       "    </tr>\n",
       "    <tr>\n",
       "      <th>4</th>\n",
       "      <td>0</td>\n",
       "      <td>you sir be my hero any chance you remember wha...</td>\n",
       "    </tr>\n",
       "  </tbody>\n",
       "</table>\n",
       "</div>"
      ],
      "text/plain": [
       "   toxic                                          lemm_text\n",
       "0      0  explanation why the edit make under my usernam...\n",
       "1      0  d aww he match this background colour I m seem...\n",
       "2      0  hey man I m really not try to edit war it s ju...\n",
       "3      0  more I can t make any real suggestion on impro...\n",
       "4      0  you sir be my hero any chance you remember wha..."
      ]
     },
     "execution_count": 14,
     "metadata": {},
     "output_type": "execute_result"
    }
   ],
   "source": [
    "data.head()"
   ]
  },
  {
   "cell_type": "markdown",
   "metadata": {},
   "source": [
    "Добавлен столбец с лемматизированным текстом, а также удалены дубликаты после лемматизаци и столбец с исходным текстом комментариев."
   ]
  },
  {
   "cell_type": "markdown",
   "metadata": {},
   "source": [
    "### Разделение на выборки и признаки"
   ]
  },
  {
   "cell_type": "code",
   "execution_count": 15,
   "metadata": {},
   "outputs": [
    {
     "data": {
      "text/plain": [
       "((94785, 2), (31595, 2), (31596, 2))"
      ]
     },
     "execution_count": 15,
     "metadata": {},
     "output_type": "execute_result"
    }
   ],
   "source": [
    "# разделение на обучающую, валидационную и тестовую выборки в соотношении 3:1:1\n",
    "\n",
    "val_train, test = train_test_split(data, test_size=0.2, random_state=12345)\n",
    "train, valid = train_test_split(val_train, test_size=0.25, random_state=12345)\n",
    "\n",
    "train.shape, valid.shape, test.shape"
   ]
  },
  {
   "cell_type": "code",
   "execution_count": 16,
   "metadata": {},
   "outputs": [
    {
     "data": {
      "text/plain": [
       "((94785,), (94785,), (31595,), (31595,), (31596,), (31596,))"
      ]
     },
     "execution_count": 16,
     "metadata": {},
     "output_type": "execute_result"
    }
   ],
   "source": [
    "# разделение на признаки и создание корпусов\n",
    "\n",
    "features_train = train['lemm_text'].values\n",
    "target_train = train['toxic']\n",
    "\n",
    "features_valid = valid['lemm_text'].values\n",
    "target_valid = valid['toxic'] \n",
    "\n",
    "features_test = test['lemm_text'].values\n",
    "target_test = test['toxic']\n",
    "\n",
    "features_train.shape, target_train.shape, features_valid.shape, target_valid.shape, features_test.shape, target_test.shape"
   ]
  },
  {
   "cell_type": "code",
   "execution_count": 17,
   "metadata": {},
   "outputs": [
    {
     "name": "stderr",
     "output_type": "stream",
     "text": [
      "[nltk_data] Downloading package stopwords to\n",
      "[nltk_data]     C:\\Users\\User\\AppData\\Roaming\\nltk_data...\n",
      "[nltk_data]   Package stopwords is already up-to-date!\n"
     ]
    },
    {
     "name": "stdout",
     "output_type": "stream",
     "text": [
      "Размер матрицы: (94785, 112154)\n",
      "Размер матрицы: (31595, 112154)\n",
      "Размер матрицы: (31596, 112154)\n"
     ]
    }
   ],
   "source": [
    "# TF-IDF для текстов, с учетом стоп-слов\n",
    "\n",
    "nltk.download('stopwords')\n",
    "stopwords = set(nltk_stopwords.words('english'))\n",
    "\n",
    "count_tf_idf = TfidfVectorizer(stop_words=stopwords) \n",
    "tf_idf_train = count_tf_idf.fit_transform(features_train) \n",
    "tf_idf_valid = count_tf_idf.transform(features_valid) \n",
    "tf_idf_test = count_tf_idf.transform(features_test) \n",
    "\n",
    "print('Размер матрицы:', tf_idf_train.shape)\n",
    "print('Размер матрицы:', tf_idf_valid.shape) \n",
    "print('Размер матрицы:', tf_idf_test.shape)"
   ]
  },
  {
   "cell_type": "markdown",
   "metadata": {},
   "source": [
    "Данные разделены разделение на обучающую, валидационную и тестовую выборки в соотношении 3:1:1, в каждой выборке выделены параметр в формате корпуса текста и целевой признак. Для параметров в выборках рассчитан TF-IDF матрицы."
   ]
  },
  {
   "cell_type": "markdown",
   "metadata": {},
   "source": [
    "## Обучение"
   ]
  },
  {
   "cell_type": "code",
   "execution_count": 18,
   "metadata": {},
   "outputs": [
    {
     "name": "stdout",
     "output_type": "stream",
     "text": [
      "F1 логистической регрессии на валидационной выборке: 0.732\n",
      "CPU times: total: 7.14 s\n",
      "Wall time: 3.34 s\n"
     ]
    }
   ],
   "source": [
    "%%time\n",
    "\n",
    "# обучение модели логистической регрессии\n",
    "\n",
    "model_lr = LogisticRegression(random_state=12345, solver='lbfgs', max_iter=1000)\n",
    "model_lr.fit(tf_idf_train, target_train)\n",
    "predictions_lr_valid = model_lr.predict(tf_idf_valid)\n",
    "f1_score_lr = f1_score(target_valid, predictions_lr_valid).round(3)\n",
    "print('F1 логистической регрессии на валидационной выборке:', f1_score_lr)"
   ]
  },
  {
   "cell_type": "markdown",
   "metadata": {},
   "source": [
    "Модель логистической регресии на валидационных данных не показала минимально необходимой величины F1-меры - 0.732 ниже требуемых 0.75, поэтому обучим следующую модель."
   ]
  },
  {
   "cell_type": "code",
   "execution_count": 19,
   "metadata": {},
   "outputs": [
    {
     "name": "stdout",
     "output_type": "stream",
     "text": [
      "F1 модели дерева решений на валидационной выборке: 0.699 Глубина дерева: 30\n",
      "CPU times: total: 2min 55s\n",
      "Wall time: 4min 23s\n"
     ]
    }
   ],
   "source": [
    "%%time\n",
    "\n",
    "# обучение модели дерева решений и поиск оптимальной глубины\n",
    "\n",
    "best_model = None\n",
    "best_result = 0 \n",
    "best_depth = 0\n",
    "for depth in range(10, 31):\n",
    "    model_dt = DecisionTreeClassifier(random_state=12345, max_depth=depth)\n",
    "    model_dt.fit(tf_idf_train, target_train) \n",
    "    predictions_dt_valid = model_dt.predict(tf_idf_valid)\n",
    "    result_dt = f1_score(target_valid, predictions_dt_valid) \n",
    "    if result_dt > best_result:\n",
    "        best_model = model_dt\n",
    "        best_result_dt = result_dt\n",
    "        best_depth_dt = depth\n",
    "\n",
    "print('F1 модели дерева решений на валидационной выборке:', best_result_dt.round(3), 'Глубина дерева:', best_depth_dt)"
   ]
  },
  {
   "cell_type": "markdown",
   "metadata": {},
   "source": [
    "Модель дерева решений на валидационных данных не показала минимально необходимой величины F1-меры - 0.699 ниже требуемых 0.75, поэтому обучим следующую модель."
   ]
  },
  {
   "cell_type": "code",
   "execution_count": 20,
   "metadata": {
    "scrolled": false
   },
   "outputs": [
    {
     "name": "stdout",
     "output_type": "stream",
     "text": [
      "Learning rate set to 0.5\n",
      "0:\tlearn: 0.3551919\ttotal: 1.08s\tremaining: 53.2s\n",
      "10:\tlearn: 0.1804782\ttotal: 9.18s\tremaining: 32.6s\n",
      "20:\tlearn: 0.1603798\ttotal: 17.3s\tremaining: 23.9s\n",
      "30:\tlearn: 0.1479137\ttotal: 25s\tremaining: 15.3s\n",
      "40:\tlearn: 0.1389934\ttotal: 32.9s\tremaining: 7.23s\n",
      "49:\tlearn: 0.1330212\ttotal: 40.3s\tremaining: 0us\n",
      "F1 cat-бустинга на валидационной выборке: 0.733\n",
      "CPU times: total: 3min 30s\n",
      "Wall time: 47.3 s\n"
     ]
    }
   ],
   "source": [
    "%%time\n",
    "\n",
    "# обучение модели cat-бустинга\n",
    "\n",
    "model_cb = CatBoostClassifier(loss_function=\"Logloss\", iterations=50)\n",
    "model_cb.fit(tf_idf_train, target_train, verbose=10)\n",
    "predictions_cb_valid = model_cb.predict(tf_idf_valid)\n",
    "f1_score_cb = f1_score(target_valid, predictions_cb_valid).round(3)\n",
    "print('F1 cat-бустинга на валидационной выборке:', f1_score_cb)"
   ]
  },
  {
   "cell_type": "markdown",
   "metadata": {},
   "source": [
    "Модель cat-бустинга на валидационных данных не показала минимально необходимой величины F1-меры - 0.733 ниже требуемых 0.75, поэтому обучим следующую модель."
   ]
  },
  {
   "cell_type": "code",
   "execution_count": 24,
   "metadata": {},
   "outputs": [
    {
     "name": "stdout",
     "output_type": "stream",
     "text": [
      "F1 модели lgbm на валидационной выборке: 0.777\n",
      "CPU times: total: 1min 21s\n",
      "Wall time: 35.3 s\n"
     ]
    }
   ],
   "source": [
    "%%time\n",
    "\n",
    "# обучение модели LightGBM\n",
    "\n",
    "model_lgbm = LGBMClassifier(verbose=-1, learning_rate=0.1, num_leaves=100, random_state=12345)\n",
    "model_lgbm.fit(tf_idf_train, target_train)\n",
    "predictions_lgbm_valid = model_lgbm.predict(tf_idf_valid)\n",
    "f1_score_lgbm = f1_score(target_valid, predictions_lgbm_valid).round(3)\n",
    "print('F1 модели lgbm на валидационной выборке:', f1_score_lgbm)"
   ]
  },
  {
   "cell_type": "markdown",
   "metadata": {},
   "source": [
    "Модель lgbm на валидационных данных показала минимально необходимую величину F1-меры - 0.777 выше требуемых 0.75."
   ]
  },
  {
   "cell_type": "code",
   "execution_count": 26,
   "metadata": {},
   "outputs": [
    {
     "data": {
      "text/html": [
       "<div>\n",
       "<style scoped>\n",
       "    .dataframe tbody tr th:only-of-type {\n",
       "        vertical-align: middle;\n",
       "    }\n",
       "\n",
       "    .dataframe tbody tr th {\n",
       "        vertical-align: top;\n",
       "    }\n",
       "\n",
       "    .dataframe thead th {\n",
       "        text-align: right;\n",
       "    }\n",
       "</style>\n",
       "<table border=\"1\" class=\"dataframe\">\n",
       "  <thead>\n",
       "    <tr style=\"text-align: right;\">\n",
       "      <th></th>\n",
       "      <th>F1_score</th>\n",
       "    </tr>\n",
       "  </thead>\n",
       "  <tbody>\n",
       "    <tr>\n",
       "      <th>LGBMClassifier</th>\n",
       "      <td>0.777000</td>\n",
       "    </tr>\n",
       "    <tr>\n",
       "      <th>CatBoost</th>\n",
       "      <td>0.733000</td>\n",
       "    </tr>\n",
       "    <tr>\n",
       "      <th>LogisticRegression</th>\n",
       "      <td>0.732000</td>\n",
       "    </tr>\n",
       "    <tr>\n",
       "      <th>DecisionTree</th>\n",
       "      <td>0.699343</td>\n",
       "    </tr>\n",
       "  </tbody>\n",
       "</table>\n",
       "</div>"
      ],
      "text/plain": [
       "                    F1_score\n",
       "LGBMClassifier      0.777000\n",
       "CatBoost            0.733000\n",
       "LogisticRegression  0.732000\n",
       "DecisionTree        0.699343"
      ]
     },
     "execution_count": 26,
     "metadata": {},
     "output_type": "execute_result"
    }
   ],
   "source": [
    "# подготовка сводной таблицы результатов\n",
    "\n",
    "result = pd.DataFrame({\n",
    "    'F1_score': [f1_score_lgbm, f1_score_cb, f1_score_lr, best_result_dt],\n",
    "    },\n",
    "    index=['LGBMClassifier', 'CatBoost', 'LogisticRegression', 'DecisionTree']\n",
    ")\n",
    "pd.set_option('display.max_colwidth', None)\n",
    "result"
   ]
  },
  {
   "cell_type": "markdown",
   "metadata": {},
   "source": [
    "Самый высокий результат f1-меры на валидационных данных показала модель lgbm - 0.777, что выше требуемых 0.75, поэтому проверим данную модель на тестовой выборке."
   ]
  },
  {
   "cell_type": "markdown",
   "metadata": {},
   "source": [
    "## Выбор лучшей модели"
   ]
  },
  {
   "cell_type": "code",
   "execution_count": 23,
   "metadata": {},
   "outputs": [
    {
     "name": "stdout",
     "output_type": "stream",
     "text": [
      "F1 модели lgbm на тестовой выборке: 0.773\n"
     ]
    }
   ],
   "source": [
    "# проверка модели lgbm на тестовой выборке\n",
    "\n",
    "predictions_lgbm_test = model_lgbm.predict(tf_idf_test)\n",
    "print('F1 модели lgbm на тестовой выборке:', f1_score(target_test, predictions_lgbm_test).round(3))"
   ]
  },
  {
   "cell_type": "markdown",
   "metadata": {},
   "source": [
    "Модель lgbm на тестовых данных также показала величину F1-меры выше требуемых 0.75, а именно 0.773, поэтому рекомендуем заказчику внедрить данную модель."
   ]
  },
  {
   "cell_type": "markdown",
   "metadata": {},
   "source": [
    "## Выводы"
   ]
  },
  {
   "cell_type": "markdown",
   "metadata": {},
   "source": [
    "Интернет-магазин «Викишоп» запускает новый сервис, позволяющих пользоватям редактировать и дополнять описания товаров, как в вики-сообществах, то есть клиенты предлагают свои правки и комментируют изменения других. Магазину нужен инструмент, который будет искать токсичные комментарии и отправлять их на модерацию.\n",
    "\n",
    "Задача: Обучить модель классифицировать комментарии на позитивные и негативные со значением метрики качества F1 не меньше 0.75.\n",
    "\n",
    "Заказчик предоставил набор данных с разметкой о токсичности правок."
   ]
  },
  {
   "cell_type": "markdown",
   "metadata": {},
   "source": [
    "**В ходе подготовки данных** были проанализированы:\n",
    "\n",
    "1. Содержание датафрейма - показало наличие в таблице релевантных данных, за исключением одного столбца, содержащего неидентифицированные данные, который был удален.\n",
    "2. Пропуски и дубликаты - отсуствовали в датафрейме.\n",
    "3. Содержание датафрейма - было приведено к строчному регистру.\n",
    "4. Баланс классов - наблюдается ярко выраженный дисбаланс.\n",
    "5. Добавлен столбец с лемматизированным текстом, а также удалены дубликаты после лемматизаци и столбец с исходным текстом комментариев.\n",
    "\n",
    "Для последующего обучения и выбора моделей данные были разделены разделение на обучающую, валидационную и тестовую выборки в соотношении 3:1:1, в каждой выборке выделены параметр в формате корпуса текста и целевой признак. Для параметров в выборках рассчитан TF-IDF матрицы."
   ]
  },
  {
   "cell_type": "markdown",
   "metadata": {},
   "source": [
    "**В рамках обучения** были исследованы следующие модели, показавшие результаты F1-меры:\n",
    "\n",
    "| |F1-score|\n",
    "|:-|:--------:|\n",
    "|LGBMClassifier|\t0.777|\n",
    "|CatBoost|\t0.733|\n",
    "|LogisticRegression|\t0.732|\n",
    "|DecisionTree|\t0.699|\n",
    "\n",
    "Модель LightGBM смогла обучиться и достичь требуемого показателя F1-меры в 0.78 на валидационной выборке, поэтому данная модель была использована для проверки качества на тестовой выборке."
   ]
  },
  {
   "cell_type": "markdown",
   "metadata": {},
   "source": [
    "**В ходе тестирования** модель lgbm также показала величину F1-меры выше требуемых 0.75, а именно 0.773 на тестовых данных, поэтому рекомендуем заказчику внедрить данную модель."
   ]
  }
 ],
 "metadata": {
  "ExecuteTimeLog": [
   {
    "duration": 483,
    "start_time": "2024-02-17T13:37:49.150Z"
   },
   {
    "duration": 2519,
    "start_time": "2024-02-17T13:38:27.828Z"
   },
   {
    "duration": 45,
    "start_time": "2024-02-17T13:39:00.183Z"
   },
   {
    "duration": 39,
    "start_time": "2024-02-17T13:39:25.169Z"
   },
   {
    "duration": 263,
    "start_time": "2024-02-17T13:41:18.122Z"
   },
   {
    "duration": 42,
    "start_time": "2024-02-17T13:55:41.498Z"
   },
   {
    "duration": 1023,
    "start_time": "2024-02-17T14:01:00.458Z"
   },
   {
    "duration": 5,
    "start_time": "2024-02-17T14:03:57.443Z"
   },
   {
    "duration": 3,
    "start_time": "2024-02-17T14:06:12.121Z"
   },
   {
    "duration": 93,
    "start_time": "2024-02-17T14:12:02.372Z"
   },
   {
    "duration": 2784,
    "start_time": "2024-02-17T14:15:29.346Z"
   },
   {
    "duration": 1391,
    "start_time": "2024-02-17T14:16:32.837Z"
   },
   {
    "duration": 2504,
    "start_time": "2024-02-17T14:16:34.231Z"
   },
   {
    "duration": 44,
    "start_time": "2024-02-17T14:16:36.737Z"
   },
   {
    "duration": 280,
    "start_time": "2024-02-17T14:16:36.784Z"
   },
   {
    "duration": 38,
    "start_time": "2024-02-17T14:16:37.066Z"
   },
   {
    "duration": 46260,
    "start_time": "2024-02-17T14:16:37.106Z"
   },
   {
    "duration": 1488,
    "start_time": "2024-02-17T14:18:58.352Z"
   },
   {
    "duration": 2499,
    "start_time": "2024-02-17T14:18:59.842Z"
   },
   {
    "duration": 45,
    "start_time": "2024-02-17T14:19:02.342Z"
   },
   {
    "duration": 283,
    "start_time": "2024-02-17T14:19:02.388Z"
   },
   {
    "duration": 41,
    "start_time": "2024-02-17T14:19:02.673Z"
   },
   {
    "duration": 401692,
    "start_time": "2024-02-17T14:19:02.715Z"
   },
   {
    "duration": 10,
    "start_time": "2024-02-17T14:25:59.456Z"
   },
   {
    "duration": 8,
    "start_time": "2024-02-17T14:26:07.252Z"
   },
   {
    "duration": 1451,
    "start_time": "2024-02-17T14:27:42.349Z"
   },
   {
    "duration": 2455,
    "start_time": "2024-02-17T14:27:43.802Z"
   },
   {
    "duration": 45,
    "start_time": "2024-02-17T14:27:46.258Z"
   },
   {
    "duration": 272,
    "start_time": "2024-02-17T14:27:46.305Z"
   },
   {
    "duration": 40,
    "start_time": "2024-02-17T14:27:46.580Z"
   },
   {
    "duration": 2230,
    "start_time": "2024-02-17T14:27:46.621Z"
   },
   {
    "duration": 4,
    "start_time": "2024-02-17T14:27:48.858Z"
   },
   {
    "duration": 30933,
    "start_time": "2024-02-17T14:27:48.863Z"
   },
   {
    "duration": 0,
    "start_time": "2024-02-17T14:28:19.798Z"
   },
   {
    "duration": 4,
    "start_time": "2024-02-17T14:28:23.979Z"
   },
   {
    "duration": 11,
    "start_time": "2024-02-17T14:31:02.202Z"
   },
   {
    "duration": 4,
    "start_time": "2024-02-17T14:31:05.923Z"
   },
   {
    "duration": 859,
    "start_time": "2024-02-17T14:31:30.066Z"
   },
   {
    "duration": 859,
    "start_time": "2024-02-17T14:31:52.572Z"
   },
   {
    "duration": 15,
    "start_time": "2024-02-17T14:32:24.516Z"
   },
   {
    "duration": 18,
    "start_time": "2024-02-17T14:32:59.840Z"
   },
   {
    "duration": 14,
    "start_time": "2024-02-17T14:33:33.164Z"
   },
   {
    "duration": 16,
    "start_time": "2024-02-17T14:34:04.038Z"
   },
   {
    "duration": 1960829,
    "start_time": "2024-02-17T14:36:45.259Z"
   },
   {
    "duration": 3,
    "start_time": "2024-02-17T19:41:42.897Z"
   },
   {
    "duration": 1445,
    "start_time": "2024-02-18T17:46:02.472Z"
   },
   {
    "duration": 3347,
    "start_time": "2024-02-18T17:46:03.919Z"
   },
   {
    "duration": 44,
    "start_time": "2024-02-18T17:46:07.268Z"
   },
   {
    "duration": 270,
    "start_time": "2024-02-18T17:46:07.314Z"
   },
   {
    "duration": 38,
    "start_time": "2024-02-18T17:46:07.587Z"
   },
   {
    "duration": 1499,
    "start_time": "2024-02-18T17:48:17.559Z"
   },
   {
    "duration": 1029,
    "start_time": "2024-02-18T17:48:19.060Z"
   },
   {
    "duration": 58,
    "start_time": "2024-02-18T17:48:20.091Z"
   },
   {
    "duration": 318,
    "start_time": "2024-02-18T17:48:20.151Z"
   },
   {
    "duration": 62,
    "start_time": "2024-02-18T17:48:20.471Z"
   },
   {
    "duration": 2,
    "start_time": "2024-02-18T17:48:20.536Z"
   },
   {
    "duration": 4,
    "start_time": "2024-02-18T17:48:20.540Z"
   },
   {
    "duration": 7,
    "start_time": "2024-02-18T17:48:20.546Z"
   },
   {
    "duration": 566,
    "start_time": "2024-02-18T17:50:13.571Z"
   },
   {
    "duration": 197,
    "start_time": "2024-02-18T17:50:31.793Z"
   },
   {
    "duration": 342,
    "start_time": "2024-02-18T17:56:54.148Z"
   },
   {
    "duration": 2342,
    "start_time": "2024-02-18T18:02:34.931Z"
   },
   {
    "duration": 162,
    "start_time": "2024-02-18T18:03:03.231Z"
   },
   {
    "duration": 11,
    "start_time": "2024-02-18T18:05:15.715Z"
   },
   {
    "duration": 3,
    "start_time": "2024-02-18T18:05:20.734Z"
   },
   {
    "duration": 37515,
    "start_time": "2024-02-18T18:05:29.109Z"
   },
   {
    "duration": 101128,
    "start_time": "2024-02-18T18:06:49.581Z"
   },
   {
    "duration": 4,
    "start_time": "2024-02-18T18:12:13.104Z"
   },
   {
    "duration": 384,
    "start_time": "2024-02-18T18:12:15.958Z"
   },
   {
    "duration": 487,
    "start_time": "2024-02-18T18:13:36.305Z"
   },
   {
    "duration": 10,
    "start_time": "2024-02-18T18:13:44.272Z"
   },
   {
    "duration": 1453,
    "start_time": "2024-02-18T18:13:53.688Z"
   },
   {
    "duration": 999,
    "start_time": "2024-02-18T18:13:55.143Z"
   },
   {
    "duration": 42,
    "start_time": "2024-02-18T18:13:56.143Z"
   },
   {
    "duration": 275,
    "start_time": "2024-02-18T18:13:56.187Z"
   },
   {
    "duration": 53,
    "start_time": "2024-02-18T18:13:56.465Z"
   },
   {
    "duration": 307,
    "start_time": "2024-02-18T18:13:56.520Z"
   },
   {
    "duration": 339,
    "start_time": "2024-02-18T18:13:56.829Z"
   },
   {
    "duration": 3,
    "start_time": "2024-02-18T18:13:57.169Z"
   },
   {
    "duration": 6,
    "start_time": "2024-02-18T18:13:57.180Z"
   },
   {
    "duration": 2441,
    "start_time": "2024-02-18T18:13:57.188Z"
   },
   {
    "duration": 92093,
    "start_time": "2024-02-18T18:13:59.631Z"
   },
   {
    "duration": 412,
    "start_time": "2024-02-18T18:15:31.726Z"
   },
   {
    "duration": 568,
    "start_time": "2024-02-18T18:15:32.140Z"
   },
   {
    "duration": 0,
    "start_time": "2024-02-18T18:15:32.710Z"
   },
   {
    "duration": 10,
    "start_time": "2024-02-18T18:21:57.345Z"
   },
   {
    "duration": 12,
    "start_time": "2024-02-18T18:22:14.271Z"
   },
   {
    "duration": 4,
    "start_time": "2024-02-18T18:22:34.879Z"
   },
   {
    "duration": 909,
    "start_time": "2024-02-18T18:22:34.886Z"
   },
   {
    "duration": 36,
    "start_time": "2024-02-18T18:22:35.797Z"
   },
   {
    "duration": 273,
    "start_time": "2024-02-18T18:22:35.834Z"
   },
   {
    "duration": 37,
    "start_time": "2024-02-18T18:22:36.110Z"
   },
   {
    "duration": 307,
    "start_time": "2024-02-18T18:22:36.149Z"
   },
   {
    "duration": 136,
    "start_time": "2024-02-18T18:22:36.458Z"
   },
   {
    "duration": 3,
    "start_time": "2024-02-18T18:22:36.596Z"
   },
   {
    "duration": 6,
    "start_time": "2024-02-18T18:22:36.600Z"
   },
   {
    "duration": 2425,
    "start_time": "2024-02-18T18:22:49.010Z"
   },
   {
    "duration": 94229,
    "start_time": "2024-02-18T18:23:00.603Z"
   },
   {
    "duration": 390,
    "start_time": "2024-02-18T18:24:43.398Z"
   },
   {
    "duration": 54,
    "start_time": "2024-02-18T18:24:48.214Z"
   },
   {
    "duration": 441,
    "start_time": "2024-02-18T18:25:00.123Z"
   },
   {
    "duration": 437,
    "start_time": "2024-02-18T18:26:57.479Z"
   },
   {
    "duration": 473,
    "start_time": "2024-02-18T18:27:01.927Z"
   },
   {
    "duration": 450,
    "start_time": "2024-02-18T18:27:12.891Z"
   },
   {
    "duration": 11,
    "start_time": "2024-02-18T18:27:46.994Z"
   },
   {
    "duration": 10,
    "start_time": "2024-02-18T18:29:22.159Z"
   },
   {
    "duration": 1409,
    "start_time": "2024-02-18T18:30:42.084Z"
   },
   {
    "duration": 990,
    "start_time": "2024-02-18T18:30:43.495Z"
   },
   {
    "duration": 48,
    "start_time": "2024-02-18T18:30:44.487Z"
   },
   {
    "duration": 301,
    "start_time": "2024-02-18T18:30:44.537Z"
   },
   {
    "duration": 43,
    "start_time": "2024-02-18T18:30:44.840Z"
   },
   {
    "duration": 335,
    "start_time": "2024-02-18T18:30:44.884Z"
   },
   {
    "duration": 333,
    "start_time": "2024-02-18T18:30:45.221Z"
   },
   {
    "duration": 3,
    "start_time": "2024-02-18T18:30:45.555Z"
   },
   {
    "duration": 13,
    "start_time": "2024-02-18T18:30:45.559Z"
   },
   {
    "duration": 2326,
    "start_time": "2024-02-18T18:30:45.574Z"
   },
   {
    "duration": 91639,
    "start_time": "2024-02-18T18:30:47.902Z"
   },
   {
    "duration": 441,
    "start_time": "2024-02-18T18:32:19.543Z"
   },
   {
    "duration": 472,
    "start_time": "2024-02-18T18:32:19.986Z"
   },
   {
    "duration": 3,
    "start_time": "2024-02-18T18:32:20.460Z"
   },
   {
    "duration": 462,
    "start_time": "2024-02-18T18:49:14.034Z"
   },
   {
    "duration": 206,
    "start_time": "2024-02-18T18:52:42.263Z"
   },
   {
    "duration": 167,
    "start_time": "2024-02-18T18:55:14.137Z"
   },
   {
    "duration": 1387,
    "start_time": "2024-02-18T18:55:58.239Z"
   },
   {
    "duration": 1120,
    "start_time": "2024-02-18T18:55:59.628Z"
   },
   {
    "duration": 58,
    "start_time": "2024-02-18T18:56:00.750Z"
   },
   {
    "duration": 329,
    "start_time": "2024-02-18T18:56:00.813Z"
   },
   {
    "duration": 51,
    "start_time": "2024-02-18T18:56:01.145Z"
   },
   {
    "duration": 339,
    "start_time": "2024-02-18T18:56:01.198Z"
   },
   {
    "duration": 376,
    "start_time": "2024-02-18T18:56:01.539Z"
   },
   {
    "duration": 2,
    "start_time": "2024-02-18T18:56:01.917Z"
   },
   {
    "duration": 28,
    "start_time": "2024-02-18T18:56:01.921Z"
   },
   {
    "duration": 2788,
    "start_time": "2024-02-18T18:56:01.951Z"
   },
   {
    "duration": 100216,
    "start_time": "2024-02-18T18:56:04.741Z"
   },
   {
    "duration": 480,
    "start_time": "2024-02-18T18:57:44.959Z"
   },
   {
    "duration": 275,
    "start_time": "2024-02-18T18:57:45.441Z"
   },
   {
    "duration": 3,
    "start_time": "2024-02-18T18:57:45.719Z"
   },
   {
    "duration": 3,
    "start_time": "2024-02-18T19:08:56.917Z"
   },
   {
    "duration": 31,
    "start_time": "2024-02-18T19:09:09.590Z"
   },
   {
    "duration": 6,
    "start_time": "2024-02-18T19:12:08.034Z"
   },
   {
    "duration": 7756,
    "start_time": "2024-02-18T19:14:35.596Z"
   },
   {
    "duration": 8080,
    "start_time": "2024-02-18T19:16:40.380Z"
   },
   {
    "duration": 52,
    "start_time": "2024-02-18T19:23:59.778Z"
   },
   {
    "duration": 32963,
    "start_time": "2024-02-18T19:24:53.576Z"
   },
   {
    "duration": 5,
    "start_time": "2024-02-18T19:28:32.850Z"
   },
   {
    "duration": 7154,
    "start_time": "2024-02-18T19:28:37.402Z"
   },
   {
    "duration": 30597,
    "start_time": "2024-02-18T19:42:41.730Z"
   },
   {
    "duration": 30185,
    "start_time": "2024-02-18T19:49:04.219Z"
   },
   {
    "duration": 29275,
    "start_time": "2024-02-18T19:50:06.052Z"
   },
   {
    "duration": 31480,
    "start_time": "2024-02-18T19:50:55.848Z"
   },
   {
    "duration": 29460,
    "start_time": "2024-02-18T19:56:15.422Z"
   },
   {
    "duration": 41047,
    "start_time": "2024-02-18T20:01:45.621Z"
   },
   {
    "duration": 125039,
    "start_time": "2024-02-18T20:04:24.664Z"
   },
   {
    "duration": 185745,
    "start_time": "2024-02-18T20:08:29.474Z"
   },
   {
    "duration": 118,
    "start_time": "2024-02-18T20:17:48.976Z"
   },
   {
    "duration": 484310,
    "start_time": "2024-02-18T20:18:10.194Z"
   },
   {
    "duration": 104,
    "start_time": "2024-02-18T20:27:39.127Z"
   },
   {
    "duration": 10,
    "start_time": "2024-02-18T20:27:52.682Z"
   },
   {
    "duration": 3,
    "start_time": "2024-02-18T20:28:05.270Z"
   },
   {
    "duration": 45119,
    "start_time": "2024-02-18T20:28:15.999Z"
   },
   {
    "duration": 10,
    "start_time": "2024-02-18T20:30:26.742Z"
   },
   {
    "duration": 375318,
    "start_time": "2024-02-18T20:34:49.328Z"
   },
   {
    "duration": 84296,
    "start_time": "2024-02-18T20:41:50.319Z"
   },
   {
    "duration": 54,
    "start_time": "2024-02-18T20:44:57.991Z"
   },
   {
    "duration": 145,
    "start_time": "2024-02-18T20:47:16.212Z"
   },
   {
    "duration": 4,
    "start_time": "2024-02-18T20:50:55.044Z"
   },
   {
    "duration": 120578,
    "start_time": "2024-02-18T20:52:33.189Z"
   },
   {
    "duration": 157474,
    "start_time": "2024-02-18T20:58:22.318Z"
   },
   {
    "duration": 1418,
    "start_time": "2024-02-18T21:08:13.424Z"
   },
   {
    "duration": 1015,
    "start_time": "2024-02-18T21:08:14.845Z"
   },
   {
    "duration": 46,
    "start_time": "2024-02-18T21:08:15.862Z"
   },
   {
    "duration": 273,
    "start_time": "2024-02-18T21:08:15.910Z"
   },
   {
    "duration": 39,
    "start_time": "2024-02-18T21:08:16.186Z"
   },
   {
    "duration": 319,
    "start_time": "2024-02-18T21:08:16.226Z"
   },
   {
    "duration": 407,
    "start_time": "2024-02-18T21:08:16.546Z"
   },
   {
    "duration": 2,
    "start_time": "2024-02-18T21:08:16.954Z"
   },
   {
    "duration": 19,
    "start_time": "2024-02-18T21:08:16.958Z"
   },
   {
    "duration": 2282,
    "start_time": "2024-02-18T21:08:16.979Z"
   },
   {
    "duration": 88402,
    "start_time": "2024-02-18T21:08:19.263Z"
   },
   {
    "duration": 425,
    "start_time": "2024-02-18T21:09:47.667Z"
   },
   {
    "duration": 253,
    "start_time": "2024-02-18T21:09:48.094Z"
   },
   {
    "duration": 31,
    "start_time": "2024-02-18T21:09:48.350Z"
   },
   {
    "duration": 6,
    "start_time": "2024-02-18T21:09:48.383Z"
   },
   {
    "duration": 7265,
    "start_time": "2024-02-18T21:09:48.391Z"
   },
   {
    "duration": 2,
    "start_time": "2024-02-18T21:09:55.658Z"
   },
   {
    "duration": 30525,
    "start_time": "2024-02-18T21:09:55.661Z"
   },
   {
    "duration": 29899,
    "start_time": "2024-02-18T21:10:26.188Z"
   },
   {
    "duration": 82338,
    "start_time": "2024-02-18T21:10:56.089Z"
   },
   {
    "duration": 156486,
    "start_time": "2024-02-18T21:12:18.429Z"
   },
   {
    "duration": 1493,
    "start_time": "2024-02-19T17:22:09.594Z"
   },
   {
    "duration": 2564,
    "start_time": "2024-02-19T17:22:11.089Z"
   },
   {
    "duration": 49,
    "start_time": "2024-02-19T17:22:13.655Z"
   },
   {
    "duration": 276,
    "start_time": "2024-02-19T17:22:13.706Z"
   },
   {
    "duration": 38,
    "start_time": "2024-02-19T17:22:13.984Z"
   },
   {
    "duration": 296,
    "start_time": "2024-02-19T17:22:14.024Z"
   },
   {
    "duration": 703,
    "start_time": "2024-02-19T17:22:14.322Z"
   },
   {
    "duration": 3,
    "start_time": "2024-02-19T17:22:15.027Z"
   },
   {
    "duration": 39,
    "start_time": "2024-02-19T17:22:15.032Z"
   },
   {
    "duration": 2411,
    "start_time": "2024-02-19T17:22:15.073Z"
   },
   {
    "duration": 89393,
    "start_time": "2024-02-19T17:22:17.486Z"
   },
   {
    "duration": 444,
    "start_time": "2024-02-19T17:23:46.880Z"
   },
   {
    "duration": 249,
    "start_time": "2024-02-19T17:23:47.326Z"
   },
   {
    "duration": 45,
    "start_time": "2024-02-19T17:27:26.931Z"
   },
   {
    "duration": 9,
    "start_time": "2024-02-19T17:28:18.143Z"
   },
   {
    "duration": 7528,
    "start_time": "2024-02-19T17:29:00.249Z"
   },
   {
    "duration": 39136,
    "start_time": "2024-02-19T17:31:04.929Z"
   },
   {
    "duration": 7175,
    "start_time": "2024-02-19T17:36:01.061Z"
   },
   {
    "duration": 37304,
    "start_time": "2024-02-19T17:39:16.981Z"
   },
   {
    "duration": 18190,
    "start_time": "2024-02-19T17:43:14.073Z"
   },
   {
    "duration": 22180,
    "start_time": "2024-02-19T17:45:18.455Z"
   },
   {
    "duration": 177137,
    "start_time": "2024-02-19T17:46:02.484Z"
   },
   {
    "duration": 41135,
    "start_time": "2024-02-19T17:52:15.525Z"
   },
   {
    "duration": 41231,
    "start_time": "2024-02-19T17:53:31.946Z"
   },
   {
    "duration": 40867,
    "start_time": "2024-02-19T17:59:01.668Z"
   },
   {
    "duration": 40535,
    "start_time": "2024-02-19T18:01:04.994Z"
   },
   {
    "duration": 40230,
    "start_time": "2024-02-19T18:05:49.660Z"
   },
   {
    "duration": 4,
    "start_time": "2024-02-19T18:13:07.925Z"
   },
   {
    "duration": 111263,
    "start_time": "2024-02-19T18:16:12.302Z"
   },
   {
    "duration": 111708,
    "start_time": "2024-02-19T18:18:53.471Z"
   },
   {
    "duration": 12,
    "start_time": "2024-02-19T18:42:28.963Z"
   },
   {
    "duration": 11,
    "start_time": "2024-02-19T18:43:36.610Z"
   },
   {
    "duration": 36,
    "start_time": "2024-02-19T18:43:49.115Z"
   },
   {
    "duration": 392893,
    "start_time": "2024-02-19T18:43:53.301Z"
   },
   {
    "duration": 6491,
    "start_time": "2024-02-19T18:51:30.788Z"
   },
   {
    "duration": 1578,
    "start_time": "2024-02-19T18:55:48.253Z"
   },
   {
    "duration": 1014,
    "start_time": "2024-02-19T18:55:49.833Z"
   },
   {
    "duration": 44,
    "start_time": "2024-02-19T18:55:50.849Z"
   },
   {
    "duration": 277,
    "start_time": "2024-02-19T18:55:50.895Z"
   },
   {
    "duration": 40,
    "start_time": "2024-02-19T18:55:51.174Z"
   },
   {
    "duration": 322,
    "start_time": "2024-02-19T18:55:51.216Z"
   },
   {
    "duration": 340,
    "start_time": "2024-02-19T18:55:51.540Z"
   },
   {
    "duration": 2,
    "start_time": "2024-02-19T18:55:51.882Z"
   },
   {
    "duration": 7,
    "start_time": "2024-02-19T18:55:51.885Z"
   },
   {
    "duration": 2310,
    "start_time": "2024-02-19T18:55:51.894Z"
   },
   {
    "duration": 90164,
    "start_time": "2024-02-19T18:55:54.206Z"
   },
   {
    "duration": 439,
    "start_time": "2024-02-19T18:57:24.372Z"
   },
   {
    "duration": 253,
    "start_time": "2024-02-19T18:57:24.813Z"
   },
   {
    "duration": 40,
    "start_time": "2024-02-19T18:57:25.068Z"
   },
   {
    "duration": 8,
    "start_time": "2024-02-19T18:57:25.109Z"
   },
   {
    "duration": 7476,
    "start_time": "2024-02-19T18:57:25.119Z"
   },
   {
    "duration": 3,
    "start_time": "2024-02-19T18:57:32.596Z"
   },
   {
    "duration": 37166,
    "start_time": "2024-02-19T18:57:32.600Z"
   },
   {
    "duration": 164404,
    "start_time": "2024-02-19T18:58:09.768Z"
   },
   {
    "duration": 39603,
    "start_time": "2024-02-19T19:00:54.173Z"
   },
   {
    "duration": 112255,
    "start_time": "2024-02-19T19:01:33.777Z"
   },
   {
    "duration": 372974,
    "start_time": "2024-02-19T19:03:26.034Z"
   },
   {
    "duration": 6297,
    "start_time": "2024-02-19T19:09:39.009Z"
   },
   {
    "duration": 4591,
    "start_time": "2024-02-20T18:54:55.433Z"
   },
   {
    "duration": 3234,
    "start_time": "2024-02-20T18:55:38.587Z"
   },
   {
    "duration": 43,
    "start_time": "2024-02-20T18:55:41.823Z"
   },
   {
    "duration": 264,
    "start_time": "2024-02-20T18:55:42.861Z"
   },
   {
    "duration": 39,
    "start_time": "2024-02-20T18:55:44.394Z"
   },
   {
    "duration": 298,
    "start_time": "2024-02-20T18:55:45.937Z"
   },
   {
    "duration": 456,
    "start_time": "2024-02-20T18:55:47.359Z"
   },
   {
    "duration": 4,
    "start_time": "2024-02-20T18:55:52.498Z"
   },
   {
    "duration": 2,
    "start_time": "2024-02-20T18:55:55.783Z"
   },
   {
    "duration": 2378,
    "start_time": "2024-02-20T18:57:15.840Z"
   },
   {
    "duration": 471,
    "start_time": "2024-02-20T19:10:29.606Z"
   },
   {
    "duration": 20,
    "start_time": "2024-02-20T19:11:17.798Z"
   },
   {
    "duration": 11669,
    "start_time": "2024-02-20T19:12:10.852Z"
   },
   {
    "duration": 5,
    "start_time": "2024-02-20T19:13:02.635Z"
   },
   {
    "duration": 98,
    "start_time": "2024-02-20T19:13:12.519Z"
   },
   {
    "duration": 19,
    "start_time": "2024-02-20T19:13:23.242Z"
   },
   {
    "duration": 90,
    "start_time": "2024-02-20T19:13:36.757Z"
   },
   {
    "duration": 680,
    "start_time": "2024-02-20T19:13:53.154Z"
   },
   {
    "duration": 494,
    "start_time": "2024-02-20T19:14:04.834Z"
   },
   {
    "duration": 494,
    "start_time": "2024-02-20T19:14:26.277Z"
   },
   {
    "duration": 23,
    "start_time": "2024-02-20T19:27:35.504Z"
   },
   {
    "duration": 13610,
    "start_time": "2024-02-20T19:27:56.321Z"
   },
   {
    "duration": 2509925,
    "start_time": "2024-02-20T19:28:25.515Z"
   },
   {
    "duration": 454,
    "start_time": "2024-02-20T20:11:58.740Z"
   },
   {
    "duration": 265,
    "start_time": "2024-02-20T20:12:10.606Z"
   },
   {
    "duration": 9,
    "start_time": "2024-02-20T20:12:39.906Z"
   },
   {
    "duration": 42,
    "start_time": "2024-02-20T20:12:55.989Z"
   },
   {
    "duration": 6,
    "start_time": "2024-02-20T20:13:00.099Z"
   },
   {
    "duration": 7745,
    "start_time": "2024-02-20T20:13:11.109Z"
   },
   {
    "duration": 2,
    "start_time": "2024-02-20T20:13:27.560Z"
   },
   {
    "duration": 48060,
    "start_time": "2024-02-20T20:13:38.436Z"
   },
   {
    "duration": 184661,
    "start_time": "2024-02-20T20:17:19.363Z"
   },
   {
    "duration": 42306,
    "start_time": "2024-02-20T20:21:57.405Z"
   },
   {
    "duration": 116608,
    "start_time": "2024-02-20T20:22:58.739Z"
   },
   {
    "duration": 256322,
    "start_time": "2024-02-20T20:33:32.770Z"
   },
   {
    "duration": 6099,
    "start_time": "2024-02-20T20:38:39.920Z"
   },
   {
    "duration": 3,
    "start_time": "2024-02-20T20:40:56.664Z"
   }
  ],
  "kernelspec": {
   "display_name": "Python 3 (ipykernel)",
   "language": "python",
   "name": "python3"
  },
  "language_info": {
   "codemirror_mode": {
    "name": "ipython",
    "version": 3
   },
   "file_extension": ".py",
   "mimetype": "text/x-python",
   "name": "python",
   "nbconvert_exporter": "python",
   "pygments_lexer": "ipython3",
   "version": "3.11.5"
  },
  "toc": {
   "base_numbering": 1,
   "nav_menu": {},
   "number_sections": true,
   "sideBar": true,
   "skip_h1_title": true,
   "title_cell": "Содержание",
   "title_sidebar": "Contents",
   "toc_cell": true,
   "toc_position": {
    "height": "calc(100% - 180px)",
    "left": "10px",
    "top": "150px",
    "width": "164.977px"
   },
   "toc_section_display": true,
   "toc_window_display": true
  }
 },
 "nbformat": 4,
 "nbformat_minor": 2
}
